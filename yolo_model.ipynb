{
 "cells": [
  {
   "cell_type": "code",
   "execution_count": 7,
   "id": "d62fb89d",
   "metadata": {},
   "outputs": [
    {
     "name": "stdout",
     "output_type": "stream",
     "text": [
      "Requirement already satisfied: ultralytics in c:\\users\\admin\\anaconda3\\lib\\site-packages (8.3.103)Note: you may need to restart the kernel to use updated packages.\n",
      "\n",
      "Requirement already satisfied: numpy<=2.1.1,>=1.23.0 in c:\\users\\admin\\anaconda3\\lib\\site-packages (from ultralytics) (1.24.3)\n",
      "Requirement already satisfied: matplotlib>=3.3.0 in c:\\users\\admin\\anaconda3\\lib\\site-packages (from ultralytics) (3.7.2)\n",
      "Requirement already satisfied: opencv-python>=4.6.0 in c:\\users\\admin\\anaconda3\\lib\\site-packages (from ultralytics) (4.11.0.86)\n",
      "Requirement already satisfied: pillow>=7.1.2 in c:\\users\\admin\\anaconda3\\lib\\site-packages (from ultralytics) (9.4.0)\n",
      "Requirement already satisfied: pyyaml>=5.3.1 in c:\\users\\admin\\anaconda3\\lib\\site-packages (from ultralytics) (6.0)\n",
      "Requirement already satisfied: requests>=2.23.0 in c:\\users\\admin\\anaconda3\\lib\\site-packages (from ultralytics) (2.31.0)\n",
      "Requirement already satisfied: scipy>=1.4.1 in c:\\users\\admin\\anaconda3\\lib\\site-packages (from ultralytics) (1.11.1)\n",
      "Requirement already satisfied: torch>=1.8.0 in c:\\users\\admin\\anaconda3\\lib\\site-packages (from ultralytics) (2.1.0)\n",
      "Requirement already satisfied: torchvision>=0.9.0 in c:\\users\\admin\\anaconda3\\lib\\site-packages (from ultralytics) (0.16.0)\n",
      "Requirement already satisfied: tqdm>=4.64.0 in c:\\users\\admin\\anaconda3\\lib\\site-packages (from ultralytics) (4.65.0)\n",
      "Requirement already satisfied: psutil in c:\\users\\admin\\anaconda3\\lib\\site-packages (from ultralytics) (5.9.0)\n",
      "Requirement already satisfied: py-cpuinfo in c:\\users\\admin\\anaconda3\\lib\\site-packages (from ultralytics) (8.0.0)\n",
      "Requirement already satisfied: pandas>=1.1.4 in c:\\users\\admin\\anaconda3\\lib\\site-packages (from ultralytics) (2.0.3)\n",
      "Requirement already satisfied: seaborn>=0.11.0 in c:\\users\\admin\\anaconda3\\lib\\site-packages (from ultralytics) (0.12.2)\n",
      "Requirement already satisfied: ultralytics-thop>=2.0.0 in c:\\users\\admin\\anaconda3\\lib\\site-packages (from ultralytics) (2.0.14)\n",
      "Requirement already satisfied: contourpy>=1.0.1 in c:\\users\\admin\\anaconda3\\lib\\site-packages (from matplotlib>=3.3.0->ultralytics) (1.0.5)\n",
      "Requirement already satisfied: cycler>=0.10 in c:\\users\\admin\\anaconda3\\lib\\site-packages (from matplotlib>=3.3.0->ultralytics) (0.11.0)\n",
      "Requirement already satisfied: fonttools>=4.22.0 in c:\\users\\admin\\anaconda3\\lib\\site-packages (from matplotlib>=3.3.0->ultralytics) (4.25.0)\n",
      "Requirement already satisfied: kiwisolver>=1.0.1 in c:\\users\\admin\\anaconda3\\lib\\site-packages (from matplotlib>=3.3.0->ultralytics) (1.4.4)\n",
      "Requirement already satisfied: packaging>=20.0 in c:\\users\\admin\\anaconda3\\lib\\site-packages (from matplotlib>=3.3.0->ultralytics) (23.1)\n",
      "Requirement already satisfied: pyparsing<3.1,>=2.3.1 in c:\\users\\admin\\anaconda3\\lib\\site-packages (from matplotlib>=3.3.0->ultralytics) (3.0.9)\n",
      "Requirement already satisfied: python-dateutil>=2.7 in c:\\users\\admin\\anaconda3\\lib\\site-packages (from matplotlib>=3.3.0->ultralytics) (2.8.2)\n",
      "Requirement already satisfied: pytz>=2020.1 in c:\\users\\admin\\anaconda3\\lib\\site-packages (from pandas>=1.1.4->ultralytics) (2023.3.post1)\n",
      "Requirement already satisfied: tzdata>=2022.1 in c:\\users\\admin\\anaconda3\\lib\\site-packages (from pandas>=1.1.4->ultralytics) (2023.3)\n",
      "Requirement already satisfied: charset-normalizer<4,>=2 in c:\\users\\admin\\anaconda3\\lib\\site-packages (from requests>=2.23.0->ultralytics) (2.0.4)\n",
      "Requirement already satisfied: idna<4,>=2.5 in c:\\users\\admin\\anaconda3\\lib\\site-packages (from requests>=2.23.0->ultralytics) (3.4)\n",
      "Requirement already satisfied: urllib3<3,>=1.21.1 in c:\\users\\admin\\anaconda3\\lib\\site-packages (from requests>=2.23.0->ultralytics) (1.26.16)\n",
      "Requirement already satisfied: certifi>=2017.4.17 in c:\\users\\admin\\anaconda3\\lib\\site-packages (from requests>=2.23.0->ultralytics) (2023.7.22)\n",
      "Requirement already satisfied: filelock in c:\\users\\admin\\anaconda3\\lib\\site-packages (from torch>=1.8.0->ultralytics) (3.9.0)\n",
      "Requirement already satisfied: typing-extensions in c:\\users\\admin\\anaconda3\\lib\\site-packages (from torch>=1.8.0->ultralytics) (4.7.1)\n",
      "Requirement already satisfied: sympy in c:\\users\\admin\\anaconda3\\lib\\site-packages (from torch>=1.8.0->ultralytics) (1.11.1)\n",
      "Requirement already satisfied: networkx in c:\\users\\admin\\anaconda3\\lib\\site-packages (from torch>=1.8.0->ultralytics) (3.1)\n",
      "Requirement already satisfied: jinja2 in c:\\users\\admin\\anaconda3\\lib\\site-packages (from torch>=1.8.0->ultralytics) (3.1.2)\n",
      "Requirement already satisfied: fsspec in c:\\users\\admin\\anaconda3\\lib\\site-packages (from torch>=1.8.0->ultralytics) (2023.4.0)\n",
      "Requirement already satisfied: colorama in c:\\users\\admin\\anaconda3\\lib\\site-packages (from tqdm>=4.64.0->ultralytics) (0.4.6)\n",
      "Requirement already satisfied: six>=1.5 in c:\\users\\admin\\anaconda3\\lib\\site-packages (from python-dateutil>=2.7->matplotlib>=3.3.0->ultralytics) (1.16.0)\n",
      "Requirement already satisfied: MarkupSafe>=2.0 in c:\\users\\admin\\anaconda3\\lib\\site-packages (from jinja2->torch>=1.8.0->ultralytics) (2.1.1)\n",
      "Requirement already satisfied: mpmath>=0.19 in c:\\users\\admin\\anaconda3\\lib\\site-packages (from sympy->torch>=1.8.0->ultralytics) (1.3.0)\n"
     ]
    }
   ],
   "source": [
    "pip install ultralytics\n"
   ]
  },
  {
   "cell_type": "code",
   "execution_count": 8,
   "id": "19a85089",
   "metadata": {},
   "outputs": [],
   "source": [
    "import cv2\n",
    "import numpy as np\n",
    "from ultralytics import YOLO\n",
    "\n",
    "# --------- Load YOLOv8 Model ---------\n",
    "model = YOLO(\"yolov8n.pt\")  # or yolov8s.pt for better accuracy\n",
    "\n",
    "# --------- Define Restricted Area ---------\n",
    "# Coordinates: [(x1, y1), (x2, y2), (x3, y3), (x4, y4)]\n",
    "restricted_area = np.array([(50, 300), (300, 300), (300, 450), (50, 450)])\n",
    "\n",
    "# --------- Load Video ---------\n",
    "video_path = r\"D:\\major_project_sus\\preprocessed_dataset\\Assault\\Assault002_x264_3\\10.pt\"\n",
    "cap = cv2.VideoCapture(video_path)\n",
    "\n",
    "while cap.isOpened():\n",
    "    ret, frame = cap.read()\n",
    "    if not ret:\n",
    "        break\n",
    "\n",
    "    results = model(frame)[0]  # Inference\n",
    "\n",
    "    # Draw restricted zone\n",
    "    cv2.polylines(frame, [restricted_area], isClosed=True, color=(0, 0, 255), thickness=2)\n",
    "    cv2.putText(frame, \"Restricted Area\", (restricted_area[0][0], restricted_area[0][1] - 10),\n",
    "                cv2.FONT_HERSHEY_SIMPLEX, 0.6, (0, 0, 255), 2)\n",
    "\n",
    "    for box in results.boxes:\n",
    "        cls_id = int(box.cls[0])\n",
    "        conf = float(box.conf[0])\n",
    "        if cls_id == 0 and conf > 0.5:  # Person class\n",
    "            x1, y1, x2, y2 = map(int, box.xyxy[0])\n",
    "            cx, cy = (x1 + x2) // 2, (y1 + y2) // 2  # Center of box\n",
    "\n",
    "            # Check if center point is in restricted area\n",
    "            inside = cv2.pointPolygonTest(restricted_area, (cx, cy), False) >= 0\n",
    "\n",
    "            color = (0, 255, 0) if not inside else (0, 0, 255)\n",
    "            label = \"Person\"\n",
    "            if inside:\n",
    "                label += \" - 🚨 Intrusion\"\n",
    "\n",
    "            # Draw box and label\n",
    "            cv2.rectangle(frame, (x1, y1), (x2, y2), color, 2)\n",
    "            cv2.circle(frame, (cx, cy), 4, color, -1)\n",
    "            cv2.putText(frame, label, (x1, y1 - 10), cv2.FONT_HERSHEY_SIMPLEX, 0.5, color, 2)\n",
    "\n",
    "    cv2.imshow(\"YOLOv8 - Intrusion Detection\", frame)\n",
    "    if cv2.waitKey(1) & 0xFF == ord('q'):\n",
    "        break\n",
    "\n",
    "cap.release()\n",
    "cv2.destroyAllWindows()\n"
   ]
  },
  {
   "cell_type": "code",
   "execution_count": 9,
   "id": "e32f260c",
   "metadata": {},
   "outputs": [],
   "source": [
    "import cv2\n",
    "import numpy as np\n",
    "from ultralytics import YOLO\n",
    "\n",
    "# --------- Load YOLOv8 Model ---------\n",
    "model = YOLO(\"yolov8n.pt\")  # You can change this to yolov8s.pt or any other\n",
    "\n",
    "# --------- Define Restricted Area Polygon (customize based on your video) ---------\n",
    "restricted_area = np.array([(50, 300), (300, 300), (300, 450), (50, 450)])  # Example area\n",
    "\n",
    "# --------- Load Video ---------\n",
    "video_path = r\"D:\\major_project_sus\\preprocessed_dataset\\Assault\\Assault002_x264_3\\10.pt\"  # Replace with your test video\n",
    "cap = cv2.VideoCapture(video_path)\n",
    "\n",
    "while cap.isOpened():\n",
    "    ret, frame = cap.read()\n",
    "    if not ret:\n",
    "        break\n",
    "\n",
    "    results = model(frame)[0]\n",
    "\n",
    "    # Draw restricted zone\n",
    "    cv2.polylines(frame, [restricted_area], isClosed=True, color=(0, 0, 255), thickness=2)\n",
    "    cv2.putText(frame, \"Restricted Area\", (restricted_area[0][0], restricted_area[0][1] - 10),\n",
    "                cv2.FONT_HERSHEY_SIMPLEX, 0.6, (0, 0, 255), 2)\n",
    "\n",
    "    for box in results.boxes:\n",
    "        cls_id = int(box.cls[0])\n",
    "        conf = float(box.conf[0])\n",
    "        if cls_id == 0 and conf > 0.5:  # Person class\n",
    "            x1, y1, x2, y2 = map(int, box.xyxy[0])\n",
    "            cx, cy = (x1 + x2) // 2, (y1 + y2) // 2\n",
    "\n",
    "            inside = cv2.pointPolygonTest(restricted_area, (cx, cy), False) >= 0\n",
    "            color = (0, 255, 0) if not inside else (0, 0, 255)\n",
    "            label = \"Person\" + (\" - 🚨 Intrusion\" if inside else \"\")\n",
    "\n",
    "            cv2.rectangle(frame, (x1, y1), (x2, y2), color, 2)\n",
    "            cv2.circle(frame, (cx, cy), 4, color, -1)\n",
    "            cv2.putText(frame, label, (x1, y1 - 10), cv2.FONT_HERSHEY_SIMPLEX, 0.5, color, 2)\n",
    "\n",
    "    cv2.imshow(\"YOLOv8 Intrusion Detection\", frame)\n",
    "    if cv2.waitKey(1) & 0xFF == ord('q'):\n",
    "        break\n",
    "\n",
    "cap.release()\n",
    "cv2.destroyAllWindows()\n"
   ]
  },
  {
   "cell_type": "code",
   "execution_count": 10,
   "id": "2374b167",
   "metadata": {},
   "outputs": [
    {
     "name": "stdout",
     "output_type": "stream",
     "text": [
      "\n",
      "0: 480x640 1 person, 132.5ms\n",
      "Speed: 2.4ms preprocess, 132.5ms inference, 1.5ms postprocess per image at shape (1, 3, 480, 640)\n",
      "🚨 ALERT: Suspicious activity or person detected!\n",
      "\n",
      "0: 480x640 2 persons, 14.0ms\n",
      "Speed: 2.2ms preprocess, 14.0ms inference, 1.5ms postprocess per image at shape (1, 3, 480, 640)\n",
      "🚨 ALERT: Suspicious activity or person detected!\n",
      "\n",
      "0: 480x640 2 persons, 13.9ms\n",
      "Speed: 1.5ms preprocess, 13.9ms inference, 1.9ms postprocess per image at shape (1, 3, 480, 640)\n",
      "🚨 ALERT: Suspicious activity or person detected!\n",
      "\n",
      "0: 480x640 1 person, 14.0ms\n",
      "Speed: 1.6ms preprocess, 14.0ms inference, 1.8ms postprocess per image at shape (1, 3, 480, 640)\n",
      "🚨 ALERT: Suspicious activity or person detected!\n",
      "\n",
      "0: 480x640 2 persons, 19.0ms\n",
      "Speed: 1.6ms preprocess, 19.0ms inference, 1.3ms postprocess per image at shape (1, 3, 480, 640)\n",
      "🚨 ALERT: Suspicious activity or person detected!\n",
      "\n",
      "0: 480x640 2 persons, 13.6ms\n",
      "Speed: 1.5ms preprocess, 13.6ms inference, 1.9ms postprocess per image at shape (1, 3, 480, 640)\n",
      "🚨 ALERT: Suspicious activity or person detected!\n",
      "\n",
      "0: 480x640 2 persons, 13.9ms\n",
      "Speed: 1.4ms preprocess, 13.9ms inference, 1.5ms postprocess per image at shape (1, 3, 480, 640)\n",
      "🚨 ALERT: Suspicious activity or person detected!\n",
      "\n",
      "0: 480x640 2 persons, 15.3ms\n",
      "Speed: 1.7ms preprocess, 15.3ms inference, 1.3ms postprocess per image at shape (1, 3, 480, 640)\n",
      "🚨 ALERT: Suspicious activity or person detected!\n",
      "\n",
      "0: 480x640 2 persons, 13.6ms\n",
      "Speed: 1.5ms preprocess, 13.6ms inference, 1.5ms postprocess per image at shape (1, 3, 480, 640)\n",
      "🚨 ALERT: Suspicious activity or person detected!\n",
      "\n",
      "0: 480x640 2 persons, 18.6ms\n",
      "Speed: 1.4ms preprocess, 18.6ms inference, 2.3ms postprocess per image at shape (1, 3, 480, 640)\n",
      "🚨 ALERT: Suspicious activity or person detected!\n",
      "\n",
      "0: 480x640 2 persons, 19.7ms\n",
      "Speed: 2.4ms preprocess, 19.7ms inference, 1.7ms postprocess per image at shape (1, 3, 480, 640)\n",
      "🚨 ALERT: Suspicious activity or person detected!\n",
      "\n",
      "0: 480x640 2 persons, 13.9ms\n",
      "Speed: 1.5ms preprocess, 13.9ms inference, 1.8ms postprocess per image at shape (1, 3, 480, 640)\n",
      "🚨 ALERT: Suspicious activity or person detected!\n",
      "\n",
      "0: 480x640 2 persons, 13.7ms\n",
      "Speed: 1.5ms preprocess, 13.7ms inference, 1.9ms postprocess per image at shape (1, 3, 480, 640)\n",
      "🚨 ALERT: Suspicious activity or person detected!\n",
      "\n",
      "0: 480x640 2 persons, 13.5ms\n",
      "Speed: 1.5ms preprocess, 13.5ms inference, 1.7ms postprocess per image at shape (1, 3, 480, 640)\n",
      "🚨 ALERT: Suspicious activity or person detected!\n",
      "\n",
      "0: 480x640 2 persons, 13.4ms\n",
      "Speed: 1.5ms preprocess, 13.4ms inference, 1.7ms postprocess per image at shape (1, 3, 480, 640)\n",
      "🚨 ALERT: Suspicious activity or person detected!\n",
      "\n",
      "0: 480x640 2 persons, 15.7ms\n",
      "Speed: 1.4ms preprocess, 15.7ms inference, 1.7ms postprocess per image at shape (1, 3, 480, 640)\n",
      "🚨 ALERT: Suspicious activity or person detected!\n",
      "\n",
      "0: 480x640 2 persons, 13.6ms\n",
      "Speed: 1.7ms preprocess, 13.6ms inference, 1.5ms postprocess per image at shape (1, 3, 480, 640)\n",
      "🚨 ALERT: Suspicious activity or person detected!\n",
      "\n",
      "0: 480x640 1 person, 12.5ms\n",
      "Speed: 1.4ms preprocess, 12.5ms inference, 1.4ms postprocess per image at shape (1, 3, 480, 640)\n",
      "🚨 ALERT: Suspicious activity or person detected!\n",
      "\n",
      "0: 480x640 1 person, 13.4ms\n",
      "Speed: 1.6ms preprocess, 13.4ms inference, 1.8ms postprocess per image at shape (1, 3, 480, 640)\n",
      "🚨 ALERT: Suspicious activity or person detected!\n",
      "\n",
      "0: 480x640 1 person, 14.7ms\n",
      "Speed: 1.3ms preprocess, 14.7ms inference, 1.3ms postprocess per image at shape (1, 3, 480, 640)\n",
      "🚨 ALERT: Suspicious activity or person detected!\n",
      "\n",
      "0: 480x640 1 person, 13.4ms\n",
      "Speed: 1.4ms preprocess, 13.4ms inference, 1.9ms postprocess per image at shape (1, 3, 480, 640)\n",
      "🚨 ALERT: Suspicious activity or person detected!\n",
      "\n",
      "0: 480x640 1 person, 14.4ms\n",
      "Speed: 1.5ms preprocess, 14.4ms inference, 1.4ms postprocess per image at shape (1, 3, 480, 640)\n",
      "🚨 ALERT: Suspicious activity or person detected!\n",
      "\n",
      "0: 480x640 1 person, 13.7ms\n",
      "Speed: 1.4ms preprocess, 13.7ms inference, 1.9ms postprocess per image at shape (1, 3, 480, 640)\n",
      "🚨 ALERT: Suspicious activity or person detected!\n",
      "\n",
      "0: 480x640 1 person, 13.4ms\n",
      "Speed: 1.8ms preprocess, 13.4ms inference, 1.7ms postprocess per image at shape (1, 3, 480, 640)\n",
      "🚨 ALERT: Suspicious activity or person detected!\n",
      "\n",
      "0: 480x640 1 person, 15.0ms\n",
      "Speed: 1.7ms preprocess, 15.0ms inference, 1.7ms postprocess per image at shape (1, 3, 480, 640)\n",
      "🚨 ALERT: Suspicious activity or person detected!\n",
      "\n",
      "0: 480x640 1 person, 14.1ms\n",
      "Speed: 1.4ms preprocess, 14.1ms inference, 2.2ms postprocess per image at shape (1, 3, 480, 640)\n",
      "🚨 ALERT: Suspicious activity or person detected!\n",
      "\n",
      "0: 480x640 1 person, 14.5ms\n",
      "Speed: 1.6ms preprocess, 14.5ms inference, 1.6ms postprocess per image at shape (1, 3, 480, 640)\n",
      "🚨 ALERT: Suspicious activity or person detected!\n",
      "\n",
      "0: 480x640 1 person, 12.7ms\n",
      "Speed: 1.5ms preprocess, 12.7ms inference, 1.3ms postprocess per image at shape (1, 3, 480, 640)\n",
      "🚨 ALERT: Suspicious activity or person detected!\n",
      "\n",
      "0: 480x640 1 person, 13.7ms\n",
      "Speed: 1.3ms preprocess, 13.7ms inference, 1.6ms postprocess per image at shape (1, 3, 480, 640)\n",
      "🚨 ALERT: Suspicious activity or person detected!\n",
      "\n",
      "0: 480x640 1 person, 13.2ms\n",
      "Speed: 1.4ms preprocess, 13.2ms inference, 1.9ms postprocess per image at shape (1, 3, 480, 640)\n",
      "🚨 ALERT: Suspicious activity or person detected!\n"
     ]
    }
   ],
   "source": [
    "from ultralytics import YOLO\n",
    "import cv2\n",
    "import time\n",
    "\n",
    "# -------- Configuration --------\n",
    "video_path = r\"D:\\major_project_sus\\DCSASS Dataset\\Assault\\Assault049_x264.mp4\\Assault049_x264_21.mp4\"\n",
    "model_path = \"yolov8l.pt\"  # Large model, change to yolov8n.pt or yolov8s.pt for faster performance\n",
    "\n",
    "# -------- Load YOLOv8 Model --------\n",
    "model = YOLO(model_path)\n",
    "\n",
    "# -------- OpenCV Video Capture --------\n",
    "cap = cv2.VideoCapture(video_path)\n",
    "\n",
    "if not cap.isOpened():\n",
    "    print(\"❌ Error opening video file.\")\n",
    "    exit()\n",
    "\n",
    "# -------- Frame-by-frame Processing --------\n",
    "alert_triggered = False\n",
    "\n",
    "while True:\n",
    "    ret, frame = cap.read()\n",
    "    if not ret:\n",
    "        break\n",
    "\n",
    "    # YOLO Inference on current frame\n",
    "    results = model.predict(source=frame, conf=0.4, classes=None, stream=True)\n",
    "\n",
    "    for r in results:\n",
    "        for box in r.boxes:\n",
    "            cls_id = int(box.cls[0])\n",
    "            conf = float(box.conf[0])\n",
    "            class_name = model.names[cls_id]\n",
    "\n",
    "            # Draw bounding box\n",
    "            xyxy = box.xyxy[0].cpu().numpy().astype(int)\n",
    "            x1, y1, x2, y2 = xyxy\n",
    "            label = f\"{class_name} {conf:.2f}\"\n",
    "            cv2.rectangle(frame, (x1, y1), (x2, y2), (0, 255, 0), 2)\n",
    "            cv2.putText(frame, label, (x1, y1 - 10),\n",
    "                        cv2.FONT_HERSHEY_SIMPLEX, 0.5, (0, 255, 0), 2)\n",
    "\n",
    "            # Trigger alert if person or any suspicious class detected\n",
    "            if class_name.lower() == \"person\":\n",
    "                alert_triggered = True\n",
    "\n",
    "    # Show the frame\n",
    "    cv2.imshow(\"YOLOv8 Detection\", frame)\n",
    "\n",
    "    # Alert message\n",
    "    if alert_triggered:\n",
    "        print(\"🚨 ALERT: Suspicious activity or person detected!\")\n",
    "        alert_triggered = False  # Reset after showing\n",
    "\n",
    "    # Press 'q' to exit early\n",
    "    if cv2.waitKey(1) & 0xFF == ord('q'):\n",
    "        break\n",
    "\n",
    "# -------- Cleanup --------\n",
    "cap.release()\n",
    "cv2.destroyAllWindows()\n"
   ]
  },
  {
   "cell_type": "code",
   "execution_count": 11,
   "id": "3330e89c",
   "metadata": {},
   "outputs": [
    {
     "name": "stdout",
     "output_type": "stream",
     "text": [
      "\n",
      "\n",
      "WARNING  inference results will accumulate in RAM unless `stream=True` is passed, causing potential out-of-memory\n",
      "errors for large sources or long-running streams and videos. See https://docs.ultralytics.com/modes/predict/ for help.\n",
      "\n",
      "Example:\n",
      "    results = model(source=..., stream=True)  # generator of Results objects\n",
      "    for r in results:\n",
      "        boxes = r.boxes  # Boxes object for bbox outputs\n",
      "        masks = r.masks  # Masks object for segment masks outputs\n",
      "        probs = r.probs  # Class probabilities for classification outputs\n",
      "\n",
      "video 1/1 (frame 1/60) d:\\major_project_sus\\DCSASS Dataset\\Assault\\Assault022_x264.mp4\\Assault022_x264_3.mp4: 480x640 (no detections), 105.3ms\n",
      "video 1/1 (frame 2/60) d:\\major_project_sus\\DCSASS Dataset\\Assault\\Assault022_x264.mp4\\Assault022_x264_3.mp4: 480x640 (no detections), 10.0ms\n",
      "video 1/1 (frame 3/60) d:\\major_project_sus\\DCSASS Dataset\\Assault\\Assault022_x264.mp4\\Assault022_x264_3.mp4: 480x640 (no detections), 8.9ms\n",
      "video 1/1 (frame 4/60) d:\\major_project_sus\\DCSASS Dataset\\Assault\\Assault022_x264.mp4\\Assault022_x264_3.mp4: 480x640 (no detections), 8.9ms\n",
      "video 1/1 (frame 5/60) d:\\major_project_sus\\DCSASS Dataset\\Assault\\Assault022_x264.mp4\\Assault022_x264_3.mp4: 480x640 (no detections), 8.6ms\n",
      "video 1/1 (frame 6/60) d:\\major_project_sus\\DCSASS Dataset\\Assault\\Assault022_x264.mp4\\Assault022_x264_3.mp4: 480x640 (no detections), 8.6ms\n",
      "video 1/1 (frame 7/60) d:\\major_project_sus\\DCSASS Dataset\\Assault\\Assault022_x264.mp4\\Assault022_x264_3.mp4: 480x640 (no detections), 8.4ms\n",
      "video 1/1 (frame 8/60) d:\\major_project_sus\\DCSASS Dataset\\Assault\\Assault022_x264.mp4\\Assault022_x264_3.mp4: 480x640 (no detections), 8.4ms\n",
      "video 1/1 (frame 9/60) d:\\major_project_sus\\DCSASS Dataset\\Assault\\Assault022_x264.mp4\\Assault022_x264_3.mp4: 480x640 (no detections), 8.3ms\n",
      "video 1/1 (frame 10/60) d:\\major_project_sus\\DCSASS Dataset\\Assault\\Assault022_x264.mp4\\Assault022_x264_3.mp4: 480x640 (no detections), 8.1ms\n",
      "video 1/1 (frame 11/60) d:\\major_project_sus\\DCSASS Dataset\\Assault\\Assault022_x264.mp4\\Assault022_x264_3.mp4: 480x640 (no detections), 8.6ms\n",
      "video 1/1 (frame 12/60) d:\\major_project_sus\\DCSASS Dataset\\Assault\\Assault022_x264.mp4\\Assault022_x264_3.mp4: 480x640 (no detections), 8.5ms\n",
      "video 1/1 (frame 13/60) d:\\major_project_sus\\DCSASS Dataset\\Assault\\Assault022_x264.mp4\\Assault022_x264_3.mp4: 480x640 (no detections), 8.2ms\n",
      "video 1/1 (frame 14/60) d:\\major_project_sus\\DCSASS Dataset\\Assault\\Assault022_x264.mp4\\Assault022_x264_3.mp4: 480x640 (no detections), 8.1ms\n",
      "video 1/1 (frame 15/60) d:\\major_project_sus\\DCSASS Dataset\\Assault\\Assault022_x264.mp4\\Assault022_x264_3.mp4: 480x640 1 car, 8.5ms\n",
      "video 1/1 (frame 16/60) d:\\major_project_sus\\DCSASS Dataset\\Assault\\Assault022_x264.mp4\\Assault022_x264_3.mp4: 480x640 1 car, 8.6ms\n",
      "video 1/1 (frame 17/60) d:\\major_project_sus\\DCSASS Dataset\\Assault\\Assault022_x264.mp4\\Assault022_x264_3.mp4: 480x640 1 car, 8.1ms\n",
      "video 1/1 (frame 18/60) d:\\major_project_sus\\DCSASS Dataset\\Assault\\Assault022_x264.mp4\\Assault022_x264_3.mp4: 480x640 1 car, 8.2ms\n",
      "video 1/1 (frame 19/60) d:\\major_project_sus\\DCSASS Dataset\\Assault\\Assault022_x264.mp4\\Assault022_x264_3.mp4: 480x640 1 car, 10.3ms\n",
      "video 1/1 (frame 20/60) d:\\major_project_sus\\DCSASS Dataset\\Assault\\Assault022_x264.mp4\\Assault022_x264_3.mp4: 480x640 1 car, 8.2ms\n",
      "video 1/1 (frame 21/60) d:\\major_project_sus\\DCSASS Dataset\\Assault\\Assault022_x264.mp4\\Assault022_x264_3.mp4: 480x640 1 car, 8.6ms\n",
      "video 1/1 (frame 22/60) d:\\major_project_sus\\DCSASS Dataset\\Assault\\Assault022_x264.mp4\\Assault022_x264_3.mp4: 480x640 1 car, 8.5ms\n",
      "video 1/1 (frame 23/60) d:\\major_project_sus\\DCSASS Dataset\\Assault\\Assault022_x264.mp4\\Assault022_x264_3.mp4: 480x640 1 car, 8.4ms\n",
      "video 1/1 (frame 24/60) d:\\major_project_sus\\DCSASS Dataset\\Assault\\Assault022_x264.mp4\\Assault022_x264_3.mp4: 480x640 1 car, 8.3ms\n",
      "video 1/1 (frame 25/60) d:\\major_project_sus\\DCSASS Dataset\\Assault\\Assault022_x264.mp4\\Assault022_x264_3.mp4: 480x640 1 car, 8.7ms\n",
      "video 1/1 (frame 26/60) d:\\major_project_sus\\DCSASS Dataset\\Assault\\Assault022_x264.mp4\\Assault022_x264_3.mp4: 480x640 1 car, 8.8ms\n",
      "video 1/1 (frame 27/60) d:\\major_project_sus\\DCSASS Dataset\\Assault\\Assault022_x264.mp4\\Assault022_x264_3.mp4: 480x640 1 person, 1 car, 8.6ms\n",
      "video 1/1 (frame 28/60) d:\\major_project_sus\\DCSASS Dataset\\Assault\\Assault022_x264.mp4\\Assault022_x264_3.mp4: 480x640 1 person, 1 car, 8.8ms\n",
      "video 1/1 (frame 29/60) d:\\major_project_sus\\DCSASS Dataset\\Assault\\Assault022_x264.mp4\\Assault022_x264_3.mp4: 480x640 1 person, 1 car, 8.2ms\n",
      "video 1/1 (frame 30/60) d:\\major_project_sus\\DCSASS Dataset\\Assault\\Assault022_x264.mp4\\Assault022_x264_3.mp4: 480x640 1 person, 1 car, 8.3ms\n",
      "video 1/1 (frame 31/60) d:\\major_project_sus\\DCSASS Dataset\\Assault\\Assault022_x264.mp4\\Assault022_x264_3.mp4: 480x640 1 person, 1 car, 8.5ms\n",
      "video 1/1 (frame 32/60) d:\\major_project_sus\\DCSASS Dataset\\Assault\\Assault022_x264.mp4\\Assault022_x264_3.mp4: 480x640 1 person, 1 car, 8.6ms\n",
      "video 1/1 (frame 33/60) d:\\major_project_sus\\DCSASS Dataset\\Assault\\Assault022_x264.mp4\\Assault022_x264_3.mp4: 480x640 1 person, 1 car, 9.1ms\n",
      "video 1/1 (frame 34/60) d:\\major_project_sus\\DCSASS Dataset\\Assault\\Assault022_x264.mp4\\Assault022_x264_3.mp4: 480x640 1 person, 1 car, 8.5ms\n",
      "video 1/1 (frame 35/60) d:\\major_project_sus\\DCSASS Dataset\\Assault\\Assault022_x264.mp4\\Assault022_x264_3.mp4: 480x640 1 person, 1 car, 8.4ms\n",
      "video 1/1 (frame 36/60) d:\\major_project_sus\\DCSASS Dataset\\Assault\\Assault022_x264.mp4\\Assault022_x264_3.mp4: 480x640 1 person, 1 car, 8.4ms\n",
      "video 1/1 (frame 37/60) d:\\major_project_sus\\DCSASS Dataset\\Assault\\Assault022_x264.mp4\\Assault022_x264_3.mp4: 480x640 2 persons, 1 car, 8.8ms\n",
      "video 1/1 (frame 38/60) d:\\major_project_sus\\DCSASS Dataset\\Assault\\Assault022_x264.mp4\\Assault022_x264_3.mp4: 480x640 1 person, 1 car, 8.6ms\n",
      "video 1/1 (frame 39/60) d:\\major_project_sus\\DCSASS Dataset\\Assault\\Assault022_x264.mp4\\Assault022_x264_3.mp4: 480x640 1 car, 8.5ms\n",
      "video 1/1 (frame 40/60) d:\\major_project_sus\\DCSASS Dataset\\Assault\\Assault022_x264.mp4\\Assault022_x264_3.mp4: 480x640 1 car, 8.6ms\n",
      "video 1/1 (frame 41/60) d:\\major_project_sus\\DCSASS Dataset\\Assault\\Assault022_x264.mp4\\Assault022_x264_3.mp4: 480x640 1 car, 8.2ms\n",
      "video 1/1 (frame 42/60) d:\\major_project_sus\\DCSASS Dataset\\Assault\\Assault022_x264.mp4\\Assault022_x264_3.mp4: 480x640 1 car, 8.1ms\n",
      "video 1/1 (frame 43/60) d:\\major_project_sus\\DCSASS Dataset\\Assault\\Assault022_x264.mp4\\Assault022_x264_3.mp4: 480x640 1 car, 8.5ms\n",
      "video 1/1 (frame 44/60) d:\\major_project_sus\\DCSASS Dataset\\Assault\\Assault022_x264.mp4\\Assault022_x264_3.mp4: 480x640 1 car, 8.2ms\n",
      "video 1/1 (frame 45/60) d:\\major_project_sus\\DCSASS Dataset\\Assault\\Assault022_x264.mp4\\Assault022_x264_3.mp4: 480x640 1 car, 8.2ms\n",
      "video 1/1 (frame 46/60) d:\\major_project_sus\\DCSASS Dataset\\Assault\\Assault022_x264.mp4\\Assault022_x264_3.mp4: 480x640 1 car, 8.1ms\n",
      "video 1/1 (frame 47/60) d:\\major_project_sus\\DCSASS Dataset\\Assault\\Assault022_x264.mp4\\Assault022_x264_3.mp4: 480x640 1 car, 8.3ms\n",
      "video 1/1 (frame 48/60) d:\\major_project_sus\\DCSASS Dataset\\Assault\\Assault022_x264.mp4\\Assault022_x264_3.mp4: 480x640 1 person, 1 car, 8.5ms\n",
      "video 1/1 (frame 49/60) d:\\major_project_sus\\DCSASS Dataset\\Assault\\Assault022_x264.mp4\\Assault022_x264_3.mp4: 480x640 1 person, 1 car, 9.8ms\n",
      "video 1/1 (frame 50/60) d:\\major_project_sus\\DCSASS Dataset\\Assault\\Assault022_x264.mp4\\Assault022_x264_3.mp4: 480x640 1 person, 1 car, 9.2ms\n",
      "video 1/1 (frame 51/60) d:\\major_project_sus\\DCSASS Dataset\\Assault\\Assault022_x264.mp4\\Assault022_x264_3.mp4: 480x640 1 person, 1 car, 8.9ms\n",
      "video 1/1 (frame 52/60) d:\\major_project_sus\\DCSASS Dataset\\Assault\\Assault022_x264.mp4\\Assault022_x264_3.mp4: 480x640 1 person, 1 car, 8.2ms\n",
      "video 1/1 (frame 53/60) d:\\major_project_sus\\DCSASS Dataset\\Assault\\Assault022_x264.mp4\\Assault022_x264_3.mp4: 480x640 1 person, 1 car, 8.0ms\n",
      "video 1/1 (frame 54/60) d:\\major_project_sus\\DCSASS Dataset\\Assault\\Assault022_x264.mp4\\Assault022_x264_3.mp4: 480x640 1 person, 1 car, 8.3ms\n",
      "video 1/1 (frame 55/60) d:\\major_project_sus\\DCSASS Dataset\\Assault\\Assault022_x264.mp4\\Assault022_x264_3.mp4: 480x640 1 person, 1 car, 8.6ms\n",
      "video 1/1 (frame 56/60) d:\\major_project_sus\\DCSASS Dataset\\Assault\\Assault022_x264.mp4\\Assault022_x264_3.mp4: 480x640 2 persons, 1 car, 8.7ms\n",
      "video 1/1 (frame 57/60) d:\\major_project_sus\\DCSASS Dataset\\Assault\\Assault022_x264.mp4\\Assault022_x264_3.mp4: 480x640 1 person, 1 car, 8.3ms\n",
      "video 1/1 (frame 58/60) d:\\major_project_sus\\DCSASS Dataset\\Assault\\Assault022_x264.mp4\\Assault022_x264_3.mp4: 480x640 1 person, 1 car, 8.3ms\n",
      "video 1/1 (frame 59/60) d:\\major_project_sus\\DCSASS Dataset\\Assault\\Assault022_x264.mp4\\Assault022_x264_3.mp4: 480x640 1 person, 1 car, 8.2ms\n",
      "video 1/1 (frame 60/60) d:\\major_project_sus\\DCSASS Dataset\\Assault\\Assault022_x264.mp4\\Assault022_x264_3.mp4: 480x640 1 person, 1 car, 8.4ms\n",
      "Speed: 1.4ms preprocess, 10.1ms inference, 1.2ms postprocess per image at shape (1, 3, 480, 640)\n",
      "Results saved to \u001b[1mruns\\detect\\predict44\u001b[0m\n"
     ]
    },
    {
     "ename": "RuntimeError",
     "evalue": "permute(sparse_coo): number of dimensions in the tensor input does not match the length of the desired ordering of dimensions i.e. input.dim() = 3 is not equal to len(dims) = 5",
     "output_type": "error",
     "traceback": [
      "\u001b[1;31m---------------------------------------------------------------------------\u001b[0m",
      "\u001b[1;31mRuntimeError\u001b[0m                              Traceback (most recent call last)",
      "Cell \u001b[1;32mIn[11], line 46\u001b[0m\n\u001b[0;32m     43\u001b[0m     clip_tensor \u001b[38;5;241m=\u001b[39m clip_tensor\u001b[38;5;241m.\u001b[39munsqueeze(\u001b[38;5;241m0\u001b[39m)\u001b[38;5;241m.\u001b[39mto(device)  \u001b[38;5;66;03m# [1, T, C, H, W]\u001b[39;00m\n\u001b[0;32m     45\u001b[0m \u001b[38;5;28;01mwith\u001b[39;00m torch\u001b[38;5;241m.\u001b[39mno_grad():\n\u001b[1;32m---> 46\u001b[0m     output \u001b[38;5;241m=\u001b[39m activity_model(clip_tensor)\n\u001b[0;32m     47\u001b[0m     activity_index \u001b[38;5;241m=\u001b[39m output\u001b[38;5;241m.\u001b[39margmax(dim\u001b[38;5;241m=\u001b[39m\u001b[38;5;241m1\u001b[39m)\u001b[38;5;241m.\u001b[39mitem()\n\u001b[0;32m     48\u001b[0m     predicted_activity \u001b[38;5;241m=\u001b[39m activity_class_names[activity_index]\n",
      "File \u001b[1;32mc:\\Users\\admin\\anaconda3\\Lib\\site-packages\\torch\\nn\\modules\\module.py:1518\u001b[0m, in \u001b[0;36mModule._wrapped_call_impl\u001b[1;34m(self, *args, **kwargs)\u001b[0m\n\u001b[0;32m   1516\u001b[0m     \u001b[38;5;28;01mreturn\u001b[39;00m \u001b[38;5;28mself\u001b[39m\u001b[38;5;241m.\u001b[39m_compiled_call_impl(\u001b[38;5;241m*\u001b[39margs, \u001b[38;5;241m*\u001b[39m\u001b[38;5;241m*\u001b[39mkwargs)  \u001b[38;5;66;03m# type: ignore[misc]\u001b[39;00m\n\u001b[0;32m   1517\u001b[0m \u001b[38;5;28;01melse\u001b[39;00m:\n\u001b[1;32m-> 1518\u001b[0m     \u001b[38;5;28;01mreturn\u001b[39;00m \u001b[38;5;28mself\u001b[39m\u001b[38;5;241m.\u001b[39m_call_impl(\u001b[38;5;241m*\u001b[39margs, \u001b[38;5;241m*\u001b[39m\u001b[38;5;241m*\u001b[39mkwargs)\n",
      "File \u001b[1;32mc:\\Users\\admin\\anaconda3\\Lib\\site-packages\\torch\\nn\\modules\\module.py:1527\u001b[0m, in \u001b[0;36mModule._call_impl\u001b[1;34m(self, *args, **kwargs)\u001b[0m\n\u001b[0;32m   1522\u001b[0m \u001b[38;5;66;03m# If we don't have any hooks, we want to skip the rest of the logic in\u001b[39;00m\n\u001b[0;32m   1523\u001b[0m \u001b[38;5;66;03m# this function, and just call forward.\u001b[39;00m\n\u001b[0;32m   1524\u001b[0m \u001b[38;5;28;01mif\u001b[39;00m \u001b[38;5;129;01mnot\u001b[39;00m (\u001b[38;5;28mself\u001b[39m\u001b[38;5;241m.\u001b[39m_backward_hooks \u001b[38;5;129;01mor\u001b[39;00m \u001b[38;5;28mself\u001b[39m\u001b[38;5;241m.\u001b[39m_backward_pre_hooks \u001b[38;5;129;01mor\u001b[39;00m \u001b[38;5;28mself\u001b[39m\u001b[38;5;241m.\u001b[39m_forward_hooks \u001b[38;5;129;01mor\u001b[39;00m \u001b[38;5;28mself\u001b[39m\u001b[38;5;241m.\u001b[39m_forward_pre_hooks\n\u001b[0;32m   1525\u001b[0m         \u001b[38;5;129;01mor\u001b[39;00m _global_backward_pre_hooks \u001b[38;5;129;01mor\u001b[39;00m _global_backward_hooks\n\u001b[0;32m   1526\u001b[0m         \u001b[38;5;129;01mor\u001b[39;00m _global_forward_hooks \u001b[38;5;129;01mor\u001b[39;00m _global_forward_pre_hooks):\n\u001b[1;32m-> 1527\u001b[0m     \u001b[38;5;28;01mreturn\u001b[39;00m forward_call(\u001b[38;5;241m*\u001b[39margs, \u001b[38;5;241m*\u001b[39m\u001b[38;5;241m*\u001b[39mkwargs)\n\u001b[0;32m   1529\u001b[0m \u001b[38;5;28;01mtry\u001b[39;00m:\n\u001b[0;32m   1530\u001b[0m     result \u001b[38;5;241m=\u001b[39m \u001b[38;5;28;01mNone\u001b[39;00m\n",
      "File \u001b[1;32md:\\major_project_sus\\model_r2plus1d.py:28\u001b[0m, in \u001b[0;36mR2Plus1D.forward\u001b[1;34m(self, x)\u001b[0m\n\u001b[0;32m     27\u001b[0m \u001b[38;5;28;01mdef\u001b[39;00m \u001b[38;5;21mforward\u001b[39m(\u001b[38;5;28mself\u001b[39m, x):\n\u001b[1;32m---> 28\u001b[0m     x \u001b[38;5;241m=\u001b[39m x\u001b[38;5;241m.\u001b[39mpermute(\u001b[38;5;241m0\u001b[39m, \u001b[38;5;241m2\u001b[39m, \u001b[38;5;241m1\u001b[39m, \u001b[38;5;241m3\u001b[39m, \u001b[38;5;241m4\u001b[39m)  \u001b[38;5;66;03m# [B, C, T, H, W]\u001b[39;00m\n\u001b[0;32m     29\u001b[0m     x \u001b[38;5;241m=\u001b[39m \u001b[38;5;28mself\u001b[39m\u001b[38;5;241m.\u001b[39mlayer1(x)\n\u001b[0;32m     30\u001b[0m     x \u001b[38;5;241m=\u001b[39m \u001b[38;5;28mself\u001b[39m\u001b[38;5;241m.\u001b[39mlayer2(x)\n",
      "\u001b[1;31mRuntimeError\u001b[0m: permute(sparse_coo): number of dimensions in the tensor input does not match the length of the desired ordering of dimensions i.e. input.dim() = 3 is not equal to len(dims) = 5"
     ]
    }
   ],
   "source": [
    "import torch\n",
    "from ultralytics import YOLO\n",
    "from IPython.display import Video, display\n",
    "from pathlib import Path\n",
    "import os\n",
    "from model_r2plus1d import R2Plus1D  # Your custom model definition\n",
    "\n",
    "# -------- Configuration --------\n",
    "clip_tensor_path = r\"D:\\major_project_sus\\preprocessed_dataset\\Assault\\Assault002_x264_3\\10.pt\"\n",
    "video_path = r\"DCSASS Dataset/Assault/Assault022_x264.mp4/Assault022_x264_3.mp4\"\n",
    "yolo_model_path = \"yolov8n.pt\"  # Change if using a different YOLOv8 model\n",
    "activity_model_path = r\"D:\\major_project_sus\\best_r2plus1d_model.pth\"\n",
    "\n",
    "# -------- Device Setup --------\n",
    "device = torch.device(\"cuda\" if torch.cuda.is_available() else \"cpu\")\n",
    "\n",
    "# -------- Activity Class Names --------\n",
    "activity_class_names = [\n",
    "    \"Arrest\", \"Arson\", \"Assault\", \"Burglary\", \"Explosion\",\n",
    "    \"Fighting\", \"Normal\", \"RoadAccidents\", \"Robbery\", \"Shoplifting\",\n",
    "    \"Stealing\", \"Vandalism\", \"Abuse\", \"Trespassing\"\n",
    "]\n",
    "\n",
    "# -------- Load R(2+1)D model --------\n",
    "activity_model = R2Plus1D(num_classes=len(activity_class_names)).to(device)\n",
    "activity_model.load_state_dict(torch.load(activity_model_path, map_location=device))\n",
    "activity_model.eval()\n",
    "\n",
    "# -------- Load YOLOv8 model --------\n",
    "yolo_model = YOLO(yolo_model_path)\n",
    "\n",
    "# -------- Run YOLOv8 on Original Video --------\n",
    "yolo_results = yolo_model.predict(source=video_path, show=False, save=True, conf=0.4)\n",
    "\n",
    "# Get saved video path\n",
    "save_dir = Path(yolo_results[0].save_dir)\n",
    "output_path = save_dir / Path(video_path).with_suffix('.avi').name\n",
    "output_path = str(output_path)\n",
    "\n",
    "# -------- Run R(2+1)D on Preprocessed Clip --------\n",
    "clip_tensor = torch.load(clip_tensor_path)  # [T, C, H, W]\n",
    "if clip_tensor.dim() == 4:\n",
    "    clip_tensor = clip_tensor.unsqueeze(0).to(device)  # [1, T, C, H, W]\n",
    "\n",
    "with torch.no_grad():\n",
    "    output = activity_model(clip_tensor)\n",
    "    activity_index = output.argmax(dim=1).item()\n",
    "    predicted_activity = activity_class_names[activity_index]\n",
    "\n",
    "# -------- Display Results --------\n",
    "print(\"✅ YOLOv8 Detection Done.\")\n",
    "print(f\"📁 Detection video saved at: {output_path}\")\n",
    "print(f\"🎬 Predicted Activity: {predicted_activity}\")\n",
    "\n",
    "# 🚨 Raise Alert if Activity is Suspicious\n",
    "if predicted_activity.lower() not in [\"normal\", \"walking\", \"standing\"]:\n",
    "    print(f\"🚨 ALERT: Suspicious activity detected → {predicted_activity}\")\n",
    "\n",
    "# -------- Display Output Video in Notebook --------\n",
    "if os.path.exists(output_path):\n",
    "    display(Video(filename=output_path, embed=True, width=720))\n",
    "else:\n",
    "    print(\"⚠️ Output video not found.\")\n"
   ]
  },
  {
   "cell_type": "code",
   "execution_count": null,
   "id": "0257c835",
   "metadata": {},
   "outputs": [
    {
     "name": "stdout",
     "output_type": "stream",
     "text": [
      "\n",
      "\n",
      "WARNING  inference results will accumulate in RAM unless `stream=True` is passed, causing potential out-of-memory\n",
      "errors for large sources or long-running streams and videos. See https://docs.ultralytics.com/modes/predict/ for help.\n",
      "\n",
      "Example:\n",
      "    results = model(source=..., stream=True)  # generator of Results objects\n",
      "    for r in results:\n",
      "        boxes = r.boxes  # Boxes object for bbox outputs\n",
      "        masks = r.masks  # Masks object for segment masks outputs\n",
      "        probs = r.probs  # Class probabilities for classification outputs\n",
      "\n",
      "video 1/1 (frame 1/60) d:\\major_project_sus\\DCSASS Dataset\\Assault\\Assault022_x264.mp4\\Assault022_x264_3.mp4: 480x640 (no detections), 14.6ms\n",
      "video 1/1 (frame 2/60) d:\\major_project_sus\\DCSASS Dataset\\Assault\\Assault022_x264.mp4\\Assault022_x264_3.mp4: 480x640 (no detections), 16.8ms\n",
      "video 1/1 (frame 3/60) d:\\major_project_sus\\DCSASS Dataset\\Assault\\Assault022_x264.mp4\\Assault022_x264_3.mp4: 480x640 (no detections), 27.0ms\n",
      "video 1/1 (frame 4/60) d:\\major_project_sus\\DCSASS Dataset\\Assault\\Assault022_x264.mp4\\Assault022_x264_3.mp4: 480x640 (no detections), 27.0ms\n",
      "video 1/1 (frame 5/60) d:\\major_project_sus\\DCSASS Dataset\\Assault\\Assault022_x264.mp4\\Assault022_x264_3.mp4: 480x640 (no detections), 17.9ms\n",
      "video 1/1 (frame 6/60) d:\\major_project_sus\\DCSASS Dataset\\Assault\\Assault022_x264.mp4\\Assault022_x264_3.mp4: 480x640 (no detections), 13.7ms\n",
      "video 1/1 (frame 7/60) d:\\major_project_sus\\DCSASS Dataset\\Assault\\Assault022_x264.mp4\\Assault022_x264_3.mp4: 480x640 (no detections), 8.6ms\n",
      "video 1/1 (frame 8/60) d:\\major_project_sus\\DCSASS Dataset\\Assault\\Assault022_x264.mp4\\Assault022_x264_3.mp4: 480x640 (no detections), 8.7ms\n",
      "video 1/1 (frame 9/60) d:\\major_project_sus\\DCSASS Dataset\\Assault\\Assault022_x264.mp4\\Assault022_x264_3.mp4: 480x640 (no detections), 8.6ms\n",
      "video 1/1 (frame 10/60) d:\\major_project_sus\\DCSASS Dataset\\Assault\\Assault022_x264.mp4\\Assault022_x264_3.mp4: 480x640 (no detections), 8.5ms\n",
      "video 1/1 (frame 11/60) d:\\major_project_sus\\DCSASS Dataset\\Assault\\Assault022_x264.mp4\\Assault022_x264_3.mp4: 480x640 (no detections), 8.4ms\n",
      "video 1/1 (frame 12/60) d:\\major_project_sus\\DCSASS Dataset\\Assault\\Assault022_x264.mp4\\Assault022_x264_3.mp4: 480x640 (no detections), 8.8ms\n",
      "video 1/1 (frame 13/60) d:\\major_project_sus\\DCSASS Dataset\\Assault\\Assault022_x264.mp4\\Assault022_x264_3.mp4: 480x640 (no detections), 8.5ms\n",
      "video 1/1 (frame 14/60) d:\\major_project_sus\\DCSASS Dataset\\Assault\\Assault022_x264.mp4\\Assault022_x264_3.mp4: 480x640 (no detections), 8.5ms\n",
      "video 1/1 (frame 15/60) d:\\major_project_sus\\DCSASS Dataset\\Assault\\Assault022_x264.mp4\\Assault022_x264_3.mp4: 480x640 1 car, 8.5ms\n",
      "video 1/1 (frame 16/60) d:\\major_project_sus\\DCSASS Dataset\\Assault\\Assault022_x264.mp4\\Assault022_x264_3.mp4: 480x640 1 car, 8.6ms\n",
      "video 1/1 (frame 17/60) d:\\major_project_sus\\DCSASS Dataset\\Assault\\Assault022_x264.mp4\\Assault022_x264_3.mp4: 480x640 1 car, 8.4ms\n",
      "video 1/1 (frame 18/60) d:\\major_project_sus\\DCSASS Dataset\\Assault\\Assault022_x264.mp4\\Assault022_x264_3.mp4: 480x640 1 car, 8.9ms\n",
      "video 1/1 (frame 19/60) d:\\major_project_sus\\DCSASS Dataset\\Assault\\Assault022_x264.mp4\\Assault022_x264_3.mp4: 480x640 1 car, 8.4ms\n",
      "video 1/1 (frame 20/60) d:\\major_project_sus\\DCSASS Dataset\\Assault\\Assault022_x264.mp4\\Assault022_x264_3.mp4: 480x640 1 car, 8.4ms\n",
      "video 1/1 (frame 21/60) d:\\major_project_sus\\DCSASS Dataset\\Assault\\Assault022_x264.mp4\\Assault022_x264_3.mp4: 480x640 1 car, 8.8ms\n",
      "video 1/1 (frame 22/60) d:\\major_project_sus\\DCSASS Dataset\\Assault\\Assault022_x264.mp4\\Assault022_x264_3.mp4: 480x640 1 car, 10.5ms\n",
      "video 1/1 (frame 23/60) d:\\major_project_sus\\DCSASS Dataset\\Assault\\Assault022_x264.mp4\\Assault022_x264_3.mp4: 480x640 1 car, 10.3ms\n",
      "video 1/1 (frame 24/60) d:\\major_project_sus\\DCSASS Dataset\\Assault\\Assault022_x264.mp4\\Assault022_x264_3.mp4: 480x640 1 car, 9.0ms\n",
      "video 1/1 (frame 25/60) d:\\major_project_sus\\DCSASS Dataset\\Assault\\Assault022_x264.mp4\\Assault022_x264_3.mp4: 480x640 1 car, 8.8ms\n",
      "video 1/1 (frame 26/60) d:\\major_project_sus\\DCSASS Dataset\\Assault\\Assault022_x264.mp4\\Assault022_x264_3.mp4: 480x640 1 car, 8.9ms\n",
      "video 1/1 (frame 27/60) d:\\major_project_sus\\DCSASS Dataset\\Assault\\Assault022_x264.mp4\\Assault022_x264_3.mp4: 480x640 1 person, 1 car, 8.8ms\n",
      "video 1/1 (frame 28/60) d:\\major_project_sus\\DCSASS Dataset\\Assault\\Assault022_x264.mp4\\Assault022_x264_3.mp4: 480x640 1 person, 1 car, 10.2ms\n",
      "video 1/1 (frame 29/60) d:\\major_project_sus\\DCSASS Dataset\\Assault\\Assault022_x264.mp4\\Assault022_x264_3.mp4: 480x640 1 person, 1 car, 9.6ms\n",
      "video 1/1 (frame 30/60) d:\\major_project_sus\\DCSASS Dataset\\Assault\\Assault022_x264.mp4\\Assault022_x264_3.mp4: 480x640 1 person, 1 car, 9.4ms\n",
      "video 1/1 (frame 31/60) d:\\major_project_sus\\DCSASS Dataset\\Assault\\Assault022_x264.mp4\\Assault022_x264_3.mp4: 480x640 1 person, 1 car, 8.8ms\n",
      "video 1/1 (frame 32/60) d:\\major_project_sus\\DCSASS Dataset\\Assault\\Assault022_x264.mp4\\Assault022_x264_3.mp4: 480x640 1 person, 1 car, 9.0ms\n",
      "video 1/1 (frame 33/60) d:\\major_project_sus\\DCSASS Dataset\\Assault\\Assault022_x264.mp4\\Assault022_x264_3.mp4: 480x640 1 person, 1 car, 8.7ms\n",
      "video 1/1 (frame 34/60) d:\\major_project_sus\\DCSASS Dataset\\Assault\\Assault022_x264.mp4\\Assault022_x264_3.mp4: 480x640 1 person, 1 car, 8.8ms\n",
      "video 1/1 (frame 35/60) d:\\major_project_sus\\DCSASS Dataset\\Assault\\Assault022_x264.mp4\\Assault022_x264_3.mp4: 480x640 1 person, 1 car, 8.3ms\n",
      "video 1/1 (frame 36/60) d:\\major_project_sus\\DCSASS Dataset\\Assault\\Assault022_x264.mp4\\Assault022_x264_3.mp4: 480x640 1 person, 1 car, 8.5ms\n",
      "video 1/1 (frame 37/60) d:\\major_project_sus\\DCSASS Dataset\\Assault\\Assault022_x264.mp4\\Assault022_x264_3.mp4: 480x640 2 persons, 1 car, 8.7ms\n",
      "video 1/1 (frame 38/60) d:\\major_project_sus\\DCSASS Dataset\\Assault\\Assault022_x264.mp4\\Assault022_x264_3.mp4: 480x640 1 person, 1 car, 8.9ms\n",
      "video 1/1 (frame 39/60) d:\\major_project_sus\\DCSASS Dataset\\Assault\\Assault022_x264.mp4\\Assault022_x264_3.mp4: 480x640 1 car, 8.8ms\n",
      "video 1/1 (frame 40/60) d:\\major_project_sus\\DCSASS Dataset\\Assault\\Assault022_x264.mp4\\Assault022_x264_3.mp4: 480x640 1 car, 8.5ms\n",
      "video 1/1 (frame 41/60) d:\\major_project_sus\\DCSASS Dataset\\Assault\\Assault022_x264.mp4\\Assault022_x264_3.mp4: 480x640 1 car, 8.3ms\n",
      "video 1/1 (frame 42/60) d:\\major_project_sus\\DCSASS Dataset\\Assault\\Assault022_x264.mp4\\Assault022_x264_3.mp4: 480x640 1 car, 8.4ms\n",
      "video 1/1 (frame 43/60) d:\\major_project_sus\\DCSASS Dataset\\Assault\\Assault022_x264.mp4\\Assault022_x264_3.mp4: 480x640 1 car, 8.8ms\n",
      "video 1/1 (frame 44/60) d:\\major_project_sus\\DCSASS Dataset\\Assault\\Assault022_x264.mp4\\Assault022_x264_3.mp4: 480x640 1 car, 9.7ms\n",
      "video 1/1 (frame 45/60) d:\\major_project_sus\\DCSASS Dataset\\Assault\\Assault022_x264.mp4\\Assault022_x264_3.mp4: 480x640 1 car, 8.4ms\n",
      "video 1/1 (frame 46/60) d:\\major_project_sus\\DCSASS Dataset\\Assault\\Assault022_x264.mp4\\Assault022_x264_3.mp4: 480x640 1 car, 8.3ms\n",
      "video 1/1 (frame 47/60) d:\\major_project_sus\\DCSASS Dataset\\Assault\\Assault022_x264.mp4\\Assault022_x264_3.mp4: 480x640 1 car, 8.5ms\n",
      "video 1/1 (frame 48/60) d:\\major_project_sus\\DCSASS Dataset\\Assault\\Assault022_x264.mp4\\Assault022_x264_3.mp4: 480x640 1 person, 1 car, 8.8ms\n",
      "video 1/1 (frame 49/60) d:\\major_project_sus\\DCSASS Dataset\\Assault\\Assault022_x264.mp4\\Assault022_x264_3.mp4: 480x640 1 person, 1 car, 8.9ms\n",
      "video 1/1 (frame 50/60) d:\\major_project_sus\\DCSASS Dataset\\Assault\\Assault022_x264.mp4\\Assault022_x264_3.mp4: 480x640 1 person, 1 car, 9.3ms\n",
      "video 1/1 (frame 51/60) d:\\major_project_sus\\DCSASS Dataset\\Assault\\Assault022_x264.mp4\\Assault022_x264_3.mp4: 480x640 1 person, 1 car, 8.7ms\n",
      "video 1/1 (frame 52/60) d:\\major_project_sus\\DCSASS Dataset\\Assault\\Assault022_x264.mp4\\Assault022_x264_3.mp4: 480x640 1 person, 1 car, 8.4ms\n",
      "video 1/1 (frame 53/60) d:\\major_project_sus\\DCSASS Dataset\\Assault\\Assault022_x264.mp4\\Assault022_x264_3.mp4: 480x640 1 person, 1 car, 8.4ms\n",
      "video 1/1 (frame 54/60) d:\\major_project_sus\\DCSASS Dataset\\Assault\\Assault022_x264.mp4\\Assault022_x264_3.mp4: 480x640 1 person, 1 car, 8.5ms\n",
      "video 1/1 (frame 55/60) d:\\major_project_sus\\DCSASS Dataset\\Assault\\Assault022_x264.mp4\\Assault022_x264_3.mp4: 480x640 1 person, 1 car, 8.7ms\n",
      "video 1/1 (frame 56/60) d:\\major_project_sus\\DCSASS Dataset\\Assault\\Assault022_x264.mp4\\Assault022_x264_3.mp4: 480x640 2 persons, 1 car, 8.8ms\n",
      "video 1/1 (frame 57/60) d:\\major_project_sus\\DCSASS Dataset\\Assault\\Assault022_x264.mp4\\Assault022_x264_3.mp4: 480x640 1 person, 1 car, 8.5ms\n",
      "video 1/1 (frame 58/60) d:\\major_project_sus\\DCSASS Dataset\\Assault\\Assault022_x264.mp4\\Assault022_x264_3.mp4: 480x640 1 person, 1 car, 8.4ms\n",
      "video 1/1 (frame 59/60) d:\\major_project_sus\\DCSASS Dataset\\Assault\\Assault022_x264.mp4\\Assault022_x264_3.mp4: 480x640 1 person, 1 car, 8.3ms\n",
      "video 1/1 (frame 60/60) d:\\major_project_sus\\DCSASS Dataset\\Assault\\Assault022_x264.mp4\\Assault022_x264_3.mp4: 480x640 1 person, 1 car, 8.4ms\n",
      "Speed: 1.5ms preprocess, 9.8ms inference, 1.3ms postprocess per image at shape (1, 3, 480, 640)\n",
      "Results saved to \u001b[1mruns\\detect\\predict16\u001b[0m\n",
      "Loaded clip tensor shape: torch.Size([3, 224, 224])\n"
     ]
    },
    {
     "ename": "ValueError",
     "evalue": "Unexpected clip tensor shape: torch.Size([3, 224, 224])",
     "output_type": "error",
     "traceback": [
      "\u001b[1;31m---------------------------------------------------------------------------\u001b[0m",
      "\u001b[1;31mValueError\u001b[0m                                Traceback (most recent call last)",
      "Cell \u001b[1;32mIn[4], line 50\u001b[0m\n\u001b[0;32m     48\u001b[0m     \u001b[38;5;28;01mpass\u001b[39;00m  \u001b[38;5;66;03m# Already [1, T, C, H, W]\u001b[39;00m\n\u001b[0;32m     49\u001b[0m \u001b[38;5;28;01melse\u001b[39;00m:\n\u001b[1;32m---> 50\u001b[0m     \u001b[38;5;28;01mraise\u001b[39;00m \u001b[38;5;167;01mValueError\u001b[39;00m(\u001b[38;5;124mf\u001b[39m\u001b[38;5;124m\"\u001b[39m\u001b[38;5;124mUnexpected clip tensor shape: \u001b[39m\u001b[38;5;132;01m{\u001b[39;00mclip_tensor\u001b[38;5;241m.\u001b[39mshape\u001b[38;5;132;01m}\u001b[39;00m\u001b[38;5;124m\"\u001b[39m)\n\u001b[0;32m     52\u001b[0m clip_tensor \u001b[38;5;241m=\u001b[39m clip_tensor\u001b[38;5;241m.\u001b[39mto(device)\n\u001b[0;32m     54\u001b[0m \u001b[38;5;66;03m# -------- Make Prediction --------\u001b[39;00m\n",
      "\u001b[1;31mValueError\u001b[0m: Unexpected clip tensor shape: torch.Size([3, 224, 224])"
     ]
    }
   ],
   "source": [
    "import torch\n",
    "from ultralytics import YOLO\n",
    "from IPython.display import Video, display\n",
    "from pathlib import Path\n",
    "import os\n",
    "from model_r2plus1d import R2Plus1D  # Your custom model definition\n",
    "\n",
    "# -------- Configuration --------\n",
    "clip_tensor_path = r\"D:\\major_project_sus\\preprocessed_dataset\\Assault\\Assault002_x264_3\\10.pt\"\n",
    "video_path = r\"DCSASS Dataset/Assault/Assault022_x264.mp4/Assault022_x264_3.mp4\"\n",
    "yolo_model_path = \"yolov8n.pt\"  # Change if using a different YOLOv8 model\n",
    "activity_model_path = r\"D:\\major_project_sus\\best_r2plus1d_model.pth\"\n",
    "\n",
    "# -------- Device Setup --------\n",
    "device = torch.device(\"cuda\" if torch.cuda.is_available() else \"cpu\")\n",
    "\n",
    "# -------- Activity Class Names --------\n",
    "activity_class_names = [\n",
    "    \"Arrest\", \"Arson\", \"Assault\", \"Burglary\", \"Explosion\",\n",
    "    \"Fighting\", \"Normal\", \"RoadAccidents\", \"Robbery\", \"Shoplifting\",\n",
    "    \"Stealing\", \"Vandalism\", \"Abuse\", \"Trespassing\"\n",
    "]\n",
    "\n",
    "# -------- Load R(2+1)D model --------\n",
    "activity_model = R2Plus1D(num_classes=len(activity_class_names)).to(device)\n",
    "activity_model.load_state_dict(torch.load(activity_model_path, map_location=device))\n",
    "activity_model.eval()\n",
    "\n",
    "# -------- Load YOLOv8 model --------\n",
    "yolo_model = YOLO(yolo_model_path)\n",
    "\n",
    "# -------- Run YOLOv8 on Original Video --------\n",
    "yolo_results = yolo_model.predict(source=video_path, show=False, save=True, conf=0.4)\n",
    "\n",
    "# Get saved video path\n",
    "save_dir = Path(yolo_results[0].save_dir)\n",
    "output_path = save_dir / Path(video_path).with_suffix('.avi').name\n",
    "output_path = str(output_path)\n",
    "\n",
    "# -------- Run R(2+1)D on Preprocessed Clip --------\n",
    "clip_tensor = torch.load(clip_tensor_path)\n",
    "print(f\"Loaded clip tensor shape: {clip_tensor.shape}\")\n",
    "\n",
    "# Handle tensor dimensions properly\n",
    "if clip_tensor.dim() == 4:\n",
    "    clip_tensor = clip_tensor.unsqueeze(0)  # [1, T, C, H, W]\n",
    "elif clip_tensor.dim() == 5:\n",
    "    pass  # Already [1, T, C, H, W]\n",
    "else:\n",
    "    raise ValueError(f\"Unexpected clip tensor shape: {clip_tensor.shape}\")\n",
    "\n",
    "clip_tensor = clip_tensor.to(device)\n",
    "\n",
    "# -------- Make Prediction --------\n",
    "with torch.no_grad():\n",
    "    output = activity_model(clip_tensor)\n",
    "    activity_index = output.argmax(dim=1).item()\n",
    "    predicted_activity = activity_class_names[activity_index]\n",
    "\n",
    "# -------- Display Results --------\n",
    "print(\"✅ YOLOv8 Detection Done.\")\n",
    "print(f\"📁 Detection video saved at: {output_path}\")\n",
    "print(f\"🎬 Predicted Activity: {predicted_activity}\")\n",
    "\n",
    "# 🚨 Raise Alert if Activity is Suspicious\n",
    "if predicted_activity.lower() not in [\"normal\", \"walking\", \"standing\"]:\n",
    "    print(f\"🚨 ALERT: Suspicious activity detected → {predicted_activity}\")\n",
    "\n",
    "# -------- Display Output Video in Notebook --------\n",
    "if os.path.exists(output_path):\n",
    "    display(Video(filename=output_path, embed=True, width=720))\n",
    "else:\n",
    "    print(\"⚠️ Output video not found.\")\n"
   ]
  },
  {
   "cell_type": "markdown",
   "id": "1f88c3dd",
   "metadata": {},
   "source": [
    "# start here for the new yolo\n"
   ]
  },
  {
   "cell_type": "code",
   "execution_count": null,
   "id": "55fd6f37",
   "metadata": {},
   "outputs": [
    {
     "name": "stdout",
     "output_type": "stream",
     "text": [
      "✅ All frames sorted into 'normal' and 'suspicious'. Now splitting into train/val...\n",
      "✅ 50% split into 'train' and 'val' folders complete.\n"
     ]
    }
   ],
   "source": [
    "import os\n",
    "import shutil\n",
    "import pandas as pd\n",
    "import glob\n",
    "import random\n",
    "\n",
    "# Set random seed for consistent train/val split\n",
    "random.seed(42)\n",
    "\n",
    "# Paths\n",
    "labels_dir = r\"D:\\major_project_sus\\DCSASS Dataset\\Labels\"\n",
    "frames_root = r\"D:\\major_project_sus\\processed_dataset\"\n",
    "output_all = r\"D:\\major_project_sus\\frame_classification\\all\"\n",
    "\n",
    "# Create output folders\n",
    "for label_folder in ['normal', 'suspicious']:\n",
    "    os.makedirs(os.path.join(output_all, label_folder), exist_ok=True)\n",
    "\n",
    "# Process all CSV files (e.g., Abuse.csv, Assault.csv, etc.)\n",
    "csv_files = glob.glob(os.path.join(labels_dir, \"*.csv\"))\n",
    "\n",
    "for csv_file in csv_files:\n",
    "    df = pd.read_csv(csv_file, header=None, names=[\"clip_name\", \"activity\", \"label\"])\n",
    "    activity_name = os.path.basename(csv_file).replace(\".csv\", \"\")\n",
    "    \n",
    "    for idx, row in df.iterrows():\n",
    "        clip_folder = row[\"clip_name\"]\n",
    "        label = row[\"label\"]\n",
    "        \n",
    "        # Frame directory: D:/.../processed_dataset/Abuse/Abuse001_x264_0/\n",
    "        frame_dir = os.path.join(frames_root, activity_name, clip_folder)\n",
    "        if not os.path.exists(frame_dir):\n",
    "            continue\n",
    "        \n",
    "        for frame_file in os.listdir(frame_dir):\n",
    "            if frame_file.endswith(\".jpg\"):\n",
    "                src = os.path.join(frame_dir, frame_file)\n",
    "                dest_label = \"suspicious\" if label == 1 else \"normal\"\n",
    "                dest_path = os.path.join(output_all, dest_label, f\"{clip_folder}_{frame_file}\")\n",
    "                shutil.copy(src, dest_path)\n",
    "\n",
    "print(\"✅ All frames sorted into 'normal' and 'suspicious'. Now splitting into train/val...\")\n",
    "\n",
    "# Now split 50% into train/val\n",
    "output_train = r\"D:\\major_project_sus\\frame_classification\\train\"\n",
    "output_val = r\"D:\\major_project_sus\\frame_classification\\val\"\n",
    "\n",
    "for split_folder in [output_train, output_val]:\n",
    "    for label in ['normal', 'suspicious']:\n",
    "        os.makedirs(os.path.join(split_folder, label), exist_ok=True)\n",
    "\n",
    "# Split frames\n",
    "for label in ['normal', 'suspicious']:\n",
    "    all_images = glob.glob(os.path.join(output_all, label, \"*.jpg\"))\n",
    "    random.shuffle(all_images)\n",
    "    \n",
    "    split_idx = len(all_images) // 2\n",
    "    train_images = all_images[:split_idx]\n",
    "    val_images = all_images[split_idx:]\n",
    "    \n",
    "    for img in train_images:\n",
    "        shutil.copy(img, os.path.join(output_train, label, os.path.basename(img)))\n",
    "    \n",
    "    for img in val_images:\n",
    "        shutil.copy(img, os.path.join(output_val, label, os.path.basename(img)))\n",
    "\n",
    "print(\"✅ 50% split into 'train' and 'val' folders complete.\")\n"
   ]
  },
  {
   "cell_type": "code",
   "execution_count": null,
   "id": "7a5e379a",
   "metadata": {},
   "outputs": [
    {
     "name": "stdout",
     "output_type": "stream",
     "text": [
      "✅ YOLO annotation files created for all images.\n"
     ]
    }
   ],
   "source": [
    "import os\n",
    "import glob\n",
    "\n",
    "# Base paths\n",
    "image_base = r\"D:\\major_project_sus\\frame_classification\"\n",
    "label_base = r\"D:\\major_project_sus\\frame_classification_labels\"\n",
    "\n",
    "splits = [\"train\", \"val\"]\n",
    "classes = {\"normal\": 0, \"suspicious\": 1}\n",
    "\n",
    "for split in splits:\n",
    "    for cls_name, cls_id in classes.items():\n",
    "        img_folder = os.path.join(image_base, split, cls_name)\n",
    "        label_folder = os.path.join(label_base, split, cls_name)\n",
    "        \n",
    "        # Ensure the label directory exists\n",
    "        os.makedirs(label_folder, exist_ok=True)\n",
    "        \n",
    "        images = glob.glob(os.path.join(img_folder, \"*.jpg\"))\n",
    "        for img_path in images:\n",
    "            img_name = os.path.basename(img_path)\n",
    "            label_name = img_name.replace(\".jpg\", \".txt\")\n",
    "            label_path = os.path.join(label_folder, label_name)\n",
    "            \n",
    "            with open(label_path, \"w\") as f:\n",
    "                # Write full-image bounding box\n",
    "                f.write(f\"{cls_id} 0.5 0.5 1.0 1.0\\n\")\n",
    "\n",
    "print(\"✅ YOLO annotation files created for all images.\")\n"
   ]
  },
  {
   "cell_type": "code",
   "execution_count": null,
   "id": "89086e89",
   "metadata": {},
   "outputs": [
    {
     "name": "stdout",
     "output_type": "stream",
     "text": [
      "✅ Annotation .txt files copied next to image files.\n"
     ]
    }
   ],
   "source": [
    "import os\n",
    "import shutil\n",
    "from glob import glob\n",
    "\n",
    "# Source label root\n",
    "label_root = r\"D:\\major_project_sus\\frame_classification_labels\"\n",
    "# Destination image root (YOLO expects .txt to be here)\n",
    "image_root = r\"D:\\major_project_sus\\frame_classification\"\n",
    "\n",
    "splits = ['train', 'val']\n",
    "classes = ['normal', 'suspicious']\n",
    "\n",
    "for split in splits:\n",
    "    for cls in classes:\n",
    "        label_dir = os.path.join(label_root, split, cls)\n",
    "        image_dir = os.path.join(image_root, split, cls)\n",
    "\n",
    "        txt_files = glob(os.path.join(label_dir, \"*.txt\"))\n",
    "        for txt_file in txt_files:\n",
    "            dest_file = os.path.join(image_dir, os.path.basename(txt_file))\n",
    "            shutil.copy(txt_file, dest_file)\n",
    "\n",
    "print(\"✅ Annotation .txt files copied next to image files.\")\n"
   ]
  },
  {
   "cell_type": "markdown",
   "id": "74ccd8b7",
   "metadata": {},
   "source": [
    "YOLO training start"
   ]
  },
  {
   "cell_type": "code",
   "execution_count": null,
   "id": "5e1381a0",
   "metadata": {},
   "outputs": [
    {
     "name": "stdout",
     "output_type": "stream",
     "text": [
      "Requirement already satisfied: ultralytics in c:\\users\\admin\\anaconda3\\lib\\site-packages (8.3.103)\n",
      "Requirement already satisfied: numpy<=2.1.1,>=1.23.0 in c:\\users\\admin\\anaconda3\\lib\\site-packages (from ultralytics) (1.24.3)\n",
      "Requirement already satisfied: matplotlib>=3.3.0 in c:\\users\\admin\\anaconda3\\lib\\site-packages (from ultralytics) (3.7.2)\n",
      "Requirement already satisfied: opencv-python>=4.6.0 in c:\\users\\admin\\anaconda3\\lib\\site-packages (from ultralytics) (4.11.0.86)\n",
      "Requirement already satisfied: pillow>=7.1.2 in c:\\users\\admin\\anaconda3\\lib\\site-packages (from ultralytics) (9.4.0)\n",
      "Requirement already satisfied: pyyaml>=5.3.1 in c:\\users\\admin\\anaconda3\\lib\\site-packages (from ultralytics) (6.0)\n",
      "Requirement already satisfied: requests>=2.23.0 in c:\\users\\admin\\anaconda3\\lib\\site-packages (from ultralytics) (2.31.0)\n",
      "Requirement already satisfied: scipy>=1.4.1 in c:\\users\\admin\\anaconda3\\lib\\site-packages (from ultralytics) (1.11.1)\n",
      "Requirement already satisfied: torch>=1.8.0 in c:\\users\\admin\\anaconda3\\lib\\site-packages (from ultralytics) (2.1.0)\n",
      "Requirement already satisfied: torchvision>=0.9.0 in c:\\users\\admin\\anaconda3\\lib\\site-packages (from ultralytics) (0.16.0)\n",
      "Requirement already satisfied: tqdm>=4.64.0 in c:\\users\\admin\\anaconda3\\lib\\site-packages (from ultralytics) (4.65.0)\n",
      "Requirement already satisfied: psutil in c:\\users\\admin\\anaconda3\\lib\\site-packages (from ultralytics) (5.9.0)\n",
      "Requirement already satisfied: py-cpuinfo in c:\\users\\admin\\anaconda3\\lib\\site-packages (from ultralytics) (8.0.0)\n",
      "Requirement already satisfied: pandas>=1.1.4 in c:\\users\\admin\\anaconda3\\lib\\site-packages (from ultralytics) (2.0.3)\n",
      "Requirement already satisfied: seaborn>=0.11.0 in c:\\users\\admin\\anaconda3\\lib\\site-packages (from ultralytics) (0.12.2)\n",
      "Requirement already satisfied: ultralytics-thop>=2.0.0 in c:\\users\\admin\\anaconda3\\lib\\site-packages (from ultralytics) (2.0.14)\n",
      "Requirement already satisfied: contourpy>=1.0.1 in c:\\users\\admin\\anaconda3\\lib\\site-packages (from matplotlib>=3.3.0->ultralytics) (1.0.5)\n",
      "Requirement already satisfied: cycler>=0.10 in c:\\users\\admin\\anaconda3\\lib\\site-packages (from matplotlib>=3.3.0->ultralytics) (0.11.0)\n",
      "Requirement already satisfied: fonttools>=4.22.0 in c:\\users\\admin\\anaconda3\\lib\\site-packages (from matplotlib>=3.3.0->ultralytics) (4.25.0)\n",
      "Requirement already satisfied: kiwisolver>=1.0.1 in c:\\users\\admin\\anaconda3\\lib\\site-packages (from matplotlib>=3.3.0->ultralytics) (1.4.4)\n",
      "Requirement already satisfied: packaging>=20.0 in c:\\users\\admin\\anaconda3\\lib\\site-packages (from matplotlib>=3.3.0->ultralytics) (23.1)\n",
      "Requirement already satisfied: pyparsing<3.1,>=2.3.1 in c:\\users\\admin\\anaconda3\\lib\\site-packages (from matplotlib>=3.3.0->ultralytics) (3.0.9)\n",
      "Requirement already satisfied: python-dateutil>=2.7 in c:\\users\\admin\\anaconda3\\lib\\site-packages (from matplotlib>=3.3.0->ultralytics) (2.8.2)\n",
      "Requirement already satisfied: pytz>=2020.1 in c:\\users\\admin\\anaconda3\\lib\\site-packages (from pandas>=1.1.4->ultralytics) (2023.3.post1)\n",
      "Requirement already satisfied: tzdata>=2022.1 in c:\\users\\admin\\anaconda3\\lib\\site-packages (from pandas>=1.1.4->ultralytics) (2023.3)\n",
      "Requirement already satisfied: charset-normalizer<4,>=2 in c:\\users\\admin\\anaconda3\\lib\\site-packages (from requests>=2.23.0->ultralytics) (2.0.4)\n",
      "Requirement already satisfied: idna<4,>=2.5 in c:\\users\\admin\\anaconda3\\lib\\site-packages (from requests>=2.23.0->ultralytics) (3.4)\n",
      "Requirement already satisfied: urllib3<3,>=1.21.1 in c:\\users\\admin\\anaconda3\\lib\\site-packages (from requests>=2.23.0->ultralytics) (1.26.16)\n",
      "Requirement already satisfied: certifi>=2017.4.17 in c:\\users\\admin\\anaconda3\\lib\\site-packages (from requests>=2.23.0->ultralytics) (2023.7.22)\n",
      "Requirement already satisfied: filelock in c:\\users\\admin\\anaconda3\\lib\\site-packages (from torch>=1.8.0->ultralytics) (3.9.0)\n",
      "Requirement already satisfied: typing-extensions in c:\\users\\admin\\anaconda3\\lib\\site-packages (from torch>=1.8.0->ultralytics) (4.7.1)\n",
      "Requirement already satisfied: sympy in c:\\users\\admin\\anaconda3\\lib\\site-packages (from torch>=1.8.0->ultralytics) (1.11.1)\n",
      "Requirement already satisfied: networkx in c:\\users\\admin\\anaconda3\\lib\\site-packages (from torch>=1.8.0->ultralytics) (3.1)\n",
      "Requirement already satisfied: jinja2 in c:\\users\\admin\\anaconda3\\lib\\site-packages (from torch>=1.8.0->ultralytics) (3.1.2)\n",
      "Requirement already satisfied: fsspec in c:\\users\\admin\\anaconda3\\lib\\site-packages (from torch>=1.8.0->ultralytics) (2023.4.0)\n",
      "Requirement already satisfied: colorama in c:\\users\\admin\\anaconda3\\lib\\site-packages (from tqdm>=4.64.0->ultralytics) (0.4.6)\n",
      "Requirement already satisfied: six>=1.5 in c:\\users\\admin\\anaconda3\\lib\\site-packages (from python-dateutil>=2.7->matplotlib>=3.3.0->ultralytics) (1.16.0)\n",
      "Requirement already satisfied: MarkupSafe>=2.0 in c:\\users\\admin\\anaconda3\\lib\\site-packages (from jinja2->torch>=1.8.0->ultralytics) (2.1.1)\n",
      "Requirement already satisfied: mpmath>=0.19 in c:\\users\\admin\\anaconda3\\lib\\site-packages (from sympy->torch>=1.8.0->ultralytics) (1.3.0)\n"
     ]
    }
   ],
   "source": [
    "!pip install ultralytics\n"
   ]
  },
  {
   "cell_type": "code",
   "execution_count": null,
   "id": "42a8e0b9",
   "metadata": {},
   "outputs": [
    {
     "name": "stdout",
     "output_type": "stream",
     "text": [
      "Ultralytics 8.3.103  Python-3.11.5 torch-2.1.0 CUDA:0 (NVIDIA RTX A5000, 24563MiB)\n",
      "Setup complete  (36 CPUs, 127.6 GB RAM, 302.7/500.0 GB disk)\n"
     ]
    }
   ],
   "source": [
    "from ultralytics import YOLO\n",
    "\n",
    "# Optional: Check version\n",
    "import ultralytics\n",
    "ultralytics.checks()\n"
   ]
  },
  {
   "cell_type": "code",
   "execution_count": null,
   "id": "cf53ab44",
   "metadata": {},
   "outputs": [
    {
     "name": "stdout",
     "output_type": "stream",
     "text": [
      "New https://pypi.org/project/ultralytics/8.3.109 available  Update with 'pip install -U ultralytics'\n",
      "Ultralytics 8.3.103  Python-3.11.5 torch-2.1.0 CUDA:0 (NVIDIA RTX A5000, 24563MiB)\n",
      "\u001b[34m\u001b[1mengine\\trainer: \u001b[0mtask=detect, mode=train, model=yolov8n.pt, data=D:/major_project_sus/data.yaml, epochs=50, time=None, patience=100, batch=16, imgsz=640, save=True, save_period=-1, cache=False, device=None, workers=8, project=None, name=train2, exist_ok=False, pretrained=True, optimizer=auto, verbose=True, seed=0, deterministic=True, single_cls=False, rect=False, cos_lr=False, close_mosaic=10, resume=False, amp=True, fraction=1.0, profile=False, freeze=None, multi_scale=False, overlap_mask=True, mask_ratio=4, dropout=0.0, val=True, split=val, save_json=False, save_hybrid=False, conf=None, iou=0.7, max_det=300, half=False, dnn=False, plots=True, source=None, vid_stride=1, stream_buffer=False, visualize=False, augment=False, agnostic_nms=False, classes=None, retina_masks=False, embed=None, show=False, save_frames=False, save_txt=False, save_conf=False, save_crop=False, show_labels=True, show_conf=True, show_boxes=True, line_width=None, format=torchscript, keras=False, optimize=False, int8=False, dynamic=False, simplify=True, opset=None, workspace=None, nms=False, lr0=0.01, lrf=0.01, momentum=0.937, weight_decay=0.0005, warmup_epochs=3.0, warmup_momentum=0.8, warmup_bias_lr=0.1, box=7.5, cls=0.5, dfl=1.5, pose=12.0, kobj=1.0, nbs=64, hsv_h=0.015, hsv_s=0.7, hsv_v=0.4, degrees=0.0, translate=0.1, scale=0.5, shear=0.0, perspective=0.0, flipud=0.0, fliplr=0.5, bgr=0.0, mosaic=1.0, mixup=0.0, copy_paste=0.0, copy_paste_mode=flip, auto_augment=randaugment, erasing=0.4, crop_fraction=1.0, cfg=None, tracker=botsort.yaml, save_dir=runs\\detect\\train2\n",
      "Overriding model.yaml nc=80 with nc=2\n",
      "\n",
      "                   from  n    params  module                                       arguments                     \n",
      "  0                  -1  1       464  ultralytics.nn.modules.conv.Conv             [3, 16, 3, 2]                 \n",
      "  1                  -1  1      4672  ultralytics.nn.modules.conv.Conv             [16, 32, 3, 2]                \n",
      "  2                  -1  1      7360  ultralytics.nn.modules.block.C2f             [32, 32, 1, True]             \n",
      "  3                  -1  1     18560  ultralytics.nn.modules.conv.Conv             [32, 64, 3, 2]                \n",
      "  4                  -1  2     49664  ultralytics.nn.modules.block.C2f             [64, 64, 2, True]             \n",
      "  5                  -1  1     73984  ultralytics.nn.modules.conv.Conv             [64, 128, 3, 2]               \n",
      "  6                  -1  2    197632  ultralytics.nn.modules.block.C2f             [128, 128, 2, True]           \n",
      "  7                  -1  1    295424  ultralytics.nn.modules.conv.Conv             [128, 256, 3, 2]              \n",
      "  8                  -1  1    460288  ultralytics.nn.modules.block.C2f             [256, 256, 1, True]           \n",
      "  9                  -1  1    164608  ultralytics.nn.modules.block.SPPF            [256, 256, 5]                 \n",
      " 10                  -1  1         0  torch.nn.modules.upsampling.Upsample         [None, 2, 'nearest']          \n",
      " 11             [-1, 6]  1         0  ultralytics.nn.modules.conv.Concat           [1]                           \n",
      " 12                  -1  1    148224  ultralytics.nn.modules.block.C2f             [384, 128, 1]                 \n",
      " 13                  -1  1         0  torch.nn.modules.upsampling.Upsample         [None, 2, 'nearest']          \n",
      " 14             [-1, 4]  1         0  ultralytics.nn.modules.conv.Concat           [1]                           \n",
      " 15                  -1  1     37248  ultralytics.nn.modules.block.C2f             [192, 64, 1]                  \n",
      " 16                  -1  1     36992  ultralytics.nn.modules.conv.Conv             [64, 64, 3, 2]                \n",
      " 17            [-1, 12]  1         0  ultralytics.nn.modules.conv.Concat           [1]                           \n",
      " 18                  -1  1    123648  ultralytics.nn.modules.block.C2f             [192, 128, 1]                 \n",
      " 19                  -1  1    147712  ultralytics.nn.modules.conv.Conv             [128, 128, 3, 2]              \n",
      " 20             [-1, 9]  1         0  ultralytics.nn.modules.conv.Concat           [1]                           \n",
      " 21                  -1  1    493056  ultralytics.nn.modules.block.C2f             [384, 256, 1]                 \n",
      " 22        [15, 18, 21]  1    751702  ultralytics.nn.modules.head.Detect           [2, [64, 128, 256]]           \n",
      "Model summary: 129 layers, 3,011,238 parameters, 3,011,222 gradients, 8.2 GFLOPs\n",
      "\n",
      "Transferred 319/355 items from pretrained weights\n",
      "Freezing layer 'model.22.dfl.conv.weight'\n",
      "\u001b[34m\u001b[1mAMP: \u001b[0mrunning Automatic Mixed Precision (AMP) checks...\n",
      "\u001b[34m\u001b[1mAMP: \u001b[0mchecks passed \n"
     ]
    },
    {
     "name": "stderr",
     "output_type": "stream",
     "text": [
      "\u001b[34m\u001b[1mtrain: \u001b[0mScanning D:\\major_project_sus\\frame_classification\\train\\normal... 101931 images, 0 backgrounds, 0 corrupt: 100%|██████████| 101931/101931 [00:46<00:00, 2182.20it/s]\n"
     ]
    },
    {
     "name": "stdout",
     "output_type": "stream",
     "text": [
      "\u001b[34m\u001b[1mtrain: \u001b[0mNew cache created: D:\\major_project_sus\\frame_classification\\train\\normal.cache\n"
     ]
    },
    {
     "name": "stderr",
     "output_type": "stream",
     "text": [
      "\u001b[34m\u001b[1mval: \u001b[0mScanning D:\\major_project_sus\\frame_classification\\val\\normal... 101931 images, 0 backgrounds, 0 corrupt: 100%|██████████| 101931/101931 [02:22<00:00, 714.17it/s]\n"
     ]
    },
    {
     "name": "stdout",
     "output_type": "stream",
     "text": [
      "\u001b[34m\u001b[1mval: \u001b[0mNew cache created: D:\\major_project_sus\\frame_classification\\val\\normal.cache\n",
      "Plotting labels to runs\\detect\\train2\\labels.jpg... \n",
      "\u001b[34m\u001b[1moptimizer:\u001b[0m 'optimizer=auto' found, ignoring 'lr0=0.01' and 'momentum=0.937' and determining best 'optimizer', 'lr0' and 'momentum' automatically... \n",
      "\u001b[34m\u001b[1moptimizer:\u001b[0m SGD(lr=0.01, momentum=0.9) with parameter groups 57 weight(decay=0.0), 64 weight(decay=0.0005), 63 bias(decay=0.0)\n",
      "Image sizes 640 train, 640 val\n",
      "Using 8 dataloader workers\n",
      "Logging results to \u001b[1mruns\\detect\\train2\u001b[0m\n",
      "Starting training for 50 epochs...\n",
      "\n",
      "      Epoch    GPU_mem   box_loss   cls_loss   dfl_loss  Instances       Size\n"
     ]
    },
    {
     "name": "stderr",
     "output_type": "stream",
     "text": [
      "       1/50      2.26G     0.2162      1.055     0.9748         32        640: 100%|██████████| 6371/6371 [11:20<00:00,  9.36it/s]\n",
      "                 Class     Images  Instances      Box(P          R      mAP50  mAP50-95): 100%|██████████| 3186/3186 [07:49<00:00,  6.79it/s]\n"
     ]
    },
    {
     "name": "stdout",
     "output_type": "stream",
     "text": [
      "                   all     101931     101931      0.707      0.844      0.827      0.826\n",
      "\n",
      "      Epoch    GPU_mem   box_loss   cls_loss   dfl_loss  Instances       Size\n"
     ]
    },
    {
     "name": "stderr",
     "output_type": "stream",
     "text": [
      "       2/50      2.49G        inf     0.7035     0.9199         35        640: 100%|██████████| 6371/6371 [10:33<00:00, 10.06it/s]\n",
      "                 Class     Images  Instances      Box(P          R      mAP50  mAP50-95): 100%|██████████| 3186/3186 [07:31<00:00,  7.06it/s]\n"
     ]
    },
    {
     "name": "stdout",
     "output_type": "stream",
     "text": [
      "                   all     101931     101931      0.736      0.846      0.851      0.851\n",
      "\n",
      "      Epoch    GPU_mem   box_loss   cls_loss   dfl_loss  Instances       Size\n"
     ]
    },
    {
     "name": "stderr",
     "output_type": "stream",
     "text": [
      "       3/50      2.49G     0.1649     0.6923     0.9174         37        640: 100%|██████████| 6371/6371 [10:13<00:00, 10.38it/s]\n",
      "                 Class     Images  Instances      Box(P          R      mAP50  mAP50-95): 100%|██████████| 3186/3186 [07:28<00:00,  7.11it/s]\n"
     ]
    },
    {
     "name": "stdout",
     "output_type": "stream",
     "text": [
      "                   all     101931     101931      0.739      0.853      0.857      0.856\n",
      "\n",
      "      Epoch    GPU_mem   box_loss   cls_loss   dfl_loss  Instances       Size\n"
     ]
    },
    {
     "name": "stderr",
     "output_type": "stream",
     "text": [
      "       4/50      2.49G     0.1409     0.6744     0.9082         31        640: 100%|██████████| 6371/6371 [10:00<00:00, 10.60it/s]\n",
      "                 Class     Images  Instances      Box(P          R      mAP50  mAP50-95): 100%|██████████| 3186/3186 [07:22<00:00,  7.20it/s]\n"
     ]
    },
    {
     "name": "stdout",
     "output_type": "stream",
     "text": [
      "                   all     101931     101931      0.767      0.851      0.874      0.873\n",
      "\n",
      "      Epoch    GPU_mem   box_loss   cls_loss   dfl_loss  Instances       Size\n"
     ]
    },
    {
     "name": "stderr",
     "output_type": "stream",
     "text": [
      "       5/50      2.49G     0.1136     0.6329     0.8965         29        640: 100%|██████████| 6371/6371 [09:56<00:00, 10.68it/s]\n",
      "                 Class     Images  Instances      Box(P          R      mAP50  mAP50-95): 100%|██████████| 3186/3186 [07:18<00:00,  7.27it/s]\n"
     ]
    },
    {
     "name": "stdout",
     "output_type": "stream",
     "text": [
      "                   all     101931     101931       0.79      0.852       0.89       0.89\n",
      "\n",
      "      Epoch    GPU_mem   box_loss   cls_loss   dfl_loss  Instances       Size\n"
     ]
    },
    {
     "name": "stderr",
     "output_type": "stream",
     "text": [
      "       6/50      2.49G     0.1008     0.6045     0.8924         37        640: 100%|██████████| 6371/6371 [09:56<00:00, 10.69it/s]\n",
      "                 Class     Images  Instances      Box(P          R      mAP50  mAP50-95): 100%|██████████| 3186/3186 [07:19<00:00,  7.25it/s]\n"
     ]
    },
    {
     "name": "stdout",
     "output_type": "stream",
     "text": [
      "                   all     101931     101931      0.804      0.854      0.901      0.901\n",
      "\n",
      "      Epoch    GPU_mem   box_loss   cls_loss   dfl_loss  Instances       Size\n"
     ]
    },
    {
     "name": "stderr",
     "output_type": "stream",
     "text": [
      "       7/50      2.49G    0.09211     0.5847     0.8894         33        640: 100%|██████████| 6371/6371 [09:57<00:00, 10.67it/s]\n",
      "                 Class     Images  Instances      Box(P          R      mAP50  mAP50-95): 100%|██████████| 3186/3186 [07:19<00:00,  7.25it/s]\n"
     ]
    },
    {
     "name": "stdout",
     "output_type": "stream",
     "text": [
      "                   all     101931     101931      0.811      0.866      0.909      0.909\n",
      "\n",
      "      Epoch    GPU_mem   box_loss   cls_loss   dfl_loss  Instances       Size\n"
     ]
    },
    {
     "name": "stderr",
     "output_type": "stream",
     "text": [
      "       8/50      2.49G    0.08688     0.5705     0.8875         33        640: 100%|██████████| 6371/6371 [09:53<00:00, 10.73it/s]\n",
      "                 Class     Images  Instances      Box(P          R      mAP50  mAP50-95): 100%|██████████| 3186/3186 [07:19<00:00,  7.25it/s]\n"
     ]
    },
    {
     "name": "stdout",
     "output_type": "stream",
     "text": [
      "                   all     101931     101931      0.817       0.87      0.913      0.913\n",
      "\n",
      "      Epoch    GPU_mem   box_loss   cls_loss   dfl_loss  Instances       Size\n"
     ]
    },
    {
     "name": "stderr",
     "output_type": "stream",
     "text": [
      "       9/50      2.49G    0.08285     0.5547     0.8862         35        640: 100%|██████████| 6371/6371 [09:52<00:00, 10.76it/s]\n",
      "                 Class     Images  Instances      Box(P          R      mAP50  mAP50-95): 100%|██████████| 3186/3186 [07:19<00:00,  7.25it/s]\n"
     ]
    },
    {
     "name": "stdout",
     "output_type": "stream",
     "text": [
      "                   all     101931     101931      0.827      0.867      0.917      0.917\n",
      "\n",
      "      Epoch    GPU_mem   box_loss   cls_loss   dfl_loss  Instances       Size\n"
     ]
    },
    {
     "name": "stderr",
     "output_type": "stream",
     "text": [
      "      10/50      2.49G    0.07954     0.5465     0.8848         39        640: 100%|██████████| 6371/6371 [09:50<00:00, 10.79it/s]\n",
      "                 Class     Images  Instances      Box(P          R      mAP50  mAP50-95): 100%|██████████| 3186/3186 [07:20<00:00,  7.24it/s]\n"
     ]
    },
    {
     "name": "stdout",
     "output_type": "stream",
     "text": [
      "                   all     101931     101931      0.832      0.867      0.919      0.919\n",
      "\n",
      "      Epoch    GPU_mem   box_loss   cls_loss   dfl_loss  Instances       Size\n"
     ]
    },
    {
     "name": "stderr",
     "output_type": "stream",
     "text": [
      "      11/50      2.49G    0.07695     0.5361     0.8841         39        640: 100%|██████████| 6371/6371 [09:50<00:00, 10.78it/s]\n",
      "                 Class     Images  Instances      Box(P          R      mAP50  mAP50-95): 100%|██████████| 3186/3186 [07:19<00:00,  7.26it/s]\n"
     ]
    },
    {
     "name": "stdout",
     "output_type": "stream",
     "text": [
      "                   all     101931     101931      0.835      0.868      0.921      0.921\n",
      "\n",
      "      Epoch    GPU_mem   box_loss   cls_loss   dfl_loss  Instances       Size\n"
     ]
    },
    {
     "name": "stderr",
     "output_type": "stream",
     "text": [
      "      12/50      2.49G        inf     0.5275     0.8833         30        640: 100%|██████████| 6371/6371 [09:52<00:00, 10.75it/s]\n",
      "                 Class     Images  Instances      Box(P          R      mAP50  mAP50-95): 100%|██████████| 3186/3186 [07:19<00:00,  7.25it/s]\n"
     ]
    },
    {
     "name": "stdout",
     "output_type": "stream",
     "text": [
      "                   all     101931     101931      0.836      0.871      0.924      0.924\n",
      "\n",
      "      Epoch    GPU_mem   box_loss   cls_loss   dfl_loss  Instances       Size\n"
     ]
    },
    {
     "name": "stderr",
     "output_type": "stream",
     "text": [
      "      13/50      2.49G    0.07276     0.5169     0.8823         29        640: 100%|██████████| 6371/6371 [09:51<00:00, 10.77it/s]\n",
      "                 Class     Images  Instances      Box(P          R      mAP50  mAP50-95): 100%|██████████| 3186/3186 [07:19<00:00,  7.25it/s]\n"
     ]
    },
    {
     "name": "stdout",
     "output_type": "stream",
     "text": [
      "                   all     101931     101931       0.84      0.873      0.926      0.926\n",
      "\n",
      "      Epoch    GPU_mem   box_loss   cls_loss   dfl_loss  Instances       Size\n"
     ]
    },
    {
     "name": "stderr",
     "output_type": "stream",
     "text": [
      "      14/50      2.49G    0.07122     0.5084     0.8822         30        640: 100%|██████████| 6371/6371 [10:03<00:00, 10.56it/s]\n",
      "                 Class     Images  Instances      Box(P          R      mAP50  mAP50-95): 100%|██████████| 3186/3186 [07:36<00:00,  6.98it/s]\n"
     ]
    },
    {
     "name": "stdout",
     "output_type": "stream",
     "text": [
      "                   all     101931     101931      0.842      0.875      0.928      0.928\n",
      "\n",
      "      Epoch    GPU_mem   box_loss   cls_loss   dfl_loss  Instances       Size\n"
     ]
    },
    {
     "name": "stderr",
     "output_type": "stream",
     "text": [
      "      15/50      2.49G    0.06928     0.5037     0.8808         36        640: 100%|██████████| 6371/6371 [10:02<00:00, 10.58it/s]\n",
      "                 Class     Images  Instances      Box(P          R      mAP50  mAP50-95): 100%|██████████| 3186/3186 [07:29<00:00,  7.09it/s]\n"
     ]
    },
    {
     "name": "stdout",
     "output_type": "stream",
     "text": [
      "                   all     101931     101931      0.845      0.878      0.931      0.931\n",
      "\n",
      "      Epoch    GPU_mem   box_loss   cls_loss   dfl_loss  Instances       Size\n"
     ]
    },
    {
     "name": "stderr",
     "output_type": "stream",
     "text": [
      "      16/50      2.49G    0.06813     0.4954     0.8817         28        640: 100%|██████████| 6371/6371 [09:57<00:00, 10.67it/s]\n",
      "                 Class     Images  Instances      Box(P          R      mAP50  mAP50-95): 100%|██████████| 3186/3186 [07:29<00:00,  7.08it/s]\n"
     ]
    },
    {
     "name": "stdout",
     "output_type": "stream",
     "text": [
      "                   all     101931     101931      0.848       0.88      0.933      0.933\n",
      "\n",
      "      Epoch    GPU_mem   box_loss   cls_loss   dfl_loss  Instances       Size\n"
     ]
    },
    {
     "name": "stderr",
     "output_type": "stream",
     "text": [
      "      17/50      2.49G    0.06701     0.4913     0.8808         40        640: 100%|██████████| 6371/6371 [09:56<00:00, 10.68it/s]\n",
      "                 Class     Images  Instances      Box(P          R      mAP50  mAP50-95): 100%|██████████| 3186/3186 [07:28<00:00,  7.10it/s]\n"
     ]
    },
    {
     "name": "stdout",
     "output_type": "stream",
     "text": [
      "                   all     101931     101931       0.85      0.883      0.936      0.936\n",
      "\n",
      "      Epoch    GPU_mem   box_loss   cls_loss   dfl_loss  Instances       Size\n"
     ]
    },
    {
     "name": "stderr",
     "output_type": "stream",
     "text": [
      "      18/50      2.49G        inf     0.4861     0.8806         37        640: 100%|██████████| 6371/6371 [09:53<00:00, 10.73it/s]\n",
      "                 Class     Images  Instances      Box(P          R      mAP50  mAP50-95): 100%|██████████| 3186/3186 [07:29<00:00,  7.09it/s]\n"
     ]
    },
    {
     "name": "stdout",
     "output_type": "stream",
     "text": [
      "                   all     101931     101931      0.853      0.887       0.94      0.939\n",
      "\n",
      "      Epoch    GPU_mem   box_loss   cls_loss   dfl_loss  Instances       Size\n"
     ]
    },
    {
     "name": "stderr",
     "output_type": "stream",
     "text": [
      "      19/50      2.49G    0.06401     0.4779     0.8797         32        640: 100%|██████████| 6371/6371 [09:58<00:00, 10.65it/s]\n",
      "                 Class     Images  Instances      Box(P          R      mAP50  mAP50-95): 100%|██████████| 3186/3186 [07:29<00:00,  7.09it/s]\n"
     ]
    },
    {
     "name": "stdout",
     "output_type": "stream",
     "text": [
      "                   all     101931     101931      0.853      0.892      0.942      0.942\n",
      "\n",
      "      Epoch    GPU_mem   box_loss   cls_loss   dfl_loss  Instances       Size\n"
     ]
    },
    {
     "name": "stderr",
     "output_type": "stream",
     "text": [
      "      20/50      2.49G    0.06317     0.4728     0.8793         36        640: 100%|██████████| 6371/6371 [09:56<00:00, 10.68it/s]\n",
      "                 Class     Images  Instances      Box(P          R      mAP50  mAP50-95): 100%|██████████| 3186/3186 [07:36<00:00,  6.99it/s]\n"
     ]
    },
    {
     "name": "stdout",
     "output_type": "stream",
     "text": [
      "                   all     101931     101931      0.854      0.897      0.945      0.945\n",
      "\n",
      "      Epoch    GPU_mem   box_loss   cls_loss   dfl_loss  Instances       Size\n"
     ]
    },
    {
     "name": "stderr",
     "output_type": "stream",
     "text": [
      "      21/50      2.49G        inf     0.4677     0.8793         33        640: 100%|██████████| 6371/6371 [09:53<00:00, 10.73it/s]\n",
      "                 Class     Images  Instances      Box(P          R      mAP50  mAP50-95): 100%|██████████| 3186/3186 [07:28<00:00,  7.10it/s]\n"
     ]
    },
    {
     "name": "stdout",
     "output_type": "stream",
     "text": [
      "                   all     101931     101931      0.854      0.901      0.948      0.947\n",
      "\n",
      "      Epoch    GPU_mem   box_loss   cls_loss   dfl_loss  Instances       Size\n"
     ]
    },
    {
     "name": "stderr",
     "output_type": "stream",
     "text": [
      "      22/50      2.49G        inf     0.4643     0.8793         30        640: 100%|██████████| 6371/6371 [09:56<00:00, 10.68it/s]\n",
      "                 Class     Images  Instances      Box(P          R      mAP50  mAP50-95): 100%|██████████| 3186/3186 [07:29<00:00,  7.09it/s]\n"
     ]
    },
    {
     "name": "stdout",
     "output_type": "stream",
     "text": [
      "                   all     101931     101931      0.854      0.907       0.95       0.95\n",
      "\n",
      "      Epoch    GPU_mem   box_loss   cls_loss   dfl_loss  Instances       Size\n"
     ]
    },
    {
     "name": "stderr",
     "output_type": "stream",
     "text": [
      "      23/50      2.49G    0.05967     0.4584     0.8782         35        640: 100%|██████████| 6371/6371 [09:56<00:00, 10.68it/s]\n",
      "                 Class     Images  Instances      Box(P          R      mAP50  mAP50-95): 100%|██████████| 3186/3186 [07:29<00:00,  7.10it/s]\n"
     ]
    },
    {
     "name": "stdout",
     "output_type": "stream",
     "text": [
      "                   all     101931     101931      0.862      0.906      0.952      0.952\n",
      "\n",
      "      Epoch    GPU_mem   box_loss   cls_loss   dfl_loss  Instances       Size\n"
     ]
    },
    {
     "name": "stderr",
     "output_type": "stream",
     "text": [
      "      24/50      2.49G     0.0591      0.453     0.8777         30        640: 100%|██████████| 6371/6371 [09:57<00:00, 10.66it/s]\n",
      "                 Class     Images  Instances      Box(P          R      mAP50  mAP50-95): 100%|██████████| 3186/3186 [07:20<00:00,  7.24it/s]\n"
     ]
    },
    {
     "name": "stdout",
     "output_type": "stream",
     "text": [
      "                   all     101931     101931      0.865      0.908      0.954      0.954\n",
      "\n",
      "      Epoch    GPU_mem   box_loss   cls_loss   dfl_loss  Instances       Size\n"
     ]
    },
    {
     "name": "stderr",
     "output_type": "stream",
     "text": [
      "      25/50      2.49G        inf     0.4475     0.8774         37        640: 100%|██████████| 6371/6371 [09:56<00:00, 10.68it/s]\n",
      "                 Class     Images  Instances      Box(P          R      mAP50  mAP50-95): 100%|██████████| 3186/3186 [07:22<00:00,  7.20it/s]\n"
     ]
    },
    {
     "name": "stdout",
     "output_type": "stream",
     "text": [
      "                   all     101931     101931      0.875      0.905      0.957      0.956\n",
      "\n",
      "      Epoch    GPU_mem   box_loss   cls_loss   dfl_loss  Instances       Size\n"
     ]
    },
    {
     "name": "stderr",
     "output_type": "stream",
     "text": [
      "      26/50      2.49G    0.05631     0.4406     0.8769         34        640: 100%|██████████| 6371/6371 [09:54<00:00, 10.71it/s]\n",
      "                 Class     Images  Instances      Box(P          R      mAP50  mAP50-95): 100%|██████████| 3186/3186 [07:33<00:00,  7.02it/s]\n"
     ]
    },
    {
     "name": "stdout",
     "output_type": "stream",
     "text": [
      "                   all     101931     101931      0.875       0.91      0.958      0.958\n",
      "\n",
      "      Epoch    GPU_mem   box_loss   cls_loss   dfl_loss  Instances       Size\n"
     ]
    },
    {
     "name": "stderr",
     "output_type": "stream",
     "text": [
      "      27/50      2.49G    0.05527     0.4384     0.8771         35        640: 100%|██████████| 6371/6371 [09:56<00:00, 10.68it/s]\n",
      "                 Class     Images  Instances      Box(P          R      mAP50  mAP50-95): 100%|██████████| 3186/3186 [07:36<00:00,  6.98it/s]\n"
     ]
    },
    {
     "name": "stdout",
     "output_type": "stream",
     "text": [
      "                   all     101931     101931       0.88      0.911       0.96       0.96\n",
      "\n",
      "      Epoch    GPU_mem   box_loss   cls_loss   dfl_loss  Instances       Size\n"
     ]
    },
    {
     "name": "stderr",
     "output_type": "stream",
     "text": [
      "      28/50      2.49G    0.05448     0.4306      0.877         35        640: 100%|██████████| 6371/6371 [10:00<00:00, 10.61it/s]\n",
      "                 Class     Images  Instances      Box(P          R      mAP50  mAP50-95): 100%|██████████| 3186/3186 [07:32<00:00,  7.04it/s]\n"
     ]
    },
    {
     "name": "stdout",
     "output_type": "stream",
     "text": [
      "                   all     101931     101931      0.884      0.913      0.962      0.962\n",
      "\n",
      "      Epoch    GPU_mem   box_loss   cls_loss   dfl_loss  Instances       Size\n"
     ]
    },
    {
     "name": "stderr",
     "output_type": "stream",
     "text": [
      "      29/50      2.49G        inf     0.4272     0.8767         34        640: 100%|██████████| 6371/6371 [09:57<00:00, 10.67it/s]\n",
      "                 Class     Images  Instances      Box(P          R      mAP50  mAP50-95): 100%|██████████| 3186/3186 [07:33<00:00,  7.03it/s]\n"
     ]
    },
    {
     "name": "stdout",
     "output_type": "stream",
     "text": [
      "                   all     101931     101931      0.889      0.914      0.963      0.963\n",
      "\n",
      "      Epoch    GPU_mem   box_loss   cls_loss   dfl_loss  Instances       Size\n"
     ]
    },
    {
     "name": "stderr",
     "output_type": "stream",
     "text": [
      "      30/50      2.49G        inf     0.4225     0.8761         34        640: 100%|██████████| 6371/6371 [09:59<00:00, 10.64it/s]\n",
      "                 Class     Images  Instances      Box(P          R      mAP50  mAP50-95): 100%|██████████| 3186/3186 [07:33<00:00,  7.02it/s]\n"
     ]
    },
    {
     "name": "stdout",
     "output_type": "stream",
     "text": [
      "                   all     101931     101931      0.894      0.914      0.965      0.965\n",
      "\n",
      "      Epoch    GPU_mem   box_loss   cls_loss   dfl_loss  Instances       Size\n"
     ]
    },
    {
     "name": "stderr",
     "output_type": "stream",
     "text": [
      "      31/50      2.49G    0.05222     0.4191     0.8761         33        640: 100%|██████████| 6371/6371 [09:55<00:00, 10.71it/s]\n",
      "                 Class     Images  Instances      Box(P          R      mAP50  mAP50-95): 100%|██████████| 3186/3186 [07:34<00:00,  7.01it/s]\n"
     ]
    },
    {
     "name": "stdout",
     "output_type": "stream",
     "text": [
      "                   all     101931     101931      0.899      0.915      0.966      0.966\n",
      "\n",
      "      Epoch    GPU_mem   box_loss   cls_loss   dfl_loss  Instances       Size\n"
     ]
    },
    {
     "name": "stderr",
     "output_type": "stream",
     "text": [
      "      32/50      2.49G        inf     0.4144     0.8753         32        640: 100%|██████████| 6371/6371 [09:52<00:00, 10.76it/s]\n",
      "                 Class     Images  Instances      Box(P          R      mAP50  mAP50-95): 100%|██████████| 3186/3186 [07:34<00:00,  7.01it/s]\n"
     ]
    },
    {
     "name": "stdout",
     "output_type": "stream",
     "text": [
      "                   all     101931     101931      0.901      0.918      0.968      0.968\n",
      "\n",
      "      Epoch    GPU_mem   box_loss   cls_loss   dfl_loss  Instances       Size\n"
     ]
    },
    {
     "name": "stderr",
     "output_type": "stream",
     "text": [
      "      33/50      2.49G    0.04902     0.4097     0.8755         39        640: 100%|██████████| 6371/6371 [09:49<00:00, 10.81it/s]\n",
      "                 Class     Images  Instances      Box(P          R      mAP50  mAP50-95): 100%|██████████| 3186/3186 [07:34<00:00,  7.01it/s]\n"
     ]
    },
    {
     "name": "stdout",
     "output_type": "stream",
     "text": [
      "                   all     101931     101931      0.907      0.918      0.969      0.969\n",
      "\n",
      "      Epoch    GPU_mem   box_loss   cls_loss   dfl_loss  Instances       Size\n"
     ]
    },
    {
     "name": "stderr",
     "output_type": "stream",
     "text": [
      "      34/50      2.49G        inf     0.4019     0.8753         40        640: 100%|██████████| 6371/6371 [09:49<00:00, 10.81it/s]\n",
      "                 Class     Images  Instances      Box(P          R      mAP50  mAP50-95): 100%|██████████| 3186/3186 [07:35<00:00,  7.00it/s]\n"
     ]
    },
    {
     "name": "stdout",
     "output_type": "stream",
     "text": [
      "                   all     101931     101931       0.91       0.92       0.97       0.97\n",
      "\n",
      "      Epoch    GPU_mem   box_loss   cls_loss   dfl_loss  Instances       Size\n"
     ]
    },
    {
     "name": "stderr",
     "output_type": "stream",
     "text": [
      "      35/50      2.49G        inf     0.3985     0.8744         26        640: 100%|██████████| 6371/6371 [09:49<00:00, 10.80it/s]\n",
      "                 Class     Images  Instances      Box(P          R      mAP50  mAP50-95): 100%|██████████| 3186/3186 [07:34<00:00,  7.01it/s]\n"
     ]
    },
    {
     "name": "stdout",
     "output_type": "stream",
     "text": [
      "                   all     101931     101931       0.91      0.924      0.972      0.972\n",
      "\n",
      "      Epoch    GPU_mem   box_loss   cls_loss   dfl_loss  Instances       Size\n"
     ]
    },
    {
     "name": "stderr",
     "output_type": "stream",
     "text": [
      "      36/50      2.49G        inf      0.394     0.8747         36        640: 100%|██████████| 6371/6371 [09:51<00:00, 10.78it/s]\n",
      "                 Class     Images  Instances      Box(P          R      mAP50  mAP50-95): 100%|██████████| 3186/3186 [07:34<00:00,  7.02it/s]\n"
     ]
    },
    {
     "name": "stdout",
     "output_type": "stream",
     "text": [
      "                   all     101931     101931      0.912      0.926      0.973      0.973\n",
      "\n",
      "      Epoch    GPU_mem   box_loss   cls_loss   dfl_loss  Instances       Size\n"
     ]
    },
    {
     "name": "stderr",
     "output_type": "stream",
     "text": [
      "      37/50      2.49G        inf     0.4021     0.8768         34        640: 100%|██████████| 6371/6371 [09:50<00:00, 10.79it/s]\n",
      "                 Class     Images  Instances      Box(P          R      mAP50  mAP50-95): 100%|██████████| 3186/3186 [07:34<00:00,  7.01it/s]\n"
     ]
    },
    {
     "name": "stdout",
     "output_type": "stream",
     "text": [
      "                   all     101931     101931      0.879      0.911      0.962      0.962\n",
      "\n",
      "      Epoch    GPU_mem   box_loss   cls_loss   dfl_loss  Instances       Size\n"
     ]
    },
    {
     "name": "stderr",
     "output_type": "stream",
     "text": [
      "      38/50      2.49G    0.06159     0.4163     0.8791         34        640: 100%|██████████| 6371/6371 [09:48<00:00, 10.83it/s]\n",
      "                 Class     Images  Instances      Box(P          R      mAP50  mAP50-95): 100%|██████████| 3186/3186 [07:35<00:00,  7.00it/s]\n"
     ]
    },
    {
     "name": "stdout",
     "output_type": "stream",
     "text": [
      "                   all     101931     101931      0.502      0.999      0.638      0.638\n",
      "\n",
      "      Epoch    GPU_mem   box_loss   cls_loss   dfl_loss  Instances       Size\n"
     ]
    },
    {
     "name": "stderr",
     "output_type": "stream",
     "text": [
      "      39/50      2.49G        inf     0.4364      0.883         36        640: 100%|██████████| 6371/6371 [09:51<00:00, 10.76it/s]\n",
      "                 Class     Images  Instances      Box(P          R      mAP50  mAP50-95): 100%|██████████| 3186/3186 [07:34<00:00,  7.01it/s]\n"
     ]
    },
    {
     "name": "stdout",
     "output_type": "stream",
     "text": [
      "                   all     101931     101931      0.417          1      0.523      0.452\n",
      "\n",
      "      Epoch    GPU_mem   box_loss   cls_loss   dfl_loss  Instances       Size\n"
     ]
    },
    {
     "name": "stderr",
     "output_type": "stream",
     "text": [
      "      40/50      2.49G    0.09003     0.4757     0.8913         32        640: 100%|██████████| 6371/6371 [09:46<00:00, 10.87it/s]\n",
      "                 Class     Images  Instances      Box(P          R      mAP50  mAP50-95): 100%|██████████| 3186/3186 [04:23<00:00, 12.07it/s]\n"
     ]
    },
    {
     "name": "stdout",
     "output_type": "stream",
     "text": [
      "                   all     101931     101931          0          0          0          0\n",
      "Closing dataloader mosaic\n",
      "\n",
      "      Epoch    GPU_mem   box_loss   cls_loss   dfl_loss  Instances       Size\n"
     ]
    },
    {
     "name": "stderr",
     "output_type": "stream",
     "text": [
      "      41/50      2.49G    0.05151     0.3493     0.8601         11        640: 100%|██████████| 6371/6371 [09:52<00:00, 10.76it/s]\n",
      "                 Class     Images  Instances      Box(P          R      mAP50  mAP50-95): 100%|██████████| 3186/3186 [04:23<00:00, 12.11it/s]\n"
     ]
    },
    {
     "name": "stdout",
     "output_type": "stream",
     "text": [
      "                   all     101931     101931          0          0          0          0\n",
      "\n",
      "      Epoch    GPU_mem   box_loss   cls_loss   dfl_loss  Instances       Size\n"
     ]
    },
    {
     "name": "stderr",
     "output_type": "stream",
     "text": [
      "      42/50      2.49G        inf     0.3221     0.8566         11        640: 100%|██████████| 6371/6371 [09:42<00:00, 10.94it/s]\n",
      "                 Class     Images  Instances      Box(P          R      mAP50  mAP50-95): 100%|██████████| 3186/3186 [04:23<00:00, 12.07it/s]\n"
     ]
    },
    {
     "name": "stdout",
     "output_type": "stream",
     "text": [
      "                   all     101931     101931          0          0          0          0\n",
      "\n",
      "      Epoch    GPU_mem   box_loss   cls_loss   dfl_loss  Instances       Size\n"
     ]
    },
    {
     "name": "stderr",
     "output_type": "stream",
     "text": [
      "      43/50      2.49G    0.04804     0.3301     0.8594         11        640: 100%|██████████| 6371/6371 [09:45<00:00, 10.87it/s]\n",
      "                 Class     Images  Instances      Box(P          R      mAP50  mAP50-95): 100%|██████████| 3186/3186 [04:23<00:00, 12.10it/s]\n"
     ]
    },
    {
     "name": "stdout",
     "output_type": "stream",
     "text": [
      "                   all     101931     101931          0          0          0          0\n",
      "\n",
      "      Epoch    GPU_mem   box_loss   cls_loss   dfl_loss  Instances       Size\n"
     ]
    },
    {
     "name": "stderr",
     "output_type": "stream",
     "text": [
      "      44/50      2.49G        inf     0.3271     0.8589         11        640: 100%|██████████| 6371/6371 [09:42<00:00, 10.94it/s]\n",
      "                 Class     Images  Instances      Box(P          R      mAP50  mAP50-95): 100%|██████████| 3186/3186 [04:23<00:00, 12.10it/s]\n"
     ]
    },
    {
     "name": "stdout",
     "output_type": "stream",
     "text": [
      "                   all     101931     101931          0          0          0          0\n",
      "\n",
      "      Epoch    GPU_mem   box_loss   cls_loss   dfl_loss  Instances       Size\n"
     ]
    },
    {
     "name": "stderr",
     "output_type": "stream",
     "text": [
      "      45/50      2.49G        inf     0.3246     0.8583         11        640: 100%|██████████| 6371/6371 [09:42<00:00, 10.93it/s]\n",
      "                 Class     Images  Instances      Box(P          R      mAP50  mAP50-95): 100%|██████████| 3186/3186 [04:23<00:00, 12.10it/s]\n"
     ]
    },
    {
     "name": "stdout",
     "output_type": "stream",
     "text": [
      "                   all     101931     101931          0          0          0          0\n",
      "\n",
      "      Epoch    GPU_mem   box_loss   cls_loss   dfl_loss  Instances       Size\n"
     ]
    },
    {
     "name": "stderr",
     "output_type": "stream",
     "text": [
      "      46/50      2.49G    0.04952     0.3222     0.8583         11        640: 100%|██████████| 6371/6371 [09:43<00:00, 10.91it/s]\n",
      "                 Class     Images  Instances      Box(P          R      mAP50  mAP50-95): 100%|██████████| 3186/3186 [04:23<00:00, 12.11it/s]\n"
     ]
    },
    {
     "name": "stdout",
     "output_type": "stream",
     "text": [
      "                   all     101931     101931          0          0          0          0\n",
      "\n",
      "      Epoch    GPU_mem   box_loss   cls_loss   dfl_loss  Instances       Size\n"
     ]
    },
    {
     "name": "stderr",
     "output_type": "stream",
     "text": [
      "      47/50      2.49G    0.04495     0.2972     0.8576         11        640: 100%|██████████| 6371/6371 [09:42<00:00, 10.93it/s]\n",
      "                 Class     Images  Instances      Box(P          R      mAP50  mAP50-95): 100%|██████████| 3186/3186 [04:23<00:00, 12.11it/s]\n"
     ]
    },
    {
     "name": "stdout",
     "output_type": "stream",
     "text": [
      "                   all     101931     101931          0          0          0          0\n",
      "\n",
      "      Epoch    GPU_mem   box_loss   cls_loss   dfl_loss  Instances       Size\n"
     ]
    },
    {
     "name": "stderr",
     "output_type": "stream",
     "text": [
      "      48/50      2.49G        inf     0.2843     0.8559         11        640: 100%|██████████| 6371/6371 [09:46<00:00, 10.87it/s]\n",
      "                 Class     Images  Instances      Box(P          R      mAP50  mAP50-95): 100%|██████████| 3186/3186 [04:23<00:00, 12.11it/s]\n"
     ]
    },
    {
     "name": "stdout",
     "output_type": "stream",
     "text": [
      "                   all     101931     101931          0          0          0          0\n",
      "\n",
      "      Epoch    GPU_mem   box_loss   cls_loss   dfl_loss  Instances       Size\n"
     ]
    },
    {
     "name": "stderr",
     "output_type": "stream",
     "text": [
      "      49/50      2.49G        inf     0.3213     0.8648         11        640: 100%|██████████| 6371/6371 [09:42<00:00, 10.93it/s]\n",
      "                 Class     Images  Instances      Box(P          R      mAP50  mAP50-95): 100%|██████████| 3186/3186 [04:23<00:00, 12.08it/s]\n"
     ]
    },
    {
     "name": "stdout",
     "output_type": "stream",
     "text": [
      "                   all     101931     101931          0          0          0          0\n",
      "\n",
      "      Epoch    GPU_mem   box_loss   cls_loss   dfl_loss  Instances       Size\n"
     ]
    },
    {
     "name": "stderr",
     "output_type": "stream",
     "text": [
      "      50/50      2.49G     0.1204      0.729     0.9266         11        640: 100%|██████████| 6371/6371 [09:43<00:00, 10.92it/s]\n",
      "                 Class     Images  Instances      Box(P          R      mAP50  mAP50-95): 100%|██████████| 3186/3186 [04:22<00:00, 12.14it/s]\n"
     ]
    },
    {
     "name": "stdout",
     "output_type": "stream",
     "text": [
      "                   all     101931     101931          0          0          0          0\n",
      "\n",
      "50 epochs completed in 13.968 hours.\n",
      "Optimizer stripped from runs\\detect\\train2\\weights\\last.pt, 6.2MB\n",
      "Optimizer stripped from runs\\detect\\train2\\weights\\best.pt, 6.2MB\n",
      "\n",
      "Validating runs\\detect\\train2\\weights\\best.pt...\n",
      "Ultralytics 8.3.103  Python-3.11.5 torch-2.1.0 CUDA:0 (NVIDIA RTX A5000, 24563MiB)\n",
      "Model summary (fused): 72 layers, 3,006,038 parameters, 0 gradients, 8.1 GFLOPs\n"
     ]
    },
    {
     "name": "stderr",
     "output_type": "stream",
     "text": [
      "                 Class     Images  Instances      Box(P          R      mAP50  mAP50-95): 100%|██████████| 3186/3186 [08:31<00:00,  6.23it/s]\n"
     ]
    },
    {
     "name": "stdout",
     "output_type": "stream",
     "text": [
      "                   all     101931     101931      0.912      0.926      0.973      0.973\n",
      "                normal      57315      57315      0.904      0.954      0.976      0.976\n",
      "            suspicious      44616      44616       0.92      0.898       0.97       0.97\n",
      "Speed: 0.1ms preprocess, 0.8ms inference, 0.0ms loss, 0.9ms postprocess per image\n",
      "Results saved to \u001b[1mruns\\detect\\train2\u001b[0m\n"
     ]
    },
    {
     "data": {
      "text/plain": [
       "ultralytics.utils.metrics.DetMetrics object with attributes:\n",
       "\n",
       "ap_class_index: array([0, 1])\n",
       "box: ultralytics.utils.metrics.Metric object\n",
       "confusion_matrix: <ultralytics.utils.metrics.ConfusionMatrix object at 0x0000026122AF65D0>\n",
       "curves: ['Precision-Recall(B)', 'F1-Confidence(B)', 'Precision-Confidence(B)', 'Recall-Confidence(B)']\n",
       "curves_results: [[array([          0,    0.001001,    0.002002,    0.003003,    0.004004,    0.005005,    0.006006,    0.007007,    0.008008,    0.009009,     0.01001,    0.011011,    0.012012,    0.013013,    0.014014,    0.015015,    0.016016,    0.017017,    0.018018,    0.019019,     0.02002,    0.021021,    0.022022,    0.023023,\n",
       "          0.024024,    0.025025,    0.026026,    0.027027,    0.028028,    0.029029,     0.03003,    0.031031,    0.032032,    0.033033,    0.034034,    0.035035,    0.036036,    0.037037,    0.038038,    0.039039,     0.04004,    0.041041,    0.042042,    0.043043,    0.044044,    0.045045,    0.046046,    0.047047,\n",
       "          0.048048,    0.049049,     0.05005,    0.051051,    0.052052,    0.053053,    0.054054,    0.055055,    0.056056,    0.057057,    0.058058,    0.059059,     0.06006,    0.061061,    0.062062,    0.063063,    0.064064,    0.065065,    0.066066,    0.067067,    0.068068,    0.069069,     0.07007,    0.071071,\n",
       "          0.072072,    0.073073,    0.074074,    0.075075,    0.076076,    0.077077,    0.078078,    0.079079,     0.08008,    0.081081,    0.082082,    0.083083,    0.084084,    0.085085,    0.086086,    0.087087,    0.088088,    0.089089,     0.09009,    0.091091,    0.092092,    0.093093,    0.094094,    0.095095,\n",
       "          0.096096,    0.097097,    0.098098,    0.099099,      0.1001,      0.1011,      0.1021,      0.1031,      0.1041,     0.10511,     0.10611,     0.10711,     0.10811,     0.10911,     0.11011,     0.11111,     0.11211,     0.11311,     0.11411,     0.11512,     0.11612,     0.11712,     0.11812,     0.11912,\n",
       "           0.12012,     0.12112,     0.12212,     0.12312,     0.12412,     0.12513,     0.12613,     0.12713,     0.12813,     0.12913,     0.13013,     0.13113,     0.13213,     0.13313,     0.13413,     0.13514,     0.13614,     0.13714,     0.13814,     0.13914,     0.14014,     0.14114,     0.14214,     0.14314,\n",
       "           0.14414,     0.14515,     0.14615,     0.14715,     0.14815,     0.14915,     0.15015,     0.15115,     0.15215,     0.15315,     0.15415,     0.15516,     0.15616,     0.15716,     0.15816,     0.15916,     0.16016,     0.16116,     0.16216,     0.16316,     0.16416,     0.16517,     0.16617,     0.16717,\n",
       "           0.16817,     0.16917,     0.17017,     0.17117,     0.17217,     0.17317,     0.17417,     0.17518,     0.17618,     0.17718,     0.17818,     0.17918,     0.18018,     0.18118,     0.18218,     0.18318,     0.18418,     0.18519,     0.18619,     0.18719,     0.18819,     0.18919,     0.19019,     0.19119,\n",
       "           0.19219,     0.19319,     0.19419,      0.1952,      0.1962,      0.1972,      0.1982,      0.1992,      0.2002,      0.2012,      0.2022,      0.2032,      0.2042,     0.20521,     0.20621,     0.20721,     0.20821,     0.20921,     0.21021,     0.21121,     0.21221,     0.21321,     0.21421,     0.21522,\n",
       "           0.21622,     0.21722,     0.21822,     0.21922,     0.22022,     0.22122,     0.22222,     0.22322,     0.22422,     0.22523,     0.22623,     0.22723,     0.22823,     0.22923,     0.23023,     0.23123,     0.23223,     0.23323,     0.23423,     0.23524,     0.23624,     0.23724,     0.23824,     0.23924,\n",
       "           0.24024,     0.24124,     0.24224,     0.24324,     0.24424,     0.24525,     0.24625,     0.24725,     0.24825,     0.24925,     0.25025,     0.25125,     0.25225,     0.25325,     0.25425,     0.25526,     0.25626,     0.25726,     0.25826,     0.25926,     0.26026,     0.26126,     0.26226,     0.26326,\n",
       "           0.26426,     0.26527,     0.26627,     0.26727,     0.26827,     0.26927,     0.27027,     0.27127,     0.27227,     0.27327,     0.27427,     0.27528,     0.27628,     0.27728,     0.27828,     0.27928,     0.28028,     0.28128,     0.28228,     0.28328,     0.28428,     0.28529,     0.28629,     0.28729,\n",
       "           0.28829,     0.28929,     0.29029,     0.29129,     0.29229,     0.29329,     0.29429,      0.2953,      0.2963,      0.2973,      0.2983,      0.2993,      0.3003,      0.3013,      0.3023,      0.3033,      0.3043,     0.30531,     0.30631,     0.30731,     0.30831,     0.30931,     0.31031,     0.31131,\n",
       "           0.31231,     0.31331,     0.31431,     0.31532,     0.31632,     0.31732,     0.31832,     0.31932,     0.32032,     0.32132,     0.32232,     0.32332,     0.32432,     0.32533,     0.32633,     0.32733,     0.32833,     0.32933,     0.33033,     0.33133,     0.33233,     0.33333,     0.33433,     0.33534,\n",
       "           0.33634,     0.33734,     0.33834,     0.33934,     0.34034,     0.34134,     0.34234,     0.34334,     0.34434,     0.34535,     0.34635,     0.34735,     0.34835,     0.34935,     0.35035,     0.35135,     0.35235,     0.35335,     0.35435,     0.35536,     0.35636,     0.35736,     0.35836,     0.35936,\n",
       "           0.36036,     0.36136,     0.36236,     0.36336,     0.36436,     0.36537,     0.36637,     0.36737,     0.36837,     0.36937,     0.37037,     0.37137,     0.37237,     0.37337,     0.37437,     0.37538,     0.37638,     0.37738,     0.37838,     0.37938,     0.38038,     0.38138,     0.38238,     0.38338,\n",
       "           0.38438,     0.38539,     0.38639,     0.38739,     0.38839,     0.38939,     0.39039,     0.39139,     0.39239,     0.39339,     0.39439,      0.3954,      0.3964,      0.3974,      0.3984,      0.3994,      0.4004,      0.4014,      0.4024,      0.4034,      0.4044,     0.40541,     0.40641,     0.40741,\n",
       "           0.40841,     0.40941,     0.41041,     0.41141,     0.41241,     0.41341,     0.41441,     0.41542,     0.41642,     0.41742,     0.41842,     0.41942,     0.42042,     0.42142,     0.42242,     0.42342,     0.42442,     0.42543,     0.42643,     0.42743,     0.42843,     0.42943,     0.43043,     0.43143,\n",
       "           0.43243,     0.43343,     0.43443,     0.43544,     0.43644,     0.43744,     0.43844,     0.43944,     0.44044,     0.44144,     0.44244,     0.44344,     0.44444,     0.44545,     0.44645,     0.44745,     0.44845,     0.44945,     0.45045,     0.45145,     0.45245,     0.45345,     0.45445,     0.45546,\n",
       "           0.45646,     0.45746,     0.45846,     0.45946,     0.46046,     0.46146,     0.46246,     0.46346,     0.46446,     0.46547,     0.46647,     0.46747,     0.46847,     0.46947,     0.47047,     0.47147,     0.47247,     0.47347,     0.47447,     0.47548,     0.47648,     0.47748,     0.47848,     0.47948,\n",
       "           0.48048,     0.48148,     0.48248,     0.48348,     0.48448,     0.48549,     0.48649,     0.48749,     0.48849,     0.48949,     0.49049,     0.49149,     0.49249,     0.49349,     0.49449,      0.4955,      0.4965,      0.4975,      0.4985,      0.4995,      0.5005,      0.5015,      0.5025,      0.5035,\n",
       "            0.5045,     0.50551,     0.50651,     0.50751,     0.50851,     0.50951,     0.51051,     0.51151,     0.51251,     0.51351,     0.51451,     0.51552,     0.51652,     0.51752,     0.51852,     0.51952,     0.52052,     0.52152,     0.52252,     0.52352,     0.52452,     0.52553,     0.52653,     0.52753,\n",
       "           0.52853,     0.52953,     0.53053,     0.53153,     0.53253,     0.53353,     0.53453,     0.53554,     0.53654,     0.53754,     0.53854,     0.53954,     0.54054,     0.54154,     0.54254,     0.54354,     0.54454,     0.54555,     0.54655,     0.54755,     0.54855,     0.54955,     0.55055,     0.55155,\n",
       "           0.55255,     0.55355,     0.55455,     0.55556,     0.55656,     0.55756,     0.55856,     0.55956,     0.56056,     0.56156,     0.56256,     0.56356,     0.56456,     0.56557,     0.56657,     0.56757,     0.56857,     0.56957,     0.57057,     0.57157,     0.57257,     0.57357,     0.57457,     0.57558,\n",
       "           0.57658,     0.57758,     0.57858,     0.57958,     0.58058,     0.58158,     0.58258,     0.58358,     0.58458,     0.58559,     0.58659,     0.58759,     0.58859,     0.58959,     0.59059,     0.59159,     0.59259,     0.59359,     0.59459,      0.5956,      0.5966,      0.5976,      0.5986,      0.5996,\n",
       "            0.6006,      0.6016,      0.6026,      0.6036,      0.6046,     0.60561,     0.60661,     0.60761,     0.60861,     0.60961,     0.61061,     0.61161,     0.61261,     0.61361,     0.61461,     0.61562,     0.61662,     0.61762,     0.61862,     0.61962,     0.62062,     0.62162,     0.62262,     0.62362,\n",
       "           0.62462,     0.62563,     0.62663,     0.62763,     0.62863,     0.62963,     0.63063,     0.63163,     0.63263,     0.63363,     0.63463,     0.63564,     0.63664,     0.63764,     0.63864,     0.63964,     0.64064,     0.64164,     0.64264,     0.64364,     0.64464,     0.64565,     0.64665,     0.64765,\n",
       "           0.64865,     0.64965,     0.65065,     0.65165,     0.65265,     0.65365,     0.65465,     0.65566,     0.65666,     0.65766,     0.65866,     0.65966,     0.66066,     0.66166,     0.66266,     0.66366,     0.66466,     0.66567,     0.66667,     0.66767,     0.66867,     0.66967,     0.67067,     0.67167,\n",
       "           0.67267,     0.67367,     0.67467,     0.67568,     0.67668,     0.67768,     0.67868,     0.67968,     0.68068,     0.68168,     0.68268,     0.68368,     0.68468,     0.68569,     0.68669,     0.68769,     0.68869,     0.68969,     0.69069,     0.69169,     0.69269,     0.69369,     0.69469,      0.6957,\n",
       "            0.6967,      0.6977,      0.6987,      0.6997,      0.7007,      0.7017,      0.7027,      0.7037,      0.7047,     0.70571,     0.70671,     0.70771,     0.70871,     0.70971,     0.71071,     0.71171,     0.71271,     0.71371,     0.71471,     0.71572,     0.71672,     0.71772,     0.71872,     0.71972,\n",
       "           0.72072,     0.72172,     0.72272,     0.72372,     0.72472,     0.72573,     0.72673,     0.72773,     0.72873,     0.72973,     0.73073,     0.73173,     0.73273,     0.73373,     0.73473,     0.73574,     0.73674,     0.73774,     0.73874,     0.73974,     0.74074,     0.74174,     0.74274,     0.74374,\n",
       "           0.74474,     0.74575,     0.74675,     0.74775,     0.74875,     0.74975,     0.75075,     0.75175,     0.75275,     0.75375,     0.75475,     0.75576,     0.75676,     0.75776,     0.75876,     0.75976,     0.76076,     0.76176,     0.76276,     0.76376,     0.76476,     0.76577,     0.76677,     0.76777,\n",
       "           0.76877,     0.76977,     0.77077,     0.77177,     0.77277,     0.77377,     0.77477,     0.77578,     0.77678,     0.77778,     0.77878,     0.77978,     0.78078,     0.78178,     0.78278,     0.78378,     0.78478,     0.78579,     0.78679,     0.78779,     0.78879,     0.78979,     0.79079,     0.79179,\n",
       "           0.79279,     0.79379,     0.79479,      0.7958,      0.7968,      0.7978,      0.7988,      0.7998,      0.8008,      0.8018,      0.8028,      0.8038,      0.8048,     0.80581,     0.80681,     0.80781,     0.80881,     0.80981,     0.81081,     0.81181,     0.81281,     0.81381,     0.81481,     0.81582,\n",
       "           0.81682,     0.81782,     0.81882,     0.81982,     0.82082,     0.82182,     0.82282,     0.82382,     0.82482,     0.82583,     0.82683,     0.82783,     0.82883,     0.82983,     0.83083,     0.83183,     0.83283,     0.83383,     0.83483,     0.83584,     0.83684,     0.83784,     0.83884,     0.83984,\n",
       "           0.84084,     0.84184,     0.84284,     0.84384,     0.84484,     0.84585,     0.84685,     0.84785,     0.84885,     0.84985,     0.85085,     0.85185,     0.85285,     0.85385,     0.85485,     0.85586,     0.85686,     0.85786,     0.85886,     0.85986,     0.86086,     0.86186,     0.86286,     0.86386,\n",
       "           0.86486,     0.86587,     0.86687,     0.86787,     0.86887,     0.86987,     0.87087,     0.87187,     0.87287,     0.87387,     0.87487,     0.87588,     0.87688,     0.87788,     0.87888,     0.87988,     0.88088,     0.88188,     0.88288,     0.88388,     0.88488,     0.88589,     0.88689,     0.88789,\n",
       "           0.88889,     0.88989,     0.89089,     0.89189,     0.89289,     0.89389,     0.89489,      0.8959,      0.8969,      0.8979,      0.8989,      0.8999,      0.9009,      0.9019,      0.9029,      0.9039,      0.9049,     0.90591,     0.90691,     0.90791,     0.90891,     0.90991,     0.91091,     0.91191,\n",
       "           0.91291,     0.91391,     0.91491,     0.91592,     0.91692,     0.91792,     0.91892,     0.91992,     0.92092,     0.92192,     0.92292,     0.92392,     0.92492,     0.92593,     0.92693,     0.92793,     0.92893,     0.92993,     0.93093,     0.93193,     0.93293,     0.93393,     0.93493,     0.93594,\n",
       "           0.93694,     0.93794,     0.93894,     0.93994,     0.94094,     0.94194,     0.94294,     0.94394,     0.94494,     0.94595,     0.94695,     0.94795,     0.94895,     0.94995,     0.95095,     0.95195,     0.95295,     0.95395,     0.95495,     0.95596,     0.95696,     0.95796,     0.95896,     0.95996,\n",
       "           0.96096,     0.96196,     0.96296,     0.96396,     0.96496,     0.96597,     0.96697,     0.96797,     0.96897,     0.96997,     0.97097,     0.97197,     0.97297,     0.97397,     0.97497,     0.97598,     0.97698,     0.97798,     0.97898,     0.97998,     0.98098,     0.98198,     0.98298,     0.98398,\n",
       "           0.98498,     0.98599,     0.98699,     0.98799,     0.98899,     0.98999,     0.99099,     0.99199,     0.99299,     0.99399,     0.99499,       0.996,       0.997,       0.998,       0.999,           1]), array([[          1,           1,           1, ...,     0.74686,     0.70491,           0],\n",
       "       [          1,           1,           1, ...,     0.56826,     0.53424,           0]]), 'Recall', 'Precision'], [array([          0,    0.001001,    0.002002,    0.003003,    0.004004,    0.005005,    0.006006,    0.007007,    0.008008,    0.009009,     0.01001,    0.011011,    0.012012,    0.013013,    0.014014,    0.015015,    0.016016,    0.017017,    0.018018,    0.019019,     0.02002,    0.021021,    0.022022,    0.023023,\n",
       "          0.024024,    0.025025,    0.026026,    0.027027,    0.028028,    0.029029,     0.03003,    0.031031,    0.032032,    0.033033,    0.034034,    0.035035,    0.036036,    0.037037,    0.038038,    0.039039,     0.04004,    0.041041,    0.042042,    0.043043,    0.044044,    0.045045,    0.046046,    0.047047,\n",
       "          0.048048,    0.049049,     0.05005,    0.051051,    0.052052,    0.053053,    0.054054,    0.055055,    0.056056,    0.057057,    0.058058,    0.059059,     0.06006,    0.061061,    0.062062,    0.063063,    0.064064,    0.065065,    0.066066,    0.067067,    0.068068,    0.069069,     0.07007,    0.071071,\n",
       "          0.072072,    0.073073,    0.074074,    0.075075,    0.076076,    0.077077,    0.078078,    0.079079,     0.08008,    0.081081,    0.082082,    0.083083,    0.084084,    0.085085,    0.086086,    0.087087,    0.088088,    0.089089,     0.09009,    0.091091,    0.092092,    0.093093,    0.094094,    0.095095,\n",
       "          0.096096,    0.097097,    0.098098,    0.099099,      0.1001,      0.1011,      0.1021,      0.1031,      0.1041,     0.10511,     0.10611,     0.10711,     0.10811,     0.10911,     0.11011,     0.11111,     0.11211,     0.11311,     0.11411,     0.11512,     0.11612,     0.11712,     0.11812,     0.11912,\n",
       "           0.12012,     0.12112,     0.12212,     0.12312,     0.12412,     0.12513,     0.12613,     0.12713,     0.12813,     0.12913,     0.13013,     0.13113,     0.13213,     0.13313,     0.13413,     0.13514,     0.13614,     0.13714,     0.13814,     0.13914,     0.14014,     0.14114,     0.14214,     0.14314,\n",
       "           0.14414,     0.14515,     0.14615,     0.14715,     0.14815,     0.14915,     0.15015,     0.15115,     0.15215,     0.15315,     0.15415,     0.15516,     0.15616,     0.15716,     0.15816,     0.15916,     0.16016,     0.16116,     0.16216,     0.16316,     0.16416,     0.16517,     0.16617,     0.16717,\n",
       "           0.16817,     0.16917,     0.17017,     0.17117,     0.17217,     0.17317,     0.17417,     0.17518,     0.17618,     0.17718,     0.17818,     0.17918,     0.18018,     0.18118,     0.18218,     0.18318,     0.18418,     0.18519,     0.18619,     0.18719,     0.18819,     0.18919,     0.19019,     0.19119,\n",
       "           0.19219,     0.19319,     0.19419,      0.1952,      0.1962,      0.1972,      0.1982,      0.1992,      0.2002,      0.2012,      0.2022,      0.2032,      0.2042,     0.20521,     0.20621,     0.20721,     0.20821,     0.20921,     0.21021,     0.21121,     0.21221,     0.21321,     0.21421,     0.21522,\n",
       "           0.21622,     0.21722,     0.21822,     0.21922,     0.22022,     0.22122,     0.22222,     0.22322,     0.22422,     0.22523,     0.22623,     0.22723,     0.22823,     0.22923,     0.23023,     0.23123,     0.23223,     0.23323,     0.23423,     0.23524,     0.23624,     0.23724,     0.23824,     0.23924,\n",
       "           0.24024,     0.24124,     0.24224,     0.24324,     0.24424,     0.24525,     0.24625,     0.24725,     0.24825,     0.24925,     0.25025,     0.25125,     0.25225,     0.25325,     0.25425,     0.25526,     0.25626,     0.25726,     0.25826,     0.25926,     0.26026,     0.26126,     0.26226,     0.26326,\n",
       "           0.26426,     0.26527,     0.26627,     0.26727,     0.26827,     0.26927,     0.27027,     0.27127,     0.27227,     0.27327,     0.27427,     0.27528,     0.27628,     0.27728,     0.27828,     0.27928,     0.28028,     0.28128,     0.28228,     0.28328,     0.28428,     0.28529,     0.28629,     0.28729,\n",
       "           0.28829,     0.28929,     0.29029,     0.29129,     0.29229,     0.29329,     0.29429,      0.2953,      0.2963,      0.2973,      0.2983,      0.2993,      0.3003,      0.3013,      0.3023,      0.3033,      0.3043,     0.30531,     0.30631,     0.30731,     0.30831,     0.30931,     0.31031,     0.31131,\n",
       "           0.31231,     0.31331,     0.31431,     0.31532,     0.31632,     0.31732,     0.31832,     0.31932,     0.32032,     0.32132,     0.32232,     0.32332,     0.32432,     0.32533,     0.32633,     0.32733,     0.32833,     0.32933,     0.33033,     0.33133,     0.33233,     0.33333,     0.33433,     0.33534,\n",
       "           0.33634,     0.33734,     0.33834,     0.33934,     0.34034,     0.34134,     0.34234,     0.34334,     0.34434,     0.34535,     0.34635,     0.34735,     0.34835,     0.34935,     0.35035,     0.35135,     0.35235,     0.35335,     0.35435,     0.35536,     0.35636,     0.35736,     0.35836,     0.35936,\n",
       "           0.36036,     0.36136,     0.36236,     0.36336,     0.36436,     0.36537,     0.36637,     0.36737,     0.36837,     0.36937,     0.37037,     0.37137,     0.37237,     0.37337,     0.37437,     0.37538,     0.37638,     0.37738,     0.37838,     0.37938,     0.38038,     0.38138,     0.38238,     0.38338,\n",
       "           0.38438,     0.38539,     0.38639,     0.38739,     0.38839,     0.38939,     0.39039,     0.39139,     0.39239,     0.39339,     0.39439,      0.3954,      0.3964,      0.3974,      0.3984,      0.3994,      0.4004,      0.4014,      0.4024,      0.4034,      0.4044,     0.40541,     0.40641,     0.40741,\n",
       "           0.40841,     0.40941,     0.41041,     0.41141,     0.41241,     0.41341,     0.41441,     0.41542,     0.41642,     0.41742,     0.41842,     0.41942,     0.42042,     0.42142,     0.42242,     0.42342,     0.42442,     0.42543,     0.42643,     0.42743,     0.42843,     0.42943,     0.43043,     0.43143,\n",
       "           0.43243,     0.43343,     0.43443,     0.43544,     0.43644,     0.43744,     0.43844,     0.43944,     0.44044,     0.44144,     0.44244,     0.44344,     0.44444,     0.44545,     0.44645,     0.44745,     0.44845,     0.44945,     0.45045,     0.45145,     0.45245,     0.45345,     0.45445,     0.45546,\n",
       "           0.45646,     0.45746,     0.45846,     0.45946,     0.46046,     0.46146,     0.46246,     0.46346,     0.46446,     0.46547,     0.46647,     0.46747,     0.46847,     0.46947,     0.47047,     0.47147,     0.47247,     0.47347,     0.47447,     0.47548,     0.47648,     0.47748,     0.47848,     0.47948,\n",
       "           0.48048,     0.48148,     0.48248,     0.48348,     0.48448,     0.48549,     0.48649,     0.48749,     0.48849,     0.48949,     0.49049,     0.49149,     0.49249,     0.49349,     0.49449,      0.4955,      0.4965,      0.4975,      0.4985,      0.4995,      0.5005,      0.5015,      0.5025,      0.5035,\n",
       "            0.5045,     0.50551,     0.50651,     0.50751,     0.50851,     0.50951,     0.51051,     0.51151,     0.51251,     0.51351,     0.51451,     0.51552,     0.51652,     0.51752,     0.51852,     0.51952,     0.52052,     0.52152,     0.52252,     0.52352,     0.52452,     0.52553,     0.52653,     0.52753,\n",
       "           0.52853,     0.52953,     0.53053,     0.53153,     0.53253,     0.53353,     0.53453,     0.53554,     0.53654,     0.53754,     0.53854,     0.53954,     0.54054,     0.54154,     0.54254,     0.54354,     0.54454,     0.54555,     0.54655,     0.54755,     0.54855,     0.54955,     0.55055,     0.55155,\n",
       "           0.55255,     0.55355,     0.55455,     0.55556,     0.55656,     0.55756,     0.55856,     0.55956,     0.56056,     0.56156,     0.56256,     0.56356,     0.56456,     0.56557,     0.56657,     0.56757,     0.56857,     0.56957,     0.57057,     0.57157,     0.57257,     0.57357,     0.57457,     0.57558,\n",
       "           0.57658,     0.57758,     0.57858,     0.57958,     0.58058,     0.58158,     0.58258,     0.58358,     0.58458,     0.58559,     0.58659,     0.58759,     0.58859,     0.58959,     0.59059,     0.59159,     0.59259,     0.59359,     0.59459,      0.5956,      0.5966,      0.5976,      0.5986,      0.5996,\n",
       "            0.6006,      0.6016,      0.6026,      0.6036,      0.6046,     0.60561,     0.60661,     0.60761,     0.60861,     0.60961,     0.61061,     0.61161,     0.61261,     0.61361,     0.61461,     0.61562,     0.61662,     0.61762,     0.61862,     0.61962,     0.62062,     0.62162,     0.62262,     0.62362,\n",
       "           0.62462,     0.62563,     0.62663,     0.62763,     0.62863,     0.62963,     0.63063,     0.63163,     0.63263,     0.63363,     0.63463,     0.63564,     0.63664,     0.63764,     0.63864,     0.63964,     0.64064,     0.64164,     0.64264,     0.64364,     0.64464,     0.64565,     0.64665,     0.64765,\n",
       "           0.64865,     0.64965,     0.65065,     0.65165,     0.65265,     0.65365,     0.65465,     0.65566,     0.65666,     0.65766,     0.65866,     0.65966,     0.66066,     0.66166,     0.66266,     0.66366,     0.66466,     0.66567,     0.66667,     0.66767,     0.66867,     0.66967,     0.67067,     0.67167,\n",
       "           0.67267,     0.67367,     0.67467,     0.67568,     0.67668,     0.67768,     0.67868,     0.67968,     0.68068,     0.68168,     0.68268,     0.68368,     0.68468,     0.68569,     0.68669,     0.68769,     0.68869,     0.68969,     0.69069,     0.69169,     0.69269,     0.69369,     0.69469,      0.6957,\n",
       "            0.6967,      0.6977,      0.6987,      0.6997,      0.7007,      0.7017,      0.7027,      0.7037,      0.7047,     0.70571,     0.70671,     0.70771,     0.70871,     0.70971,     0.71071,     0.71171,     0.71271,     0.71371,     0.71471,     0.71572,     0.71672,     0.71772,     0.71872,     0.71972,\n",
       "           0.72072,     0.72172,     0.72272,     0.72372,     0.72472,     0.72573,     0.72673,     0.72773,     0.72873,     0.72973,     0.73073,     0.73173,     0.73273,     0.73373,     0.73473,     0.73574,     0.73674,     0.73774,     0.73874,     0.73974,     0.74074,     0.74174,     0.74274,     0.74374,\n",
       "           0.74474,     0.74575,     0.74675,     0.74775,     0.74875,     0.74975,     0.75075,     0.75175,     0.75275,     0.75375,     0.75475,     0.75576,     0.75676,     0.75776,     0.75876,     0.75976,     0.76076,     0.76176,     0.76276,     0.76376,     0.76476,     0.76577,     0.76677,     0.76777,\n",
       "           0.76877,     0.76977,     0.77077,     0.77177,     0.77277,     0.77377,     0.77477,     0.77578,     0.77678,     0.77778,     0.77878,     0.77978,     0.78078,     0.78178,     0.78278,     0.78378,     0.78478,     0.78579,     0.78679,     0.78779,     0.78879,     0.78979,     0.79079,     0.79179,\n",
       "           0.79279,     0.79379,     0.79479,      0.7958,      0.7968,      0.7978,      0.7988,      0.7998,      0.8008,      0.8018,      0.8028,      0.8038,      0.8048,     0.80581,     0.80681,     0.80781,     0.80881,     0.80981,     0.81081,     0.81181,     0.81281,     0.81381,     0.81481,     0.81582,\n",
       "           0.81682,     0.81782,     0.81882,     0.81982,     0.82082,     0.82182,     0.82282,     0.82382,     0.82482,     0.82583,     0.82683,     0.82783,     0.82883,     0.82983,     0.83083,     0.83183,     0.83283,     0.83383,     0.83483,     0.83584,     0.83684,     0.83784,     0.83884,     0.83984,\n",
       "           0.84084,     0.84184,     0.84284,     0.84384,     0.84484,     0.84585,     0.84685,     0.84785,     0.84885,     0.84985,     0.85085,     0.85185,     0.85285,     0.85385,     0.85485,     0.85586,     0.85686,     0.85786,     0.85886,     0.85986,     0.86086,     0.86186,     0.86286,     0.86386,\n",
       "           0.86486,     0.86587,     0.86687,     0.86787,     0.86887,     0.86987,     0.87087,     0.87187,     0.87287,     0.87387,     0.87487,     0.87588,     0.87688,     0.87788,     0.87888,     0.87988,     0.88088,     0.88188,     0.88288,     0.88388,     0.88488,     0.88589,     0.88689,     0.88789,\n",
       "           0.88889,     0.88989,     0.89089,     0.89189,     0.89289,     0.89389,     0.89489,      0.8959,      0.8969,      0.8979,      0.8989,      0.8999,      0.9009,      0.9019,      0.9029,      0.9039,      0.9049,     0.90591,     0.90691,     0.90791,     0.90891,     0.90991,     0.91091,     0.91191,\n",
       "           0.91291,     0.91391,     0.91491,     0.91592,     0.91692,     0.91792,     0.91892,     0.91992,     0.92092,     0.92192,     0.92292,     0.92392,     0.92492,     0.92593,     0.92693,     0.92793,     0.92893,     0.92993,     0.93093,     0.93193,     0.93293,     0.93393,     0.93493,     0.93594,\n",
       "           0.93694,     0.93794,     0.93894,     0.93994,     0.94094,     0.94194,     0.94294,     0.94394,     0.94494,     0.94595,     0.94695,     0.94795,     0.94895,     0.94995,     0.95095,     0.95195,     0.95295,     0.95395,     0.95495,     0.95596,     0.95696,     0.95796,     0.95896,     0.95996,\n",
       "           0.96096,     0.96196,     0.96296,     0.96396,     0.96496,     0.96597,     0.96697,     0.96797,     0.96897,     0.96997,     0.97097,     0.97197,     0.97297,     0.97397,     0.97497,     0.97598,     0.97698,     0.97798,     0.97898,     0.97998,     0.98098,     0.98198,     0.98298,     0.98398,\n",
       "           0.98498,     0.98599,     0.98699,     0.98799,     0.98899,     0.98999,     0.99099,     0.99199,     0.99299,     0.99399,     0.99499,       0.996,       0.997,       0.998,       0.999,           1]), array([[    0.75707,     0.75707,     0.77551, ...,           0,           0,           0],\n",
       "       [    0.63532,     0.63532,     0.65013, ...,           0,           0,           0]]), 'Confidence', 'F1'], [array([          0,    0.001001,    0.002002,    0.003003,    0.004004,    0.005005,    0.006006,    0.007007,    0.008008,    0.009009,     0.01001,    0.011011,    0.012012,    0.013013,    0.014014,    0.015015,    0.016016,    0.017017,    0.018018,    0.019019,     0.02002,    0.021021,    0.022022,    0.023023,\n",
       "          0.024024,    0.025025,    0.026026,    0.027027,    0.028028,    0.029029,     0.03003,    0.031031,    0.032032,    0.033033,    0.034034,    0.035035,    0.036036,    0.037037,    0.038038,    0.039039,     0.04004,    0.041041,    0.042042,    0.043043,    0.044044,    0.045045,    0.046046,    0.047047,\n",
       "          0.048048,    0.049049,     0.05005,    0.051051,    0.052052,    0.053053,    0.054054,    0.055055,    0.056056,    0.057057,    0.058058,    0.059059,     0.06006,    0.061061,    0.062062,    0.063063,    0.064064,    0.065065,    0.066066,    0.067067,    0.068068,    0.069069,     0.07007,    0.071071,\n",
       "          0.072072,    0.073073,    0.074074,    0.075075,    0.076076,    0.077077,    0.078078,    0.079079,     0.08008,    0.081081,    0.082082,    0.083083,    0.084084,    0.085085,    0.086086,    0.087087,    0.088088,    0.089089,     0.09009,    0.091091,    0.092092,    0.093093,    0.094094,    0.095095,\n",
       "          0.096096,    0.097097,    0.098098,    0.099099,      0.1001,      0.1011,      0.1021,      0.1031,      0.1041,     0.10511,     0.10611,     0.10711,     0.10811,     0.10911,     0.11011,     0.11111,     0.11211,     0.11311,     0.11411,     0.11512,     0.11612,     0.11712,     0.11812,     0.11912,\n",
       "           0.12012,     0.12112,     0.12212,     0.12312,     0.12412,     0.12513,     0.12613,     0.12713,     0.12813,     0.12913,     0.13013,     0.13113,     0.13213,     0.13313,     0.13413,     0.13514,     0.13614,     0.13714,     0.13814,     0.13914,     0.14014,     0.14114,     0.14214,     0.14314,\n",
       "           0.14414,     0.14515,     0.14615,     0.14715,     0.14815,     0.14915,     0.15015,     0.15115,     0.15215,     0.15315,     0.15415,     0.15516,     0.15616,     0.15716,     0.15816,     0.15916,     0.16016,     0.16116,     0.16216,     0.16316,     0.16416,     0.16517,     0.16617,     0.16717,\n",
       "           0.16817,     0.16917,     0.17017,     0.17117,     0.17217,     0.17317,     0.17417,     0.17518,     0.17618,     0.17718,     0.17818,     0.17918,     0.18018,     0.18118,     0.18218,     0.18318,     0.18418,     0.18519,     0.18619,     0.18719,     0.18819,     0.18919,     0.19019,     0.19119,\n",
       "           0.19219,     0.19319,     0.19419,      0.1952,      0.1962,      0.1972,      0.1982,      0.1992,      0.2002,      0.2012,      0.2022,      0.2032,      0.2042,     0.20521,     0.20621,     0.20721,     0.20821,     0.20921,     0.21021,     0.21121,     0.21221,     0.21321,     0.21421,     0.21522,\n",
       "           0.21622,     0.21722,     0.21822,     0.21922,     0.22022,     0.22122,     0.22222,     0.22322,     0.22422,     0.22523,     0.22623,     0.22723,     0.22823,     0.22923,     0.23023,     0.23123,     0.23223,     0.23323,     0.23423,     0.23524,     0.23624,     0.23724,     0.23824,     0.23924,\n",
       "           0.24024,     0.24124,     0.24224,     0.24324,     0.24424,     0.24525,     0.24625,     0.24725,     0.24825,     0.24925,     0.25025,     0.25125,     0.25225,     0.25325,     0.25425,     0.25526,     0.25626,     0.25726,     0.25826,     0.25926,     0.26026,     0.26126,     0.26226,     0.26326,\n",
       "           0.26426,     0.26527,     0.26627,     0.26727,     0.26827,     0.26927,     0.27027,     0.27127,     0.27227,     0.27327,     0.27427,     0.27528,     0.27628,     0.27728,     0.27828,     0.27928,     0.28028,     0.28128,     0.28228,     0.28328,     0.28428,     0.28529,     0.28629,     0.28729,\n",
       "           0.28829,     0.28929,     0.29029,     0.29129,     0.29229,     0.29329,     0.29429,      0.2953,      0.2963,      0.2973,      0.2983,      0.2993,      0.3003,      0.3013,      0.3023,      0.3033,      0.3043,     0.30531,     0.30631,     0.30731,     0.30831,     0.30931,     0.31031,     0.31131,\n",
       "           0.31231,     0.31331,     0.31431,     0.31532,     0.31632,     0.31732,     0.31832,     0.31932,     0.32032,     0.32132,     0.32232,     0.32332,     0.32432,     0.32533,     0.32633,     0.32733,     0.32833,     0.32933,     0.33033,     0.33133,     0.33233,     0.33333,     0.33433,     0.33534,\n",
       "           0.33634,     0.33734,     0.33834,     0.33934,     0.34034,     0.34134,     0.34234,     0.34334,     0.34434,     0.34535,     0.34635,     0.34735,     0.34835,     0.34935,     0.35035,     0.35135,     0.35235,     0.35335,     0.35435,     0.35536,     0.35636,     0.35736,     0.35836,     0.35936,\n",
       "           0.36036,     0.36136,     0.36236,     0.36336,     0.36436,     0.36537,     0.36637,     0.36737,     0.36837,     0.36937,     0.37037,     0.37137,     0.37237,     0.37337,     0.37437,     0.37538,     0.37638,     0.37738,     0.37838,     0.37938,     0.38038,     0.38138,     0.38238,     0.38338,\n",
       "           0.38438,     0.38539,     0.38639,     0.38739,     0.38839,     0.38939,     0.39039,     0.39139,     0.39239,     0.39339,     0.39439,      0.3954,      0.3964,      0.3974,      0.3984,      0.3994,      0.4004,      0.4014,      0.4024,      0.4034,      0.4044,     0.40541,     0.40641,     0.40741,\n",
       "           0.40841,     0.40941,     0.41041,     0.41141,     0.41241,     0.41341,     0.41441,     0.41542,     0.41642,     0.41742,     0.41842,     0.41942,     0.42042,     0.42142,     0.42242,     0.42342,     0.42442,     0.42543,     0.42643,     0.42743,     0.42843,     0.42943,     0.43043,     0.43143,\n",
       "           0.43243,     0.43343,     0.43443,     0.43544,     0.43644,     0.43744,     0.43844,     0.43944,     0.44044,     0.44144,     0.44244,     0.44344,     0.44444,     0.44545,     0.44645,     0.44745,     0.44845,     0.44945,     0.45045,     0.45145,     0.45245,     0.45345,     0.45445,     0.45546,\n",
       "           0.45646,     0.45746,     0.45846,     0.45946,     0.46046,     0.46146,     0.46246,     0.46346,     0.46446,     0.46547,     0.46647,     0.46747,     0.46847,     0.46947,     0.47047,     0.47147,     0.47247,     0.47347,     0.47447,     0.47548,     0.47648,     0.47748,     0.47848,     0.47948,\n",
       "           0.48048,     0.48148,     0.48248,     0.48348,     0.48448,     0.48549,     0.48649,     0.48749,     0.48849,     0.48949,     0.49049,     0.49149,     0.49249,     0.49349,     0.49449,      0.4955,      0.4965,      0.4975,      0.4985,      0.4995,      0.5005,      0.5015,      0.5025,      0.5035,\n",
       "            0.5045,     0.50551,     0.50651,     0.50751,     0.50851,     0.50951,     0.51051,     0.51151,     0.51251,     0.51351,     0.51451,     0.51552,     0.51652,     0.51752,     0.51852,     0.51952,     0.52052,     0.52152,     0.52252,     0.52352,     0.52452,     0.52553,     0.52653,     0.52753,\n",
       "           0.52853,     0.52953,     0.53053,     0.53153,     0.53253,     0.53353,     0.53453,     0.53554,     0.53654,     0.53754,     0.53854,     0.53954,     0.54054,     0.54154,     0.54254,     0.54354,     0.54454,     0.54555,     0.54655,     0.54755,     0.54855,     0.54955,     0.55055,     0.55155,\n",
       "           0.55255,     0.55355,     0.55455,     0.55556,     0.55656,     0.55756,     0.55856,     0.55956,     0.56056,     0.56156,     0.56256,     0.56356,     0.56456,     0.56557,     0.56657,     0.56757,     0.56857,     0.56957,     0.57057,     0.57157,     0.57257,     0.57357,     0.57457,     0.57558,\n",
       "           0.57658,     0.57758,     0.57858,     0.57958,     0.58058,     0.58158,     0.58258,     0.58358,     0.58458,     0.58559,     0.58659,     0.58759,     0.58859,     0.58959,     0.59059,     0.59159,     0.59259,     0.59359,     0.59459,      0.5956,      0.5966,      0.5976,      0.5986,      0.5996,\n",
       "            0.6006,      0.6016,      0.6026,      0.6036,      0.6046,     0.60561,     0.60661,     0.60761,     0.60861,     0.60961,     0.61061,     0.61161,     0.61261,     0.61361,     0.61461,     0.61562,     0.61662,     0.61762,     0.61862,     0.61962,     0.62062,     0.62162,     0.62262,     0.62362,\n",
       "           0.62462,     0.62563,     0.62663,     0.62763,     0.62863,     0.62963,     0.63063,     0.63163,     0.63263,     0.63363,     0.63463,     0.63564,     0.63664,     0.63764,     0.63864,     0.63964,     0.64064,     0.64164,     0.64264,     0.64364,     0.64464,     0.64565,     0.64665,     0.64765,\n",
       "           0.64865,     0.64965,     0.65065,     0.65165,     0.65265,     0.65365,     0.65465,     0.65566,     0.65666,     0.65766,     0.65866,     0.65966,     0.66066,     0.66166,     0.66266,     0.66366,     0.66466,     0.66567,     0.66667,     0.66767,     0.66867,     0.66967,     0.67067,     0.67167,\n",
       "           0.67267,     0.67367,     0.67467,     0.67568,     0.67668,     0.67768,     0.67868,     0.67968,     0.68068,     0.68168,     0.68268,     0.68368,     0.68468,     0.68569,     0.68669,     0.68769,     0.68869,     0.68969,     0.69069,     0.69169,     0.69269,     0.69369,     0.69469,      0.6957,\n",
       "            0.6967,      0.6977,      0.6987,      0.6997,      0.7007,      0.7017,      0.7027,      0.7037,      0.7047,     0.70571,     0.70671,     0.70771,     0.70871,     0.70971,     0.71071,     0.71171,     0.71271,     0.71371,     0.71471,     0.71572,     0.71672,     0.71772,     0.71872,     0.71972,\n",
       "           0.72072,     0.72172,     0.72272,     0.72372,     0.72472,     0.72573,     0.72673,     0.72773,     0.72873,     0.72973,     0.73073,     0.73173,     0.73273,     0.73373,     0.73473,     0.73574,     0.73674,     0.73774,     0.73874,     0.73974,     0.74074,     0.74174,     0.74274,     0.74374,\n",
       "           0.74474,     0.74575,     0.74675,     0.74775,     0.74875,     0.74975,     0.75075,     0.75175,     0.75275,     0.75375,     0.75475,     0.75576,     0.75676,     0.75776,     0.75876,     0.75976,     0.76076,     0.76176,     0.76276,     0.76376,     0.76476,     0.76577,     0.76677,     0.76777,\n",
       "           0.76877,     0.76977,     0.77077,     0.77177,     0.77277,     0.77377,     0.77477,     0.77578,     0.77678,     0.77778,     0.77878,     0.77978,     0.78078,     0.78178,     0.78278,     0.78378,     0.78478,     0.78579,     0.78679,     0.78779,     0.78879,     0.78979,     0.79079,     0.79179,\n",
       "           0.79279,     0.79379,     0.79479,      0.7958,      0.7968,      0.7978,      0.7988,      0.7998,      0.8008,      0.8018,      0.8028,      0.8038,      0.8048,     0.80581,     0.80681,     0.80781,     0.80881,     0.80981,     0.81081,     0.81181,     0.81281,     0.81381,     0.81481,     0.81582,\n",
       "           0.81682,     0.81782,     0.81882,     0.81982,     0.82082,     0.82182,     0.82282,     0.82382,     0.82482,     0.82583,     0.82683,     0.82783,     0.82883,     0.82983,     0.83083,     0.83183,     0.83283,     0.83383,     0.83483,     0.83584,     0.83684,     0.83784,     0.83884,     0.83984,\n",
       "           0.84084,     0.84184,     0.84284,     0.84384,     0.84484,     0.84585,     0.84685,     0.84785,     0.84885,     0.84985,     0.85085,     0.85185,     0.85285,     0.85385,     0.85485,     0.85586,     0.85686,     0.85786,     0.85886,     0.85986,     0.86086,     0.86186,     0.86286,     0.86386,\n",
       "           0.86486,     0.86587,     0.86687,     0.86787,     0.86887,     0.86987,     0.87087,     0.87187,     0.87287,     0.87387,     0.87487,     0.87588,     0.87688,     0.87788,     0.87888,     0.87988,     0.88088,     0.88188,     0.88288,     0.88388,     0.88488,     0.88589,     0.88689,     0.88789,\n",
       "           0.88889,     0.88989,     0.89089,     0.89189,     0.89289,     0.89389,     0.89489,      0.8959,      0.8969,      0.8979,      0.8989,      0.8999,      0.9009,      0.9019,      0.9029,      0.9039,      0.9049,     0.90591,     0.90691,     0.90791,     0.90891,     0.90991,     0.91091,     0.91191,\n",
       "           0.91291,     0.91391,     0.91491,     0.91592,     0.91692,     0.91792,     0.91892,     0.91992,     0.92092,     0.92192,     0.92292,     0.92392,     0.92492,     0.92593,     0.92693,     0.92793,     0.92893,     0.92993,     0.93093,     0.93193,     0.93293,     0.93393,     0.93493,     0.93594,\n",
       "           0.93694,     0.93794,     0.93894,     0.93994,     0.94094,     0.94194,     0.94294,     0.94394,     0.94494,     0.94595,     0.94695,     0.94795,     0.94895,     0.94995,     0.95095,     0.95195,     0.95295,     0.95395,     0.95495,     0.95596,     0.95696,     0.95796,     0.95896,     0.95996,\n",
       "           0.96096,     0.96196,     0.96296,     0.96396,     0.96496,     0.96597,     0.96697,     0.96797,     0.96897,     0.96997,     0.97097,     0.97197,     0.97297,     0.97397,     0.97497,     0.97598,     0.97698,     0.97798,     0.97898,     0.97998,     0.98098,     0.98198,     0.98298,     0.98398,\n",
       "           0.98498,     0.98599,     0.98699,     0.98799,     0.98899,     0.98999,     0.99099,     0.99199,     0.99299,     0.99399,     0.99499,       0.996,       0.997,       0.998,       0.999,           1]), array([[    0.60912,     0.60912,     0.63336, ...,           1,           1,           1],\n",
       "       [    0.46555,     0.46555,     0.48162, ...,           1,           1,           1]]), 'Confidence', 'Precision'], [array([          0,    0.001001,    0.002002,    0.003003,    0.004004,    0.005005,    0.006006,    0.007007,    0.008008,    0.009009,     0.01001,    0.011011,    0.012012,    0.013013,    0.014014,    0.015015,    0.016016,    0.017017,    0.018018,    0.019019,     0.02002,    0.021021,    0.022022,    0.023023,\n",
       "          0.024024,    0.025025,    0.026026,    0.027027,    0.028028,    0.029029,     0.03003,    0.031031,    0.032032,    0.033033,    0.034034,    0.035035,    0.036036,    0.037037,    0.038038,    0.039039,     0.04004,    0.041041,    0.042042,    0.043043,    0.044044,    0.045045,    0.046046,    0.047047,\n",
       "          0.048048,    0.049049,     0.05005,    0.051051,    0.052052,    0.053053,    0.054054,    0.055055,    0.056056,    0.057057,    0.058058,    0.059059,     0.06006,    0.061061,    0.062062,    0.063063,    0.064064,    0.065065,    0.066066,    0.067067,    0.068068,    0.069069,     0.07007,    0.071071,\n",
       "          0.072072,    0.073073,    0.074074,    0.075075,    0.076076,    0.077077,    0.078078,    0.079079,     0.08008,    0.081081,    0.082082,    0.083083,    0.084084,    0.085085,    0.086086,    0.087087,    0.088088,    0.089089,     0.09009,    0.091091,    0.092092,    0.093093,    0.094094,    0.095095,\n",
       "          0.096096,    0.097097,    0.098098,    0.099099,      0.1001,      0.1011,      0.1021,      0.1031,      0.1041,     0.10511,     0.10611,     0.10711,     0.10811,     0.10911,     0.11011,     0.11111,     0.11211,     0.11311,     0.11411,     0.11512,     0.11612,     0.11712,     0.11812,     0.11912,\n",
       "           0.12012,     0.12112,     0.12212,     0.12312,     0.12412,     0.12513,     0.12613,     0.12713,     0.12813,     0.12913,     0.13013,     0.13113,     0.13213,     0.13313,     0.13413,     0.13514,     0.13614,     0.13714,     0.13814,     0.13914,     0.14014,     0.14114,     0.14214,     0.14314,\n",
       "           0.14414,     0.14515,     0.14615,     0.14715,     0.14815,     0.14915,     0.15015,     0.15115,     0.15215,     0.15315,     0.15415,     0.15516,     0.15616,     0.15716,     0.15816,     0.15916,     0.16016,     0.16116,     0.16216,     0.16316,     0.16416,     0.16517,     0.16617,     0.16717,\n",
       "           0.16817,     0.16917,     0.17017,     0.17117,     0.17217,     0.17317,     0.17417,     0.17518,     0.17618,     0.17718,     0.17818,     0.17918,     0.18018,     0.18118,     0.18218,     0.18318,     0.18418,     0.18519,     0.18619,     0.18719,     0.18819,     0.18919,     0.19019,     0.19119,\n",
       "           0.19219,     0.19319,     0.19419,      0.1952,      0.1962,      0.1972,      0.1982,      0.1992,      0.2002,      0.2012,      0.2022,      0.2032,      0.2042,     0.20521,     0.20621,     0.20721,     0.20821,     0.20921,     0.21021,     0.21121,     0.21221,     0.21321,     0.21421,     0.21522,\n",
       "           0.21622,     0.21722,     0.21822,     0.21922,     0.22022,     0.22122,     0.22222,     0.22322,     0.22422,     0.22523,     0.22623,     0.22723,     0.22823,     0.22923,     0.23023,     0.23123,     0.23223,     0.23323,     0.23423,     0.23524,     0.23624,     0.23724,     0.23824,     0.23924,\n",
       "           0.24024,     0.24124,     0.24224,     0.24324,     0.24424,     0.24525,     0.24625,     0.24725,     0.24825,     0.24925,     0.25025,     0.25125,     0.25225,     0.25325,     0.25425,     0.25526,     0.25626,     0.25726,     0.25826,     0.25926,     0.26026,     0.26126,     0.26226,     0.26326,\n",
       "           0.26426,     0.26527,     0.26627,     0.26727,     0.26827,     0.26927,     0.27027,     0.27127,     0.27227,     0.27327,     0.27427,     0.27528,     0.27628,     0.27728,     0.27828,     0.27928,     0.28028,     0.28128,     0.28228,     0.28328,     0.28428,     0.28529,     0.28629,     0.28729,\n",
       "           0.28829,     0.28929,     0.29029,     0.29129,     0.29229,     0.29329,     0.29429,      0.2953,      0.2963,      0.2973,      0.2983,      0.2993,      0.3003,      0.3013,      0.3023,      0.3033,      0.3043,     0.30531,     0.30631,     0.30731,     0.30831,     0.30931,     0.31031,     0.31131,\n",
       "           0.31231,     0.31331,     0.31431,     0.31532,     0.31632,     0.31732,     0.31832,     0.31932,     0.32032,     0.32132,     0.32232,     0.32332,     0.32432,     0.32533,     0.32633,     0.32733,     0.32833,     0.32933,     0.33033,     0.33133,     0.33233,     0.33333,     0.33433,     0.33534,\n",
       "           0.33634,     0.33734,     0.33834,     0.33934,     0.34034,     0.34134,     0.34234,     0.34334,     0.34434,     0.34535,     0.34635,     0.34735,     0.34835,     0.34935,     0.35035,     0.35135,     0.35235,     0.35335,     0.35435,     0.35536,     0.35636,     0.35736,     0.35836,     0.35936,\n",
       "           0.36036,     0.36136,     0.36236,     0.36336,     0.36436,     0.36537,     0.36637,     0.36737,     0.36837,     0.36937,     0.37037,     0.37137,     0.37237,     0.37337,     0.37437,     0.37538,     0.37638,     0.37738,     0.37838,     0.37938,     0.38038,     0.38138,     0.38238,     0.38338,\n",
       "           0.38438,     0.38539,     0.38639,     0.38739,     0.38839,     0.38939,     0.39039,     0.39139,     0.39239,     0.39339,     0.39439,      0.3954,      0.3964,      0.3974,      0.3984,      0.3994,      0.4004,      0.4014,      0.4024,      0.4034,      0.4044,     0.40541,     0.40641,     0.40741,\n",
       "           0.40841,     0.40941,     0.41041,     0.41141,     0.41241,     0.41341,     0.41441,     0.41542,     0.41642,     0.41742,     0.41842,     0.41942,     0.42042,     0.42142,     0.42242,     0.42342,     0.42442,     0.42543,     0.42643,     0.42743,     0.42843,     0.42943,     0.43043,     0.43143,\n",
       "           0.43243,     0.43343,     0.43443,     0.43544,     0.43644,     0.43744,     0.43844,     0.43944,     0.44044,     0.44144,     0.44244,     0.44344,     0.44444,     0.44545,     0.44645,     0.44745,     0.44845,     0.44945,     0.45045,     0.45145,     0.45245,     0.45345,     0.45445,     0.45546,\n",
       "           0.45646,     0.45746,     0.45846,     0.45946,     0.46046,     0.46146,     0.46246,     0.46346,     0.46446,     0.46547,     0.46647,     0.46747,     0.46847,     0.46947,     0.47047,     0.47147,     0.47247,     0.47347,     0.47447,     0.47548,     0.47648,     0.47748,     0.47848,     0.47948,\n",
       "           0.48048,     0.48148,     0.48248,     0.48348,     0.48448,     0.48549,     0.48649,     0.48749,     0.48849,     0.48949,     0.49049,     0.49149,     0.49249,     0.49349,     0.49449,      0.4955,      0.4965,      0.4975,      0.4985,      0.4995,      0.5005,      0.5015,      0.5025,      0.5035,\n",
       "            0.5045,     0.50551,     0.50651,     0.50751,     0.50851,     0.50951,     0.51051,     0.51151,     0.51251,     0.51351,     0.51451,     0.51552,     0.51652,     0.51752,     0.51852,     0.51952,     0.52052,     0.52152,     0.52252,     0.52352,     0.52452,     0.52553,     0.52653,     0.52753,\n",
       "           0.52853,     0.52953,     0.53053,     0.53153,     0.53253,     0.53353,     0.53453,     0.53554,     0.53654,     0.53754,     0.53854,     0.53954,     0.54054,     0.54154,     0.54254,     0.54354,     0.54454,     0.54555,     0.54655,     0.54755,     0.54855,     0.54955,     0.55055,     0.55155,\n",
       "           0.55255,     0.55355,     0.55455,     0.55556,     0.55656,     0.55756,     0.55856,     0.55956,     0.56056,     0.56156,     0.56256,     0.56356,     0.56456,     0.56557,     0.56657,     0.56757,     0.56857,     0.56957,     0.57057,     0.57157,     0.57257,     0.57357,     0.57457,     0.57558,\n",
       "           0.57658,     0.57758,     0.57858,     0.57958,     0.58058,     0.58158,     0.58258,     0.58358,     0.58458,     0.58559,     0.58659,     0.58759,     0.58859,     0.58959,     0.59059,     0.59159,     0.59259,     0.59359,     0.59459,      0.5956,      0.5966,      0.5976,      0.5986,      0.5996,\n",
       "            0.6006,      0.6016,      0.6026,      0.6036,      0.6046,     0.60561,     0.60661,     0.60761,     0.60861,     0.60961,     0.61061,     0.61161,     0.61261,     0.61361,     0.61461,     0.61562,     0.61662,     0.61762,     0.61862,     0.61962,     0.62062,     0.62162,     0.62262,     0.62362,\n",
       "           0.62462,     0.62563,     0.62663,     0.62763,     0.62863,     0.62963,     0.63063,     0.63163,     0.63263,     0.63363,     0.63463,     0.63564,     0.63664,     0.63764,     0.63864,     0.63964,     0.64064,     0.64164,     0.64264,     0.64364,     0.64464,     0.64565,     0.64665,     0.64765,\n",
       "           0.64865,     0.64965,     0.65065,     0.65165,     0.65265,     0.65365,     0.65465,     0.65566,     0.65666,     0.65766,     0.65866,     0.65966,     0.66066,     0.66166,     0.66266,     0.66366,     0.66466,     0.66567,     0.66667,     0.66767,     0.66867,     0.66967,     0.67067,     0.67167,\n",
       "           0.67267,     0.67367,     0.67467,     0.67568,     0.67668,     0.67768,     0.67868,     0.67968,     0.68068,     0.68168,     0.68268,     0.68368,     0.68468,     0.68569,     0.68669,     0.68769,     0.68869,     0.68969,     0.69069,     0.69169,     0.69269,     0.69369,     0.69469,      0.6957,\n",
       "            0.6967,      0.6977,      0.6987,      0.6997,      0.7007,      0.7017,      0.7027,      0.7037,      0.7047,     0.70571,     0.70671,     0.70771,     0.70871,     0.70971,     0.71071,     0.71171,     0.71271,     0.71371,     0.71471,     0.71572,     0.71672,     0.71772,     0.71872,     0.71972,\n",
       "           0.72072,     0.72172,     0.72272,     0.72372,     0.72472,     0.72573,     0.72673,     0.72773,     0.72873,     0.72973,     0.73073,     0.73173,     0.73273,     0.73373,     0.73473,     0.73574,     0.73674,     0.73774,     0.73874,     0.73974,     0.74074,     0.74174,     0.74274,     0.74374,\n",
       "           0.74474,     0.74575,     0.74675,     0.74775,     0.74875,     0.74975,     0.75075,     0.75175,     0.75275,     0.75375,     0.75475,     0.75576,     0.75676,     0.75776,     0.75876,     0.75976,     0.76076,     0.76176,     0.76276,     0.76376,     0.76476,     0.76577,     0.76677,     0.76777,\n",
       "           0.76877,     0.76977,     0.77077,     0.77177,     0.77277,     0.77377,     0.77477,     0.77578,     0.77678,     0.77778,     0.77878,     0.77978,     0.78078,     0.78178,     0.78278,     0.78378,     0.78478,     0.78579,     0.78679,     0.78779,     0.78879,     0.78979,     0.79079,     0.79179,\n",
       "           0.79279,     0.79379,     0.79479,      0.7958,      0.7968,      0.7978,      0.7988,      0.7998,      0.8008,      0.8018,      0.8028,      0.8038,      0.8048,     0.80581,     0.80681,     0.80781,     0.80881,     0.80981,     0.81081,     0.81181,     0.81281,     0.81381,     0.81481,     0.81582,\n",
       "           0.81682,     0.81782,     0.81882,     0.81982,     0.82082,     0.82182,     0.82282,     0.82382,     0.82482,     0.82583,     0.82683,     0.82783,     0.82883,     0.82983,     0.83083,     0.83183,     0.83283,     0.83383,     0.83483,     0.83584,     0.83684,     0.83784,     0.83884,     0.83984,\n",
       "           0.84084,     0.84184,     0.84284,     0.84384,     0.84484,     0.84585,     0.84685,     0.84785,     0.84885,     0.84985,     0.85085,     0.85185,     0.85285,     0.85385,     0.85485,     0.85586,     0.85686,     0.85786,     0.85886,     0.85986,     0.86086,     0.86186,     0.86286,     0.86386,\n",
       "           0.86486,     0.86587,     0.86687,     0.86787,     0.86887,     0.86987,     0.87087,     0.87187,     0.87287,     0.87387,     0.87487,     0.87588,     0.87688,     0.87788,     0.87888,     0.87988,     0.88088,     0.88188,     0.88288,     0.88388,     0.88488,     0.88589,     0.88689,     0.88789,\n",
       "           0.88889,     0.88989,     0.89089,     0.89189,     0.89289,     0.89389,     0.89489,      0.8959,      0.8969,      0.8979,      0.8989,      0.8999,      0.9009,      0.9019,      0.9029,      0.9039,      0.9049,     0.90591,     0.90691,     0.90791,     0.90891,     0.90991,     0.91091,     0.91191,\n",
       "           0.91291,     0.91391,     0.91491,     0.91592,     0.91692,     0.91792,     0.91892,     0.91992,     0.92092,     0.92192,     0.92292,     0.92392,     0.92492,     0.92593,     0.92693,     0.92793,     0.92893,     0.92993,     0.93093,     0.93193,     0.93293,     0.93393,     0.93493,     0.93594,\n",
       "           0.93694,     0.93794,     0.93894,     0.93994,     0.94094,     0.94194,     0.94294,     0.94394,     0.94494,     0.94595,     0.94695,     0.94795,     0.94895,     0.94995,     0.95095,     0.95195,     0.95295,     0.95395,     0.95495,     0.95596,     0.95696,     0.95796,     0.95896,     0.95996,\n",
       "           0.96096,     0.96196,     0.96296,     0.96396,     0.96496,     0.96597,     0.96697,     0.96797,     0.96897,     0.96997,     0.97097,     0.97197,     0.97297,     0.97397,     0.97497,     0.97598,     0.97698,     0.97798,     0.97898,     0.97998,     0.98098,     0.98198,     0.98298,     0.98398,\n",
       "           0.98498,     0.98599,     0.98699,     0.98799,     0.98899,     0.98999,     0.99099,     0.99199,     0.99299,     0.99399,     0.99499,       0.996,       0.997,       0.998,       0.999,           1]), array([[    0.99995,     0.99995,     0.99995, ...,           0,           0,           0],\n",
       "       [          1,           1,           1, ...,           0,           0,           0]]), 'Confidence', 'Recall']]\n",
       "fitness: 0.9726866779231671\n",
       "keys: ['metrics/precision(B)', 'metrics/recall(B)', 'metrics/mAP50(B)', 'metrics/mAP50-95(B)']\n",
       "maps: array([    0.97582,     0.96955])\n",
       "names: {0: 'normal', 1: 'suspicious'}\n",
       "plot: True\n",
       "results_dict: {'metrics/precision(B)': 0.9122803352318437, 'metrics/recall(B)': 0.9257403873148762, 'metrics/mAP50(B)': 0.9726979907421023, 'metrics/mAP50-95(B)': 0.9726854209432855, 'fitness': 0.9726866779231671}\n",
       "save_dir: WindowsPath('runs/detect/train2')\n",
       "speed: {'preprocess': 0.1203998430060996, 'inference': 0.7626861738972502, 'loss': 0.0001849621608392115, 'postprocess': 0.8855900097449749}\n",
       "task: 'detect'"
      ]
     },
     "execution_count": 14,
     "metadata": {},
     "output_type": "execute_result"
    }
   ],
   "source": [
    "model = YOLO(\"yolov8n.pt\")  # Load a pre-trained YOLOv8 Nano model\n",
    "\n",
    "model.train(\n",
    "    data=\"D:/major_project_sus/data.yaml\",  # Path to your data.yaml\n",
    "    epochs=50,\n",
    "    imgsz=640,\n",
    "    batch=16  # Adjust based on your system\n",
    ")\n"
   ]
  },
  {
   "cell_type": "code",
   "execution_count": 2,
   "id": "ea703c1b",
   "metadata": {},
   "outputs": [
    {
     "name": "stdout",
     "output_type": "stream",
     "text": [
      "\n",
      "\n",
      "WARNING  inference results will accumulate in RAM unless `stream=True` is passed, causing potential out-of-memory\n",
      "errors for large sources or long-running streams and videos. See https://docs.ultralytics.com/modes/predict/ for help.\n",
      "\n",
      "Example:\n",
      "    results = model(source=..., stream=True)  # generator of Results objects\n",
      "    for r in results:\n",
      "        boxes = r.boxes  # Boxes object for bbox outputs\n",
      "        masks = r.masks  # Masks object for segment masks outputs\n",
      "        probs = r.probs  # Class probabilities for classification outputs\n",
      "\n",
      "video 1/1 (frame 1/98) C:\\Users\\admin\\Downloads\\WhatsApp Video 2025-04-17 at 3.34.13 PM.mp4: 640x384 2 normals, 1 suspicious, 115.4ms\n",
      "video 1/1 (frame 2/98) C:\\Users\\admin\\Downloads\\WhatsApp Video 2025-04-17 at 3.34.13 PM.mp4: 640x384 2 normals, 1 suspicious, 8.9ms\n",
      "video 1/1 (frame 3/98) C:\\Users\\admin\\Downloads\\WhatsApp Video 2025-04-17 at 3.34.13 PM.mp4: 640x384 2 normals, 1 suspicious, 9.2ms\n",
      "video 1/1 (frame 4/98) C:\\Users\\admin\\Downloads\\WhatsApp Video 2025-04-17 at 3.34.13 PM.mp4: 640x384 2 normals, 1 suspicious, 9.0ms\n",
      "video 1/1 (frame 5/98) C:\\Users\\admin\\Downloads\\WhatsApp Video 2025-04-17 at 3.34.13 PM.mp4: 640x384 3 normals, 8.7ms\n",
      "video 1/1 (frame 6/98) C:\\Users\\admin\\Downloads\\WhatsApp Video 2025-04-17 at 3.34.13 PM.mp4: 640x384 3 normals, 1 suspicious, 10.2ms\n",
      "video 1/1 (frame 7/98) C:\\Users\\admin\\Downloads\\WhatsApp Video 2025-04-17 at 3.34.13 PM.mp4: 640x384 4 normals, 1 suspicious, 8.7ms\n",
      "video 1/1 (frame 8/98) C:\\Users\\admin\\Downloads\\WhatsApp Video 2025-04-17 at 3.34.13 PM.mp4: 640x384 4 normals, 2 suspiciouss, 8.3ms\n",
      "video 1/1 (frame 9/98) C:\\Users\\admin\\Downloads\\WhatsApp Video 2025-04-17 at 3.34.13 PM.mp4: 640x384 4 normals, 2 suspiciouss, 9.3ms\n",
      "video 1/1 (frame 10/98) C:\\Users\\admin\\Downloads\\WhatsApp Video 2025-04-17 at 3.34.13 PM.mp4: 640x384 4 normals, 1 suspicious, 9.4ms\n",
      "video 1/1 (frame 11/98) C:\\Users\\admin\\Downloads\\WhatsApp Video 2025-04-17 at 3.34.13 PM.mp4: 640x384 3 normals, 9.9ms\n",
      "video 1/1 (frame 12/98) C:\\Users\\admin\\Downloads\\WhatsApp Video 2025-04-17 at 3.34.13 PM.mp4: 640x384 3 normals, 9.2ms\n",
      "video 1/1 (frame 13/98) C:\\Users\\admin\\Downloads\\WhatsApp Video 2025-04-17 at 3.34.13 PM.mp4: 640x384 3 normals, 11.9ms\n",
      "video 1/1 (frame 14/98) C:\\Users\\admin\\Downloads\\WhatsApp Video 2025-04-17 at 3.34.13 PM.mp4: 640x384 4 normals, 8.6ms\n",
      "video 1/1 (frame 15/98) C:\\Users\\admin\\Downloads\\WhatsApp Video 2025-04-17 at 3.34.13 PM.mp4: 640x384 5 normals, 9.2ms\n",
      "video 1/1 (frame 16/98) C:\\Users\\admin\\Downloads\\WhatsApp Video 2025-04-17 at 3.34.13 PM.mp4: 640x384 4 normals, 9.2ms\n",
      "video 1/1 (frame 17/98) C:\\Users\\admin\\Downloads\\WhatsApp Video 2025-04-17 at 3.34.13 PM.mp4: 640x384 3 normals, 9.0ms\n",
      "video 1/1 (frame 18/98) C:\\Users\\admin\\Downloads\\WhatsApp Video 2025-04-17 at 3.34.13 PM.mp4: 640x384 2 normals, 9.6ms\n",
      "video 1/1 (frame 19/98) C:\\Users\\admin\\Downloads\\WhatsApp Video 2025-04-17 at 3.34.13 PM.mp4: 640x384 2 normals, 9.4ms\n",
      "video 1/1 (frame 20/98) C:\\Users\\admin\\Downloads\\WhatsApp Video 2025-04-17 at 3.34.13 PM.mp4: 640x384 2 normals, 1 suspicious, 8.9ms\n",
      "video 1/1 (frame 21/98) C:\\Users\\admin\\Downloads\\WhatsApp Video 2025-04-17 at 3.34.13 PM.mp4: 640x384 2 normals, 1 suspicious, 8.5ms\n",
      "video 1/1 (frame 22/98) C:\\Users\\admin\\Downloads\\WhatsApp Video 2025-04-17 at 3.34.13 PM.mp4: 640x384 3 normals, 9.6ms\n",
      "video 1/1 (frame 23/98) C:\\Users\\admin\\Downloads\\WhatsApp Video 2025-04-17 at 3.34.13 PM.mp4: 640x384 2 normals, 13.8ms\n",
      "video 1/1 (frame 24/98) C:\\Users\\admin\\Downloads\\WhatsApp Video 2025-04-17 at 3.34.13 PM.mp4: 640x384 2 normals, 9.2ms\n",
      "video 1/1 (frame 25/98) C:\\Users\\admin\\Downloads\\WhatsApp Video 2025-04-17 at 3.34.13 PM.mp4: 640x384 2 normals, 9.2ms\n",
      "video 1/1 (frame 26/98) C:\\Users\\admin\\Downloads\\WhatsApp Video 2025-04-17 at 3.34.13 PM.mp4: 640x384 3 normals, 9.0ms\n",
      "video 1/1 (frame 27/98) C:\\Users\\admin\\Downloads\\WhatsApp Video 2025-04-17 at 3.34.13 PM.mp4: 640x384 3 normals, 1 suspicious, 9.0ms\n",
      "video 1/1 (frame 28/98) C:\\Users\\admin\\Downloads\\WhatsApp Video 2025-04-17 at 3.34.13 PM.mp4: 640x384 4 normals, 9.5ms\n",
      "video 1/1 (frame 29/98) C:\\Users\\admin\\Downloads\\WhatsApp Video 2025-04-17 at 3.34.13 PM.mp4: 640x384 4 normals, 8.4ms\n",
      "video 1/1 (frame 30/98) C:\\Users\\admin\\Downloads\\WhatsApp Video 2025-04-17 at 3.34.13 PM.mp4: 640x384 4 normals, 9.1ms\n",
      "video 1/1 (frame 31/98) C:\\Users\\admin\\Downloads\\WhatsApp Video 2025-04-17 at 3.34.13 PM.mp4: 640x384 5 normals, 9.1ms\n",
      "video 1/1 (frame 32/98) C:\\Users\\admin\\Downloads\\WhatsApp Video 2025-04-17 at 3.34.13 PM.mp4: 640x384 3 normals, 9.3ms\n",
      "video 1/1 (frame 33/98) C:\\Users\\admin\\Downloads\\WhatsApp Video 2025-04-17 at 3.34.13 PM.mp4: 640x384 4 normals, 9.2ms\n",
      "video 1/1 (frame 34/98) C:\\Users\\admin\\Downloads\\WhatsApp Video 2025-04-17 at 3.34.13 PM.mp4: 640x384 5 normals, 8.9ms\n",
      "video 1/1 (frame 35/98) C:\\Users\\admin\\Downloads\\WhatsApp Video 2025-04-17 at 3.34.13 PM.mp4: 640x384 4 normals, 9.2ms\n",
      "video 1/1 (frame 36/98) C:\\Users\\admin\\Downloads\\WhatsApp Video 2025-04-17 at 3.34.13 PM.mp4: 640x384 3 normals, 1 suspicious, 9.0ms\n",
      "video 1/1 (frame 37/98) C:\\Users\\admin\\Downloads\\WhatsApp Video 2025-04-17 at 3.34.13 PM.mp4: 640x384 3 normals, 1 suspicious, 8.2ms\n",
      "video 1/1 (frame 38/98) C:\\Users\\admin\\Downloads\\WhatsApp Video 2025-04-17 at 3.34.13 PM.mp4: 640x384 4 normals, 1 suspicious, 9.2ms\n",
      "video 1/1 (frame 39/98) C:\\Users\\admin\\Downloads\\WhatsApp Video 2025-04-17 at 3.34.13 PM.mp4: 640x384 4 normals, 9.1ms\n",
      "video 1/1 (frame 40/98) C:\\Users\\admin\\Downloads\\WhatsApp Video 2025-04-17 at 3.34.13 PM.mp4: 640x384 3 normals, 1 suspicious, 9.0ms\n",
      "video 1/1 (frame 41/98) C:\\Users\\admin\\Downloads\\WhatsApp Video 2025-04-17 at 3.34.13 PM.mp4: 640x384 3 normals, 1 suspicious, 9.1ms\n",
      "video 1/1 (frame 42/98) C:\\Users\\admin\\Downloads\\WhatsApp Video 2025-04-17 at 3.34.13 PM.mp4: 640x384 3 normals, 9.3ms\n",
      "video 1/1 (frame 43/98) C:\\Users\\admin\\Downloads\\WhatsApp Video 2025-04-17 at 3.34.13 PM.mp4: 640x384 4 normals, 9.1ms\n",
      "video 1/1 (frame 44/98) C:\\Users\\admin\\Downloads\\WhatsApp Video 2025-04-17 at 3.34.13 PM.mp4: 640x384 6 normals, 2 suspiciouss, 9.2ms\n",
      "video 1/1 (frame 45/98) C:\\Users\\admin\\Downloads\\WhatsApp Video 2025-04-17 at 3.34.13 PM.mp4: 640x384 3 normals, 2 suspiciouss, 8.6ms\n",
      "video 1/1 (frame 46/98) C:\\Users\\admin\\Downloads\\WhatsApp Video 2025-04-17 at 3.34.13 PM.mp4: 640x384 3 normals, 1 suspicious, 9.7ms\n",
      "video 1/1 (frame 47/98) C:\\Users\\admin\\Downloads\\WhatsApp Video 2025-04-17 at 3.34.13 PM.mp4: 640x384 3 normals, 2 suspiciouss, 8.7ms\n",
      "video 1/1 (frame 48/98) C:\\Users\\admin\\Downloads\\WhatsApp Video 2025-04-17 at 3.34.13 PM.mp4: 640x384 3 normals, 9.4ms\n",
      "video 1/1 (frame 49/98) C:\\Users\\admin\\Downloads\\WhatsApp Video 2025-04-17 at 3.34.13 PM.mp4: 640x384 3 normals, 9.2ms\n",
      "video 1/1 (frame 50/98) C:\\Users\\admin\\Downloads\\WhatsApp Video 2025-04-17 at 3.34.13 PM.mp4: 640x384 4 normals, 9.1ms\n",
      "video 1/1 (frame 51/98) C:\\Users\\admin\\Downloads\\WhatsApp Video 2025-04-17 at 3.34.13 PM.mp4: 640x384 6 normals, 9.2ms\n",
      "video 1/1 (frame 52/98) C:\\Users\\admin\\Downloads\\WhatsApp Video 2025-04-17 at 3.34.13 PM.mp4: 640x384 6 normals, 1 suspicious, 8.9ms\n",
      "video 1/1 (frame 53/98) C:\\Users\\admin\\Downloads\\WhatsApp Video 2025-04-17 at 3.34.13 PM.mp4: 640x384 5 normals, 9.0ms\n",
      "video 1/1 (frame 54/98) C:\\Users\\admin\\Downloads\\WhatsApp Video 2025-04-17 at 3.34.13 PM.mp4: 640x384 4 normals, 8.9ms\n",
      "video 1/1 (frame 55/98) C:\\Users\\admin\\Downloads\\WhatsApp Video 2025-04-17 at 3.34.13 PM.mp4: 640x384 3 normals, 2 suspiciouss, 9.0ms\n",
      "video 1/1 (frame 56/98) C:\\Users\\admin\\Downloads\\WhatsApp Video 2025-04-17 at 3.34.13 PM.mp4: 640x384 4 normals, 2 suspiciouss, 8.8ms\n",
      "video 1/1 (frame 57/98) C:\\Users\\admin\\Downloads\\WhatsApp Video 2025-04-17 at 3.34.13 PM.mp4: 640x384 4 normals, 1 suspicious, 9.7ms\n",
      "video 1/1 (frame 58/98) C:\\Users\\admin\\Downloads\\WhatsApp Video 2025-04-17 at 3.34.13 PM.mp4: 640x384 3 normals, 9.2ms\n",
      "video 1/1 (frame 59/98) C:\\Users\\admin\\Downloads\\WhatsApp Video 2025-04-17 at 3.34.13 PM.mp4: 640x384 4 normals, 1 suspicious, 9.4ms\n",
      "video 1/1 (frame 60/98) C:\\Users\\admin\\Downloads\\WhatsApp Video 2025-04-17 at 3.34.13 PM.mp4: 640x384 5 normals, 1 suspicious, 9.6ms\n",
      "video 1/1 (frame 61/98) C:\\Users\\admin\\Downloads\\WhatsApp Video 2025-04-17 at 3.34.13 PM.mp4: 640x384 4 normals, 2 suspiciouss, 8.3ms\n",
      "video 1/1 (frame 62/98) C:\\Users\\admin\\Downloads\\WhatsApp Video 2025-04-17 at 3.34.13 PM.mp4: 640x384 4 normals, 3 suspiciouss, 8.7ms\n",
      "video 1/1 (frame 63/98) C:\\Users\\admin\\Downloads\\WhatsApp Video 2025-04-17 at 3.34.13 PM.mp4: 640x384 6 normals, 4 suspiciouss, 8.8ms\n",
      "video 1/1 (frame 64/98) C:\\Users\\admin\\Downloads\\WhatsApp Video 2025-04-17 at 3.34.13 PM.mp4: 640x384 6 normals, 3 suspiciouss, 8.3ms\n",
      "video 1/1 (frame 65/98) C:\\Users\\admin\\Downloads\\WhatsApp Video 2025-04-17 at 3.34.13 PM.mp4: 640x384 7 normals, 2 suspiciouss, 8.2ms\n",
      "video 1/1 (frame 66/98) C:\\Users\\admin\\Downloads\\WhatsApp Video 2025-04-17 at 3.34.13 PM.mp4: 640x384 3 normals, 5 suspiciouss, 8.3ms\n",
      "video 1/1 (frame 67/98) C:\\Users\\admin\\Downloads\\WhatsApp Video 2025-04-17 at 3.34.13 PM.mp4: 640x384 5 normals, 5 suspiciouss, 9.2ms\n",
      "video 1/1 (frame 68/98) C:\\Users\\admin\\Downloads\\WhatsApp Video 2025-04-17 at 3.34.13 PM.mp4: 640x384 3 normals, 2 suspiciouss, 9.2ms\n",
      "video 1/1 (frame 69/98) C:\\Users\\admin\\Downloads\\WhatsApp Video 2025-04-17 at 3.34.13 PM.mp4: 640x384 4 normals, 1 suspicious, 9.0ms\n",
      "video 1/1 (frame 70/98) C:\\Users\\admin\\Downloads\\WhatsApp Video 2025-04-17 at 3.34.13 PM.mp4: 640x384 4 normals, 1 suspicious, 9.2ms\n",
      "video 1/1 (frame 71/98) C:\\Users\\admin\\Downloads\\WhatsApp Video 2025-04-17 at 3.34.13 PM.mp4: 640x384 5 normals, 1 suspicious, 8.8ms\n",
      "video 1/1 (frame 72/98) C:\\Users\\admin\\Downloads\\WhatsApp Video 2025-04-17 at 3.34.13 PM.mp4: 640x384 4 normals, 2 suspiciouss, 9.1ms\n",
      "video 1/1 (frame 73/98) C:\\Users\\admin\\Downloads\\WhatsApp Video 2025-04-17 at 3.34.13 PM.mp4: 640x384 3 normals, 1 suspicious, 9.0ms\n",
      "video 1/1 (frame 74/98) C:\\Users\\admin\\Downloads\\WhatsApp Video 2025-04-17 at 3.34.13 PM.mp4: 640x384 2 normals, 1 suspicious, 8.3ms\n",
      "video 1/1 (frame 75/98) C:\\Users\\admin\\Downloads\\WhatsApp Video 2025-04-17 at 3.34.13 PM.mp4: 640x384 2 normals, 1 suspicious, 9.8ms\n",
      "video 1/1 (frame 76/98) C:\\Users\\admin\\Downloads\\WhatsApp Video 2025-04-17 at 3.34.13 PM.mp4: 640x384 4 normals, 3 suspiciouss, 9.6ms\n",
      "video 1/1 (frame 77/98) C:\\Users\\admin\\Downloads\\WhatsApp Video 2025-04-17 at 3.34.13 PM.mp4: 640x384 3 normals, 7 suspiciouss, 8.3ms\n",
      "video 1/1 (frame 78/98) C:\\Users\\admin\\Downloads\\WhatsApp Video 2025-04-17 at 3.34.13 PM.mp4: 640x384 7 normals, 5 suspiciouss, 8.4ms\n",
      "video 1/1 (frame 79/98) C:\\Users\\admin\\Downloads\\WhatsApp Video 2025-04-17 at 3.34.13 PM.mp4: 640x384 6 normals, 5 suspiciouss, 8.5ms\n",
      "video 1/1 (frame 80/98) C:\\Users\\admin\\Downloads\\WhatsApp Video 2025-04-17 at 3.34.13 PM.mp4: 640x384 7 normals, 5 suspiciouss, 9.1ms\n",
      "video 1/1 (frame 81/98) C:\\Users\\admin\\Downloads\\WhatsApp Video 2025-04-17 at 3.34.13 PM.mp4: 640x384 8 normals, 3 suspiciouss, 9.0ms\n",
      "video 1/1 (frame 82/98) C:\\Users\\admin\\Downloads\\WhatsApp Video 2025-04-17 at 3.34.13 PM.mp4: 640x384 8 normals, 2 suspiciouss, 9.2ms\n",
      "video 1/1 (frame 83/98) C:\\Users\\admin\\Downloads\\WhatsApp Video 2025-04-17 at 3.34.13 PM.mp4: 640x384 8 normals, 3 suspiciouss, 9.2ms\n",
      "video 1/1 (frame 84/98) C:\\Users\\admin\\Downloads\\WhatsApp Video 2025-04-17 at 3.34.13 PM.mp4: 640x384 6 normals, 4 suspiciouss, 8.9ms\n",
      "video 1/1 (frame 85/98) C:\\Users\\admin\\Downloads\\WhatsApp Video 2025-04-17 at 3.34.13 PM.mp4: 640x384 9 normals, 1 suspicious, 9.2ms\n",
      "video 1/1 (frame 86/98) C:\\Users\\admin\\Downloads\\WhatsApp Video 2025-04-17 at 3.34.13 PM.mp4: 640x384 9 normals, 3 suspiciouss, 8.9ms\n",
      "video 1/1 (frame 87/98) C:\\Users\\admin\\Downloads\\WhatsApp Video 2025-04-17 at 3.34.13 PM.mp4: 640x384 9 normals, 3 suspiciouss, 8.9ms\n",
      "video 1/1 (frame 88/98) C:\\Users\\admin\\Downloads\\WhatsApp Video 2025-04-17 at 3.34.13 PM.mp4: 640x384 9 normals, 3 suspiciouss, 9.3ms\n",
      "video 1/1 (frame 89/98) C:\\Users\\admin\\Downloads\\WhatsApp Video 2025-04-17 at 3.34.13 PM.mp4: 640x384 5 normals, 4 suspiciouss, 9.1ms\n",
      "video 1/1 (frame 90/98) C:\\Users\\admin\\Downloads\\WhatsApp Video 2025-04-17 at 3.34.13 PM.mp4: 640x384 8 normals, 2 suspiciouss, 9.5ms\n",
      "video 1/1 (frame 91/98) C:\\Users\\admin\\Downloads\\WhatsApp Video 2025-04-17 at 3.34.13 PM.mp4: 640x384 6 normals, 1 suspicious, 9.3ms\n",
      "video 1/1 (frame 92/98) C:\\Users\\admin\\Downloads\\WhatsApp Video 2025-04-17 at 3.34.13 PM.mp4: 640x384 6 normals, 2 suspiciouss, 9.4ms\n",
      "video 1/1 (frame 93/98) C:\\Users\\admin\\Downloads\\WhatsApp Video 2025-04-17 at 3.34.13 PM.mp4: 640x384 4 normals, 2 suspiciouss, 9.1ms\n",
      "video 1/1 (frame 94/98) C:\\Users\\admin\\Downloads\\WhatsApp Video 2025-04-17 at 3.34.13 PM.mp4: 640x384 4 normals, 3 suspiciouss, 9.1ms\n",
      "video 1/1 (frame 95/98) C:\\Users\\admin\\Downloads\\WhatsApp Video 2025-04-17 at 3.34.13 PM.mp4: 640x384 4 normals, 2 suspiciouss, 9.1ms\n",
      "video 1/1 (frame 96/98) C:\\Users\\admin\\Downloads\\WhatsApp Video 2025-04-17 at 3.34.13 PM.mp4: 640x384 6 normals, 3 suspiciouss, 8.6ms\n",
      "video 1/1 (frame 97/98) C:\\Users\\admin\\Downloads\\WhatsApp Video 2025-04-17 at 3.34.13 PM.mp4: 640x384 6 normals, 3 suspiciouss, 9.1ms\n",
      "video 1/1 (frame 98/98) C:\\Users\\admin\\Downloads\\WhatsApp Video 2025-04-17 at 3.34.13 PM.mp4: 640x384 6 normals, 2 suspiciouss, 9.5ms\n",
      "Speed: 1.7ms preprocess, 10.2ms inference, 2.5ms postprocess per image at shape (1, 3, 640, 384)\n",
      "Results saved to \u001b[1mruns\\detect\\predict51\u001b[0m\n",
      "98 labels saved to runs\\detect\\predict51\\labels\n",
      "✅ Prediction complete! Check 'runs/detect/predict' for the output video.\n"
     ]
    }
   ],
   "source": [
    "from ultralytics import YOLO\n",
    "\n",
    "# Load your trained model\n",
    "model = YOLO(r\"D:\\major_project_sus\\runs\\detect\\train2\\weights\\best.pt\")\n",
    "\n",
    "# Path to your test video\n",
    "video_path = r\"C:\\Users\\admin\\Downloads\\WhatsApp Video 2025-04-17 at 3.34.13 PM.mp4\" # 🔁 Replace with actual video path\n",
    "# video_path=r\"D:\\major_project_sus\\DCSASS Dataset\\Abuse\\Abuse008_x264.mp4\\Abuse008_x264_18.mp4\"\n",
    "# video_path =r\"D:\\major_project_sus\\DCSASS Dataset\\Arrest\\Arrest003_x264.mp4\\Arrest003_x264_16.mp4\"\n",
    "# video_path = r\"D:\\major_project_sus\\DCSASS Dataset\\Assault\\Assault004_x264.mp4\\Assault004_x264_19.mp4\"\n",
    "# video_path = r\"D:\\major_project_sus\\DCSASS Dataset\\Explosion\\Explosion009_x264.mp4\\Explosion009_x264_8.mp4\"\n",
    "# video_path = r\"C:\\Users\\admin\\Downloads\\WhatsApp Video 2025-04-18 at 11.32.45 PM.mp4\"\n",
    "# video_path = r\"C:\\Users\\admin\\Downloads\\WhatsApp Video 2025-04-19 at 12.47.24 AM.mp4\"\n",
    "# video_path = r\"C:\\Users\\admin\\Downloads\\WhatsApp Video 2025-04-19 at 12.54.02 AM.mp4\"\n",
    "# video_path = r\"C:\\Users\\admin\\Downloads\\WhatsApp Video 2025-04-19 at 1.18.06 AM.mp4\"\n",
    "# video_path = r\"C:\\Users\\admin\\Downloads\\WhatsApp Video 2025-04-19 at 1.18.25 AM.mp4\"\n",
    "# video_path= r\"C:\\Users\\admin\\Downloads\\WhatsApp Video 2025-04-19 at 12.47.24 AM.mp4\"\n",
    "# video_path= r\"C:\\Users\\admin\\Downloads\\WhatsApp Video 2025-04-26 at 3.17.58 PM.mp4\"\n",
    "\n",
    "\n",
    "\n",
    "# Run prediction\n",
    "results = model.predict(\n",
    "    source=video_path,\n",
    "    imgsz=640,\n",
    "    conf=0.001,\n",
    "    data=r\"D:\\major_project_sus\\data.yaml\",\n",
    "    save=True,\n",
    "    save_txt=True\n",
    ")\n",
    "\n",
    "print(\"✅ Prediction complete! Check 'runs/detect/predict' for the output video.\")\n"
   ]
  },
  {
   "cell_type": "code",
   "execution_count": 1,
   "id": "df27447e",
   "metadata": {},
   "outputs": [
    {
     "ename": "KeyboardInterrupt",
     "evalue": "",
     "output_type": "error",
     "traceback": [
      "\u001b[1;31m---------------------------------------------------------------------------\u001b[0m",
      "\u001b[1;31mKeyError\u001b[0m                                  Traceback (most recent call last)",
      "File \u001b[1;32m<frozen importlib._bootstrap_external>:1437\u001b[0m, in \u001b[0;36m_path_importer_cache\u001b[1;34m(cls, path)\u001b[0m\n",
      "\u001b[1;31mKeyError\u001b[0m: 'c:\\\\Users\\\\admin\\\\anaconda3\\\\Lib\\\\site-packages\\\\matplotlib\\\\projections'",
      "\nDuring handling of the above exception, another exception occurred:\n",
      "\u001b[1;31mKeyboardInterrupt\u001b[0m                         Traceback (most recent call last)",
      "Cell \u001b[1;32mIn[1], line 1\u001b[0m\n\u001b[1;32m----> 1\u001b[0m \u001b[38;5;28;01mfrom\u001b[39;00m \u001b[38;5;21;01multralytics\u001b[39;00m \u001b[38;5;28;01mimport\u001b[39;00m YOLO\n\u001b[0;32m      3\u001b[0m \u001b[38;5;66;03m# Load your trained model\u001b[39;00m\n\u001b[0;32m      4\u001b[0m model \u001b[38;5;241m=\u001b[39m YOLO(\u001b[38;5;124mr\u001b[39m\u001b[38;5;124m\"\u001b[39m\u001b[38;5;124mD:\u001b[39m\u001b[38;5;124m\\\u001b[39m\u001b[38;5;124mmajor_project_sus\u001b[39m\u001b[38;5;124m\\\u001b[39m\u001b[38;5;124mruns\u001b[39m\u001b[38;5;124m\\\u001b[39m\u001b[38;5;124mdetect\u001b[39m\u001b[38;5;124m\\\u001b[39m\u001b[38;5;124mtrain2\u001b[39m\u001b[38;5;124m\\\u001b[39m\u001b[38;5;124mweights\u001b[39m\u001b[38;5;124m\\\u001b[39m\u001b[38;5;124mbest.pt\u001b[39m\u001b[38;5;124m\"\u001b[39m)\n",
      "File \u001b[1;32mc:\\Users\\admin\\anaconda3\\Lib\\site-packages\\ultralytics\\__init__.py:11\u001b[0m\n\u001b[0;32m      8\u001b[0m \u001b[38;5;28;01mif\u001b[39;00m \u001b[38;5;129;01mnot\u001b[39;00m os\u001b[38;5;241m.\u001b[39menviron\u001b[38;5;241m.\u001b[39mget(\u001b[38;5;124m\"\u001b[39m\u001b[38;5;124mOMP_NUM_THREADS\u001b[39m\u001b[38;5;124m\"\u001b[39m):\n\u001b[0;32m      9\u001b[0m     os\u001b[38;5;241m.\u001b[39menviron[\u001b[38;5;124m\"\u001b[39m\u001b[38;5;124mOMP_NUM_THREADS\u001b[39m\u001b[38;5;124m\"\u001b[39m] \u001b[38;5;241m=\u001b[39m \u001b[38;5;124m\"\u001b[39m\u001b[38;5;124m1\u001b[39m\u001b[38;5;124m\"\u001b[39m  \u001b[38;5;66;03m# default for reduced CPU utilization during training\u001b[39;00m\n\u001b[1;32m---> 11\u001b[0m \u001b[38;5;28;01mfrom\u001b[39;00m \u001b[38;5;21;01multralytics\u001b[39;00m\u001b[38;5;21;01m.\u001b[39;00m\u001b[38;5;21;01mmodels\u001b[39;00m \u001b[38;5;28;01mimport\u001b[39;00m NAS, RTDETR, SAM, YOLO, YOLOE, FastSAM, YOLOWorld\n\u001b[0;32m     12\u001b[0m \u001b[38;5;28;01mfrom\u001b[39;00m \u001b[38;5;21;01multralytics\u001b[39;00m\u001b[38;5;21;01m.\u001b[39;00m\u001b[38;5;21;01mutils\u001b[39;00m \u001b[38;5;28;01mimport\u001b[39;00m ASSETS, SETTINGS\n\u001b[0;32m     13\u001b[0m \u001b[38;5;28;01mfrom\u001b[39;00m \u001b[38;5;21;01multralytics\u001b[39;00m\u001b[38;5;21;01m.\u001b[39;00m\u001b[38;5;21;01mutils\u001b[39;00m\u001b[38;5;21;01m.\u001b[39;00m\u001b[38;5;21;01mchecks\u001b[39;00m \u001b[38;5;28;01mimport\u001b[39;00m check_yolo \u001b[38;5;28;01mas\u001b[39;00m checks\n",
      "File \u001b[1;32mc:\\Users\\admin\\anaconda3\\Lib\\site-packages\\ultralytics\\models\\__init__.py:3\u001b[0m\n\u001b[0;32m      1\u001b[0m \u001b[38;5;66;03m# Ultralytics 🚀 AGPL-3.0 License - https://ultralytics.com/license\u001b[39;00m\n\u001b[1;32m----> 3\u001b[0m \u001b[38;5;28;01mfrom\u001b[39;00m \u001b[38;5;21;01m.\u001b[39;00m\u001b[38;5;21;01mfastsam\u001b[39;00m \u001b[38;5;28;01mimport\u001b[39;00m FastSAM\n\u001b[0;32m      4\u001b[0m \u001b[38;5;28;01mfrom\u001b[39;00m \u001b[38;5;21;01m.\u001b[39;00m\u001b[38;5;21;01mnas\u001b[39;00m \u001b[38;5;28;01mimport\u001b[39;00m NAS\n\u001b[0;32m      5\u001b[0m \u001b[38;5;28;01mfrom\u001b[39;00m \u001b[38;5;21;01m.\u001b[39;00m\u001b[38;5;21;01mrtdetr\u001b[39;00m \u001b[38;5;28;01mimport\u001b[39;00m RTDETR\n",
      "File \u001b[1;32mc:\\Users\\admin\\anaconda3\\Lib\\site-packages\\ultralytics\\models\\fastsam\\__init__.py:3\u001b[0m\n\u001b[0;32m      1\u001b[0m \u001b[38;5;66;03m# Ultralytics 🚀 AGPL-3.0 License - https://ultralytics.com/license\u001b[39;00m\n\u001b[1;32m----> 3\u001b[0m \u001b[38;5;28;01mfrom\u001b[39;00m \u001b[38;5;21;01m.\u001b[39;00m\u001b[38;5;21;01mmodel\u001b[39;00m \u001b[38;5;28;01mimport\u001b[39;00m FastSAM\n\u001b[0;32m      4\u001b[0m \u001b[38;5;28;01mfrom\u001b[39;00m \u001b[38;5;21;01m.\u001b[39;00m\u001b[38;5;21;01mpredict\u001b[39;00m \u001b[38;5;28;01mimport\u001b[39;00m FastSAMPredictor\n\u001b[0;32m      5\u001b[0m \u001b[38;5;28;01mfrom\u001b[39;00m \u001b[38;5;21;01m.\u001b[39;00m\u001b[38;5;21;01mval\u001b[39;00m \u001b[38;5;28;01mimport\u001b[39;00m FastSAMValidator\n",
      "File \u001b[1;32mc:\\Users\\admin\\anaconda3\\Lib\\site-packages\\ultralytics\\models\\fastsam\\model.py:5\u001b[0m\n\u001b[0;32m      1\u001b[0m \u001b[38;5;66;03m# Ultralytics 🚀 AGPL-3.0 License - https://ultralytics.com/license\u001b[39;00m\n\u001b[0;32m      3\u001b[0m \u001b[38;5;28;01mfrom\u001b[39;00m \u001b[38;5;21;01mpathlib\u001b[39;00m \u001b[38;5;28;01mimport\u001b[39;00m Path\n\u001b[1;32m----> 5\u001b[0m \u001b[38;5;28;01mfrom\u001b[39;00m \u001b[38;5;21;01multralytics\u001b[39;00m\u001b[38;5;21;01m.\u001b[39;00m\u001b[38;5;21;01mengine\u001b[39;00m\u001b[38;5;21;01m.\u001b[39;00m\u001b[38;5;21;01mmodel\u001b[39;00m \u001b[38;5;28;01mimport\u001b[39;00m Model\n\u001b[0;32m      7\u001b[0m \u001b[38;5;28;01mfrom\u001b[39;00m \u001b[38;5;21;01m.\u001b[39;00m\u001b[38;5;21;01mpredict\u001b[39;00m \u001b[38;5;28;01mimport\u001b[39;00m FastSAMPredictor\n\u001b[0;32m      8\u001b[0m \u001b[38;5;28;01mfrom\u001b[39;00m \u001b[38;5;21;01m.\u001b[39;00m\u001b[38;5;21;01mval\u001b[39;00m \u001b[38;5;28;01mimport\u001b[39;00m FastSAMValidator\n",
      "File \u001b[1;32mc:\\Users\\admin\\anaconda3\\Lib\\site-packages\\ultralytics\\engine\\model.py:11\u001b[0m\n\u001b[0;32m      8\u001b[0m \u001b[38;5;28;01mimport\u001b[39;00m \u001b[38;5;21;01mtorch\u001b[39;00m\n\u001b[0;32m      9\u001b[0m \u001b[38;5;28;01mfrom\u001b[39;00m \u001b[38;5;21;01mPIL\u001b[39;00m \u001b[38;5;28;01mimport\u001b[39;00m Image\n\u001b[1;32m---> 11\u001b[0m \u001b[38;5;28;01mfrom\u001b[39;00m \u001b[38;5;21;01multralytics\u001b[39;00m\u001b[38;5;21;01m.\u001b[39;00m\u001b[38;5;21;01mcfg\u001b[39;00m \u001b[38;5;28;01mimport\u001b[39;00m TASK2DATA, get_cfg, get_save_dir\n\u001b[0;32m     12\u001b[0m \u001b[38;5;28;01mfrom\u001b[39;00m \u001b[38;5;21;01multralytics\u001b[39;00m\u001b[38;5;21;01m.\u001b[39;00m\u001b[38;5;21;01mengine\u001b[39;00m\u001b[38;5;21;01m.\u001b[39;00m\u001b[38;5;21;01mresults\u001b[39;00m \u001b[38;5;28;01mimport\u001b[39;00m Results\n\u001b[0;32m     13\u001b[0m \u001b[38;5;28;01mfrom\u001b[39;00m \u001b[38;5;21;01multralytics\u001b[39;00m\u001b[38;5;21;01m.\u001b[39;00m\u001b[38;5;21;01mhub\u001b[39;00m \u001b[38;5;28;01mimport\u001b[39;00m HUB_WEB_ROOT, HUBTrainingSession\n",
      "File \u001b[1;32mc:\\Users\\admin\\anaconda3\\Lib\\site-packages\\ultralytics\\cfg\\__init__.py:12\u001b[0m\n\u001b[0;32m      8\u001b[0m \u001b[38;5;28;01mfrom\u001b[39;00m \u001b[38;5;21;01mtyping\u001b[39;00m \u001b[38;5;28;01mimport\u001b[39;00m Any, Dict, List, Union\n\u001b[0;32m     10\u001b[0m \u001b[38;5;28;01mimport\u001b[39;00m \u001b[38;5;21;01mcv2\u001b[39;00m\n\u001b[1;32m---> 12\u001b[0m \u001b[38;5;28;01mfrom\u001b[39;00m \u001b[38;5;21;01multralytics\u001b[39;00m\u001b[38;5;21;01m.\u001b[39;00m\u001b[38;5;21;01mutils\u001b[39;00m \u001b[38;5;28;01mimport\u001b[39;00m (\n\u001b[0;32m     13\u001b[0m     ASSETS,\n\u001b[0;32m     14\u001b[0m     DEFAULT_CFG,\n\u001b[0;32m     15\u001b[0m     DEFAULT_CFG_DICT,\n\u001b[0;32m     16\u001b[0m     DEFAULT_CFG_PATH,\n\u001b[0;32m     17\u001b[0m     DEFAULT_SOL_DICT,\n\u001b[0;32m     18\u001b[0m     IS_VSCODE,\n\u001b[0;32m     19\u001b[0m     LOGGER,\n\u001b[0;32m     20\u001b[0m     RANK,\n\u001b[0;32m     21\u001b[0m     ROOT,\n\u001b[0;32m     22\u001b[0m     RUNS_DIR,\n\u001b[0;32m     23\u001b[0m     SETTINGS,\n\u001b[0;32m     24\u001b[0m     SETTINGS_FILE,\n\u001b[0;32m     25\u001b[0m     TESTS_RUNNING,\n\u001b[0;32m     26\u001b[0m     IterableSimpleNamespace,\n\u001b[0;32m     27\u001b[0m     __version__,\n\u001b[0;32m     28\u001b[0m     checks,\n\u001b[0;32m     29\u001b[0m     colorstr,\n\u001b[0;32m     30\u001b[0m     deprecation_warn,\n\u001b[0;32m     31\u001b[0m     vscode_msg,\n\u001b[0;32m     32\u001b[0m     yaml_load,\n\u001b[0;32m     33\u001b[0m     yaml_print,\n\u001b[0;32m     34\u001b[0m )\n\u001b[0;32m     36\u001b[0m \u001b[38;5;66;03m# Define valid solutions\u001b[39;00m\n\u001b[0;32m     37\u001b[0m SOLUTION_MAP \u001b[38;5;241m=\u001b[39m {\n\u001b[0;32m     38\u001b[0m     \u001b[38;5;124m\"\u001b[39m\u001b[38;5;124mcount\u001b[39m\u001b[38;5;124m\"\u001b[39m: \u001b[38;5;124m\"\u001b[39m\u001b[38;5;124mObjectCounter\u001b[39m\u001b[38;5;124m\"\u001b[39m,\n\u001b[0;32m     39\u001b[0m     \u001b[38;5;124m\"\u001b[39m\u001b[38;5;124mcrop\u001b[39m\u001b[38;5;124m\"\u001b[39m: \u001b[38;5;124m\"\u001b[39m\u001b[38;5;124mObjectCropper\u001b[39m\u001b[38;5;124m\"\u001b[39m,\n\u001b[1;32m   (...)\u001b[0m\n\u001b[0;32m     50\u001b[0m     \u001b[38;5;124m\"\u001b[39m\u001b[38;5;124mhelp\u001b[39m\u001b[38;5;124m\"\u001b[39m: \u001b[38;5;28;01mNone\u001b[39;00m,\n\u001b[0;32m     51\u001b[0m }\n",
      "File \u001b[1;32mc:\\Users\\admin\\anaconda3\\Lib\\site-packages\\ultralytics\\utils\\__init__.py:24\u001b[0m\n\u001b[0;32m     21\u001b[0m \u001b[38;5;28;01mfrom\u001b[39;00m \u001b[38;5;21;01murllib\u001b[39;00m\u001b[38;5;21;01m.\u001b[39;00m\u001b[38;5;21;01mparse\u001b[39;00m \u001b[38;5;28;01mimport\u001b[39;00m unquote\n\u001b[0;32m     23\u001b[0m \u001b[38;5;28;01mimport\u001b[39;00m \u001b[38;5;21;01mcv2\u001b[39;00m\n\u001b[1;32m---> 24\u001b[0m \u001b[38;5;28;01mimport\u001b[39;00m \u001b[38;5;21;01mmatplotlib\u001b[39;00m\u001b[38;5;21;01m.\u001b[39;00m\u001b[38;5;21;01mpyplot\u001b[39;00m \u001b[38;5;28;01mas\u001b[39;00m \u001b[38;5;21;01mplt\u001b[39;00m\n\u001b[0;32m     25\u001b[0m \u001b[38;5;28;01mimport\u001b[39;00m \u001b[38;5;21;01mnumpy\u001b[39;00m \u001b[38;5;28;01mas\u001b[39;00m \u001b[38;5;21;01mnp\u001b[39;00m\n\u001b[0;32m     26\u001b[0m \u001b[38;5;28;01mimport\u001b[39;00m \u001b[38;5;21;01mtorch\u001b[39;00m\n",
      "File \u001b[1;32mc:\\Users\\admin\\anaconda3\\Lib\\site-packages\\matplotlib\\pyplot.py:61\u001b[0m\n\u001b[0;32m     58\u001b[0m \u001b[38;5;28;01mfrom\u001b[39;00m \u001b[38;5;21;01mmatplotlib\u001b[39;00m \u001b[38;5;28;01mimport\u001b[39;00m _docstring\n\u001b[0;32m     59\u001b[0m \u001b[38;5;28;01mfrom\u001b[39;00m \u001b[38;5;21;01mmatplotlib\u001b[39;00m\u001b[38;5;21;01m.\u001b[39;00m\u001b[38;5;21;01mbackend_bases\u001b[39;00m \u001b[38;5;28;01mimport\u001b[39;00m (\n\u001b[0;32m     60\u001b[0m     FigureCanvasBase, FigureManagerBase, MouseButton)\n\u001b[1;32m---> 61\u001b[0m \u001b[38;5;28;01mfrom\u001b[39;00m \u001b[38;5;21;01mmatplotlib\u001b[39;00m\u001b[38;5;21;01m.\u001b[39;00m\u001b[38;5;21;01mfigure\u001b[39;00m \u001b[38;5;28;01mimport\u001b[39;00m Figure, FigureBase, figaspect\n\u001b[0;32m     62\u001b[0m \u001b[38;5;28;01mfrom\u001b[39;00m \u001b[38;5;21;01mmatplotlib\u001b[39;00m\u001b[38;5;21;01m.\u001b[39;00m\u001b[38;5;21;01mgridspec\u001b[39;00m \u001b[38;5;28;01mimport\u001b[39;00m GridSpec, SubplotSpec\n\u001b[0;32m     63\u001b[0m \u001b[38;5;28;01mfrom\u001b[39;00m \u001b[38;5;21;01mmatplotlib\u001b[39;00m \u001b[38;5;28;01mimport\u001b[39;00m rcParams, rcParamsDefault, get_backend, rcParamsOrig\n",
      "File \u001b[1;32mc:\\Users\\admin\\anaconda3\\Lib\\site-packages\\matplotlib\\figure.py:43\u001b[0m\n\u001b[0;32m     40\u001b[0m \u001b[38;5;28;01mimport\u001b[39;00m \u001b[38;5;21;01mnumpy\u001b[39;00m \u001b[38;5;28;01mas\u001b[39;00m \u001b[38;5;21;01mnp\u001b[39;00m\n\u001b[0;32m     42\u001b[0m \u001b[38;5;28;01mimport\u001b[39;00m \u001b[38;5;21;01mmatplotlib\u001b[39;00m \u001b[38;5;28;01mas\u001b[39;00m \u001b[38;5;21;01mmpl\u001b[39;00m\n\u001b[1;32m---> 43\u001b[0m \u001b[38;5;28;01mfrom\u001b[39;00m \u001b[38;5;21;01mmatplotlib\u001b[39;00m \u001b[38;5;28;01mimport\u001b[39;00m _blocking_input, backend_bases, _docstring, projections\n\u001b[0;32m     44\u001b[0m \u001b[38;5;28;01mfrom\u001b[39;00m \u001b[38;5;21;01mmatplotlib\u001b[39;00m\u001b[38;5;21;01m.\u001b[39;00m\u001b[38;5;21;01martist\u001b[39;00m \u001b[38;5;28;01mimport\u001b[39;00m (\n\u001b[0;32m     45\u001b[0m     Artist, allow_rasterization, _finalize_rasterization)\n\u001b[0;32m     46\u001b[0m \u001b[38;5;28;01mfrom\u001b[39;00m \u001b[38;5;21;01mmatplotlib\u001b[39;00m\u001b[38;5;21;01m.\u001b[39;00m\u001b[38;5;21;01mbackend_bases\u001b[39;00m \u001b[38;5;28;01mimport\u001b[39;00m (\n\u001b[0;32m     47\u001b[0m     DrawEvent, FigureCanvasBase, NonGuiException, MouseButton, _get_renderer)\n",
      "File \u001b[1;32mc:\\Users\\admin\\anaconda3\\Lib\\site-packages\\matplotlib\\projections\\__init__.py:56\u001b[0m\n\u001b[0;32m      1\u001b[0m \u001b[38;5;124;03m\"\"\"\u001b[39;00m\n\u001b[0;32m      2\u001b[0m \u001b[38;5;124;03mNon-separable transforms that map from data space to screen space.\u001b[39;00m\n\u001b[0;32m      3\u001b[0m \n\u001b[1;32m   (...)\u001b[0m\n\u001b[0;32m     52\u001b[0m \u001b[38;5;124;03m`matplotlib.projections.polar` may also be of interest.\u001b[39;00m\n\u001b[0;32m     53\u001b[0m \u001b[38;5;124;03m\"\"\"\u001b[39;00m\n\u001b[0;32m     55\u001b[0m \u001b[38;5;28;01mfrom\u001b[39;00m \u001b[38;5;21;01m.\u001b[39;00m\u001b[38;5;21;01m.\u001b[39;00m \u001b[38;5;28;01mimport\u001b[39;00m axes, _docstring\n\u001b[1;32m---> 56\u001b[0m \u001b[38;5;28;01mfrom\u001b[39;00m \u001b[38;5;21;01m.\u001b[39;00m\u001b[38;5;21;01mgeo\u001b[39;00m \u001b[38;5;28;01mimport\u001b[39;00m AitoffAxes, HammerAxes, LambertAxes, MollweideAxes\n\u001b[0;32m     57\u001b[0m \u001b[38;5;28;01mfrom\u001b[39;00m \u001b[38;5;21;01m.\u001b[39;00m\u001b[38;5;21;01mpolar\u001b[39;00m \u001b[38;5;28;01mimport\u001b[39;00m PolarAxes\n\u001b[0;32m     58\u001b[0m \u001b[38;5;28;01mfrom\u001b[39;00m \u001b[38;5;21;01mmpl_toolkits\u001b[39;00m\u001b[38;5;21;01m.\u001b[39;00m\u001b[38;5;21;01mmplot3d\u001b[39;00m \u001b[38;5;28;01mimport\u001b[39;00m Axes3D\n",
      "File \u001b[1;32m<frozen importlib._bootstrap>:1176\u001b[0m, in \u001b[0;36m_find_and_load\u001b[1;34m(name, import_)\u001b[0m\n",
      "File \u001b[1;32m<frozen importlib._bootstrap>:1138\u001b[0m, in \u001b[0;36m_find_and_load_unlocked\u001b[1;34m(name, import_)\u001b[0m\n",
      "File \u001b[1;32m<frozen importlib._bootstrap>:1078\u001b[0m, in \u001b[0;36m_find_spec\u001b[1;34m(name, path, target)\u001b[0m\n",
      "File \u001b[1;32m<frozen importlib._bootstrap_external>:1504\u001b[0m, in \u001b[0;36mfind_spec\u001b[1;34m(cls, fullname, path, target)\u001b[0m\n",
      "File \u001b[1;32m<frozen importlib._bootstrap_external>:1473\u001b[0m, in \u001b[0;36m_get_spec\u001b[1;34m(cls, fullname, path, target)\u001b[0m\n",
      "File \u001b[1;32m<frozen importlib._bootstrap_external>:1439\u001b[0m, in \u001b[0;36m_path_importer_cache\u001b[1;34m(cls, path)\u001b[0m\n",
      "File \u001b[1;32m<frozen importlib._bootstrap_external>:1415\u001b[0m, in \u001b[0;36m_path_hooks\u001b[1;34m(path)\u001b[0m\n",
      "File \u001b[1;32m<frozen zipimport>:75\u001b[0m, in \u001b[0;36m__init__\u001b[1;34m(self, path)\u001b[0m\n",
      "File \u001b[1;32m<frozen importlib._bootstrap_external>:147\u001b[0m, in \u001b[0;36m_path_stat\u001b[1;34m(path)\u001b[0m\n",
      "\u001b[1;31mKeyboardInterrupt\u001b[0m: "
     ]
    }
   ],
   "source": [
    "from ultralytics import YOLO\n",
    "\n",
    "# Load your trained model\n",
    "model = YOLO(r\"D:\\major_project_sus\\runs\\detect\\train2\\weights\\best.pt\")\n",
    "\n",
    "# Path to test video\n",
    "video_path = r\"C:\\Users\\admin\\Downloads\\WhatsApp Video 2025-04-18 at 11.23.37 PM.mp4\"\n",
    "\n",
    "# Run prediction\n",
    "results = model.predict(\n",
    "    source=video_path,\n",
    "    imgsz=640,\n",
    "    conf=0.6,          # reasonable threshold to reduce false positives\n",
    "    iou=0.4,           # moderate NMS IoU\n",
    "    agnostic_nms=True, # suppress overlapping boxes regardless of class\n",
    "    save=True,\n",
    "    save_txt=True\n",
    ")\n",
    "\n",
    "print(\"✅ Prediction complete! Check 'runs/detect/predict' for the output video.\")\n"
   ]
  },
  {
   "cell_type": "code",
   "execution_count": 27,
   "id": "044146d2",
   "metadata": {},
   "outputs": [
    {
     "name": "stdout",
     "output_type": "stream",
     "text": [
      "\n",
      "0: 640x384 1 normal, 11.3ms\n",
      "Speed: 3.5ms preprocess, 11.3ms inference, 1.6ms postprocess per image at shape (1, 3, 640, 384)\n",
      "\n",
      "0: 640x384 1 normal, 22.0ms\n",
      "Speed: 2.8ms preprocess, 22.0ms inference, 7.1ms postprocess per image at shape (1, 3, 640, 384)\n",
      "\n",
      "0: 640x384 2 normals, 14.7ms\n",
      "Speed: 3.4ms preprocess, 14.7ms inference, 1.7ms postprocess per image at shape (1, 3, 640, 384)\n",
      "\n",
      "0: 640x384 2 normals, 9.4ms\n",
      "Speed: 2.5ms preprocess, 9.4ms inference, 6.3ms postprocess per image at shape (1, 3, 640, 384)\n",
      "\n",
      "0: 640x384 2 normals, 9.2ms\n",
      "Speed: 2.7ms preprocess, 9.2ms inference, 1.5ms postprocess per image at shape (1, 3, 640, 384)\n",
      "\n",
      "0: 640x384 2 normals, 9.0ms\n",
      "Speed: 2.8ms preprocess, 9.0ms inference, 2.6ms postprocess per image at shape (1, 3, 640, 384)\n",
      "\n",
      "0: 640x384 (no detections), 8.5ms\n",
      "Speed: 3.2ms preprocess, 8.5ms inference, 0.6ms postprocess per image at shape (1, 3, 640, 384)\n",
      "\n",
      "0: 640x384 (no detections), 10.2ms\n",
      "Speed: 2.4ms preprocess, 10.2ms inference, 2.2ms postprocess per image at shape (1, 3, 640, 384)\n",
      "\n",
      "0: 640x384 (no detections), 10.5ms\n",
      "Speed: 2.2ms preprocess, 10.5ms inference, 0.6ms postprocess per image at shape (1, 3, 640, 384)\n",
      "\n",
      "0: 640x384 1 normal, 9.6ms\n",
      "Speed: 2.4ms preprocess, 9.6ms inference, 1.5ms postprocess per image at shape (1, 3, 640, 384)\n",
      "\n",
      "0: 640x384 2 normals, 8.8ms\n",
      "Speed: 2.4ms preprocess, 8.8ms inference, 5.5ms postprocess per image at shape (1, 3, 640, 384)\n",
      "\n",
      "0: 640x384 2 normals, 10.8ms\n",
      "Speed: 2.2ms preprocess, 10.8ms inference, 1.7ms postprocess per image at shape (1, 3, 640, 384)\n",
      "\n",
      "0: 640x384 2 normals, 9.8ms\n",
      "Speed: 5.0ms preprocess, 9.8ms inference, 1.6ms postprocess per image at shape (1, 3, 640, 384)\n",
      "\n",
      "0: 640x384 2 normals, 10.4ms\n",
      "Speed: 2.3ms preprocess, 10.4ms inference, 1.6ms postprocess per image at shape (1, 3, 640, 384)\n",
      "\n",
      "0: 640x384 2 normals, 9.3ms\n",
      "Speed: 2.3ms preprocess, 9.3ms inference, 1.7ms postprocess per image at shape (1, 3, 640, 384)\n",
      "\n",
      "0: 640x384 2 normals, 9.9ms\n",
      "Speed: 2.2ms preprocess, 9.9ms inference, 1.6ms postprocess per image at shape (1, 3, 640, 384)\n",
      "\n",
      "0: 640x384 2 normals, 11.0ms\n",
      "Speed: 2.3ms preprocess, 11.0ms inference, 3.3ms postprocess per image at shape (1, 3, 640, 384)\n",
      "\n",
      "0: 640x384 2 normals, 8.9ms\n",
      "Speed: 3.6ms preprocess, 8.9ms inference, 4.0ms postprocess per image at shape (1, 3, 640, 384)\n",
      "\n",
      "0: 640x384 2 normals, 9.8ms\n",
      "Speed: 2.5ms preprocess, 9.8ms inference, 1.5ms postprocess per image at shape (1, 3, 640, 384)\n",
      "\n",
      "0: 640x384 2 normals, 9.0ms\n",
      "Speed: 2.2ms preprocess, 9.0ms inference, 3.1ms postprocess per image at shape (1, 3, 640, 384)\n",
      "\n",
      "0: 640x384 2 normals, 10.4ms\n",
      "Speed: 2.5ms preprocess, 10.4ms inference, 1.7ms postprocess per image at shape (1, 3, 640, 384)\n",
      "\n",
      "0: 640x384 2 normals, 10.8ms\n",
      "Speed: 2.2ms preprocess, 10.8ms inference, 1.5ms postprocess per image at shape (1, 3, 640, 384)\n",
      "\n",
      "0: 640x384 2 normals, 8.3ms\n",
      "Speed: 2.6ms preprocess, 8.3ms inference, 1.5ms postprocess per image at shape (1, 3, 640, 384)\n",
      "\n",
      "0: 640x384 2 normals, 11.9ms\n",
      "Speed: 2.2ms preprocess, 11.9ms inference, 1.9ms postprocess per image at shape (1, 3, 640, 384)\n",
      "\n",
      "0: 640x384 2 normals, 9.5ms\n",
      "Speed: 2.8ms preprocess, 9.5ms inference, 1.7ms postprocess per image at shape (1, 3, 640, 384)\n",
      "\n",
      "0: 640x384 2 normals, 10.9ms\n",
      "Speed: 2.1ms preprocess, 10.9ms inference, 2.4ms postprocess per image at shape (1, 3, 640, 384)\n",
      "\n",
      "0: 640x384 2 normals, 8.9ms\n",
      "Speed: 2.5ms preprocess, 8.9ms inference, 1.6ms postprocess per image at shape (1, 3, 640, 384)\n",
      "\n",
      "0: 640x384 2 normals, 8.4ms\n",
      "Speed: 2.2ms preprocess, 8.4ms inference, 1.5ms postprocess per image at shape (1, 3, 640, 384)\n",
      "\n",
      "0: 640x384 2 normals, 10.6ms\n",
      "Speed: 2.3ms preprocess, 10.6ms inference, 1.9ms postprocess per image at shape (1, 3, 640, 384)\n",
      "\n",
      "0: 640x384 2 normals, 10.2ms\n",
      "Speed: 2.0ms preprocess, 10.2ms inference, 1.6ms postprocess per image at shape (1, 3, 640, 384)\n",
      "\n",
      "0: 640x384 1 normal, 9.1ms\n",
      "Speed: 2.4ms preprocess, 9.1ms inference, 1.5ms postprocess per image at shape (1, 3, 640, 384)\n",
      "\n",
      "0: 640x384 2 normals, 8.4ms\n",
      "Speed: 2.5ms preprocess, 8.4ms inference, 1.5ms postprocess per image at shape (1, 3, 640, 384)\n",
      "\n",
      "0: 640x384 2 normals, 11.0ms\n",
      "Speed: 2.1ms preprocess, 11.0ms inference, 1.8ms postprocess per image at shape (1, 3, 640, 384)\n",
      "\n",
      "0: 640x384 2 normals, 9.0ms\n",
      "Speed: 3.4ms preprocess, 9.0ms inference, 3.5ms postprocess per image at shape (1, 3, 640, 384)\n",
      "\n",
      "0: 640x384 2 normals, 8.8ms\n",
      "Speed: 2.3ms preprocess, 8.8ms inference, 1.7ms postprocess per image at shape (1, 3, 640, 384)\n",
      "\n",
      "0: 640x384 2 normals, 10.4ms\n",
      "Speed: 2.2ms preprocess, 10.4ms inference, 1.6ms postprocess per image at shape (1, 3, 640, 384)\n",
      "\n",
      "0: 640x384 1 normal, 1 suspicious, 9.2ms\n",
      "Speed: 2.4ms preprocess, 9.2ms inference, 3.2ms postprocess per image at shape (1, 3, 640, 384)\n",
      "🚨 ALERT: Suspicious activity detected in this frame!\n",
      "\n",
      "0: 640x384 2 normals, 9.9ms\n",
      "Speed: 2.4ms preprocess, 9.9ms inference, 1.6ms postprocess per image at shape (1, 3, 640, 384)\n",
      "\n",
      "0: 640x384 2 normals, 9.8ms\n",
      "Speed: 2.7ms preprocess, 9.8ms inference, 3.2ms postprocess per image at shape (1, 3, 640, 384)\n",
      "\n",
      "0: 640x384 2 normals, 9.2ms\n",
      "Speed: 2.5ms preprocess, 9.2ms inference, 1.6ms postprocess per image at shape (1, 3, 640, 384)\n",
      "\n",
      "0: 640x384 2 normals, 9.8ms\n",
      "Speed: 2.0ms preprocess, 9.8ms inference, 1.6ms postprocess per image at shape (1, 3, 640, 384)\n",
      "\n",
      "0: 640x384 2 normals, 8.5ms\n",
      "Speed: 2.5ms preprocess, 8.5ms inference, 1.5ms postprocess per image at shape (1, 3, 640, 384)\n",
      "\n",
      "0: 640x384 2 normals, 8.9ms\n",
      "Speed: 2.4ms preprocess, 8.9ms inference, 1.8ms postprocess per image at shape (1, 3, 640, 384)\n",
      "\n",
      "0: 640x384 (no detections), 10.1ms\n",
      "Speed: 2.1ms preprocess, 10.1ms inference, 0.7ms postprocess per image at shape (1, 3, 640, 384)\n",
      "\n",
      "0: 640x384 (no detections), 9.9ms\n",
      "Speed: 2.6ms preprocess, 9.9ms inference, 0.8ms postprocess per image at shape (1, 3, 640, 384)\n",
      "\n",
      "0: 640x384 1 normal, 10.0ms\n",
      "Speed: 2.4ms preprocess, 10.0ms inference, 1.5ms postprocess per image at shape (1, 3, 640, 384)\n",
      "\n",
      "0: 640x384 2 normals, 9.8ms\n",
      "Speed: 2.4ms preprocess, 9.8ms inference, 2.1ms postprocess per image at shape (1, 3, 640, 384)\n",
      "\n",
      "0: 640x384 2 normals, 10.4ms\n",
      "Speed: 2.2ms preprocess, 10.4ms inference, 1.9ms postprocess per image at shape (1, 3, 640, 384)\n",
      "\n",
      "0: 640x384 2 normals, 8.8ms\n",
      "Speed: 2.2ms preprocess, 8.8ms inference, 1.5ms postprocess per image at shape (1, 3, 640, 384)\n",
      "\n",
      "0: 640x384 1 normal, 10.2ms\n",
      "Speed: 2.1ms preprocess, 10.2ms inference, 1.5ms postprocess per image at shape (1, 3, 640, 384)\n",
      "\n",
      "0: 640x384 1 normal, 8.9ms\n",
      "Speed: 2.3ms preprocess, 8.9ms inference, 1.6ms postprocess per image at shape (1, 3, 640, 384)\n",
      "\n",
      "0: 640x384 1 normal, 10.1ms\n",
      "Speed: 2.6ms preprocess, 10.1ms inference, 2.3ms postprocess per image at shape (1, 3, 640, 384)\n",
      "\n",
      "0: 640x384 1 normal, 9.9ms\n",
      "Speed: 2.2ms preprocess, 9.9ms inference, 1.4ms postprocess per image at shape (1, 3, 640, 384)\n",
      "\n",
      "0: 640x384 (no detections), 8.8ms\n",
      "Speed: 2.5ms preprocess, 8.8ms inference, 0.7ms postprocess per image at shape (1, 3, 640, 384)\n",
      "\n",
      "0: 640x384 (no detections), 9.2ms\n",
      "Speed: 2.3ms preprocess, 9.2ms inference, 0.7ms postprocess per image at shape (1, 3, 640, 384)\n",
      "\n",
      "0: 640x384 (no detections), 9.8ms\n",
      "Speed: 2.3ms preprocess, 9.8ms inference, 0.7ms postprocess per image at shape (1, 3, 640, 384)\n",
      "\n",
      "0: 640x384 (no detections), 10.8ms\n",
      "Speed: 2.6ms preprocess, 10.8ms inference, 0.7ms postprocess per image at shape (1, 3, 640, 384)\n",
      "\n",
      "0: 640x384 (no detections), 9.9ms\n",
      "Speed: 2.5ms preprocess, 9.9ms inference, 0.7ms postprocess per image at shape (1, 3, 640, 384)\n",
      "\n",
      "0: 640x384 (no detections), 9.2ms\n",
      "Speed: 4.5ms preprocess, 9.2ms inference, 0.7ms postprocess per image at shape (1, 3, 640, 384)\n",
      "\n",
      "0: 640x384 (no detections), 10.2ms\n",
      "Speed: 2.6ms preprocess, 10.2ms inference, 0.7ms postprocess per image at shape (1, 3, 640, 384)\n",
      "\n",
      "0: 640x384 1 normal, 10.0ms\n",
      "Speed: 2.3ms preprocess, 10.0ms inference, 1.5ms postprocess per image at shape (1, 3, 640, 384)\n",
      "\n",
      "0: 640x384 (no detections), 9.0ms\n",
      "Speed: 2.4ms preprocess, 9.0ms inference, 0.7ms postprocess per image at shape (1, 3, 640, 384)\n",
      "\n",
      "0: 640x384 1 normal, 8.9ms\n",
      "Speed: 2.3ms preprocess, 8.9ms inference, 3.3ms postprocess per image at shape (1, 3, 640, 384)\n",
      "\n",
      "0: 640x384 1 normal, 8.7ms\n",
      "Speed: 2.4ms preprocess, 8.7ms inference, 1.6ms postprocess per image at shape (1, 3, 640, 384)\n",
      "\n",
      "0: 640x384 1 normal, 10.5ms\n",
      "Speed: 2.4ms preprocess, 10.5ms inference, 1.8ms postprocess per image at shape (1, 3, 640, 384)\n",
      "\n",
      "0: 640x384 1 normal, 8.7ms\n",
      "Speed: 2.5ms preprocess, 8.7ms inference, 1.5ms postprocess per image at shape (1, 3, 640, 384)\n",
      "\n",
      "0: 640x384 1 normal, 10.3ms\n",
      "Speed: 2.4ms preprocess, 10.3ms inference, 1.6ms postprocess per image at shape (1, 3, 640, 384)\n",
      "\n",
      "0: 640x384 1 normal, 8.7ms\n",
      "Speed: 2.4ms preprocess, 8.7ms inference, 1.7ms postprocess per image at shape (1, 3, 640, 384)\n",
      "\n",
      "0: 640x384 1 normal, 9.8ms\n",
      "Speed: 2.1ms preprocess, 9.8ms inference, 2.4ms postprocess per image at shape (1, 3, 640, 384)\n",
      "\n",
      "0: 640x384 1 normal, 8.7ms\n",
      "Speed: 2.4ms preprocess, 8.7ms inference, 1.6ms postprocess per image at shape (1, 3, 640, 384)\n",
      "\n",
      "0: 640x384 1 normal, 8.8ms\n",
      "Speed: 2.4ms preprocess, 8.8ms inference, 1.7ms postprocess per image at shape (1, 3, 640, 384)\n",
      "\n",
      "0: 640x384 1 normal, 8.8ms\n",
      "Speed: 4.3ms preprocess, 8.8ms inference, 1.5ms postprocess per image at shape (1, 3, 640, 384)\n",
      "\n",
      "0: 640x384 1 normal, 8.8ms\n",
      "Speed: 2.5ms preprocess, 8.8ms inference, 1.6ms postprocess per image at shape (1, 3, 640, 384)\n",
      "\n",
      "0: 640x384 2 normals, 8.8ms\n",
      "Speed: 2.9ms preprocess, 8.8ms inference, 1.6ms postprocess per image at shape (1, 3, 640, 384)\n",
      "\n",
      "0: 640x384 1 normal, 9.1ms\n",
      "Speed: 2.3ms preprocess, 9.1ms inference, 3.4ms postprocess per image at shape (1, 3, 640, 384)\n",
      "\n",
      "0: 640x384 1 normal, 8.8ms\n",
      "Speed: 2.5ms preprocess, 8.8ms inference, 1.6ms postprocess per image at shape (1, 3, 640, 384)\n",
      "\n",
      "0: 640x384 2 normals, 10.2ms\n",
      "Speed: 2.1ms preprocess, 10.2ms inference, 1.8ms postprocess per image at shape (1, 3, 640, 384)\n",
      "\n",
      "0: 640x384 2 normals, 8.8ms\n",
      "Speed: 2.4ms preprocess, 8.8ms inference, 1.6ms postprocess per image at shape (1, 3, 640, 384)\n",
      "\n",
      "0: 640x384 2 normals, 10.3ms\n",
      "Speed: 2.4ms preprocess, 10.3ms inference, 1.7ms postprocess per image at shape (1, 3, 640, 384)\n",
      "\n",
      "0: 640x384 2 normals, 8.5ms\n",
      "Speed: 2.5ms preprocess, 8.5ms inference, 1.5ms postprocess per image at shape (1, 3, 640, 384)\n",
      "\n",
      "0: 640x384 2 normals, 8.9ms\n",
      "Speed: 2.5ms preprocess, 8.9ms inference, 2.1ms postprocess per image at shape (1, 3, 640, 384)\n",
      "\n",
      "0: 640x384 1 normal, 9.1ms\n",
      "Speed: 2.4ms preprocess, 9.1ms inference, 2.3ms postprocess per image at shape (1, 3, 640, 384)\n",
      "\n",
      "0: 640x384 2 normals, 9.5ms\n",
      "Speed: 2.5ms preprocess, 9.5ms inference, 2.3ms postprocess per image at shape (1, 3, 640, 384)\n",
      "\n",
      "0: 640x384 2 normals, 10.6ms\n",
      "Speed: 2.3ms preprocess, 10.6ms inference, 1.9ms postprocess per image at shape (1, 3, 640, 384)\n",
      "\n",
      "0: 640x384 1 normal, 8.7ms\n",
      "Speed: 3.5ms preprocess, 8.7ms inference, 1.5ms postprocess per image at shape (1, 3, 640, 384)\n",
      "\n",
      "0: 640x384 1 normal, 10.1ms\n",
      "Speed: 2.3ms preprocess, 10.1ms inference, 2.5ms postprocess per image at shape (1, 3, 640, 384)\n",
      "\n",
      "0: 640x384 1 normal, 9.2ms\n",
      "Speed: 2.4ms preprocess, 9.2ms inference, 1.6ms postprocess per image at shape (1, 3, 640, 384)\n",
      "\n",
      "0: 640x384 1 normal, 9.0ms\n",
      "Speed: 2.5ms preprocess, 9.0ms inference, 1.6ms postprocess per image at shape (1, 3, 640, 384)\n",
      "\n",
      "0: 640x384 1 normal, 10.2ms\n",
      "Speed: 2.5ms preprocess, 10.2ms inference, 2.4ms postprocess per image at shape (1, 3, 640, 384)\n",
      "\n",
      "0: 640x384 1 normal, 9.7ms\n",
      "Speed: 2.2ms preprocess, 9.7ms inference, 1.5ms postprocess per image at shape (1, 3, 640, 384)\n",
      "\n",
      "0: 640x384 1 normal, 8.8ms\n",
      "Speed: 2.3ms preprocess, 8.8ms inference, 1.6ms postprocess per image at shape (1, 3, 640, 384)\n",
      "\n",
      "0: 640x384 1 normal, 10.4ms\n",
      "Speed: 2.6ms preprocess, 10.4ms inference, 1.7ms postprocess per image at shape (1, 3, 640, 384)\n",
      "\n",
      "0: 640x384 1 normal, 10.6ms\n",
      "Speed: 2.3ms preprocess, 10.6ms inference, 1.6ms postprocess per image at shape (1, 3, 640, 384)\n",
      "\n",
      "0: 640x384 1 normal, 1 suspicious, 10.0ms\n",
      "Speed: 3.3ms preprocess, 10.0ms inference, 2.3ms postprocess per image at shape (1, 3, 640, 384)\n",
      "🚨 ALERT: Suspicious activity detected in this frame!\n",
      "\n",
      "0: 640x384 1 normal, 8.4ms\n",
      "Speed: 2.3ms preprocess, 8.4ms inference, 1.5ms postprocess per image at shape (1, 3, 640, 384)\n",
      "\n",
      "0: 640x384 1 normal, 9.9ms\n",
      "Speed: 2.1ms preprocess, 9.9ms inference, 1.6ms postprocess per image at shape (1, 3, 640, 384)\n",
      "\n",
      "0: 640x384 1 normal, 9.1ms\n",
      "Speed: 2.2ms preprocess, 9.1ms inference, 1.6ms postprocess per image at shape (1, 3, 640, 384)\n",
      "\n",
      "0: 640x384 1 normal, 10.6ms\n",
      "Speed: 2.5ms preprocess, 10.6ms inference, 1.9ms postprocess per image at shape (1, 3, 640, 384)\n"
     ]
    }
   ],
   "source": [
    "from ultralytics import YOLO\n",
    "import cv2\n",
    "import os\n",
    "\n",
    "# Load the trained YOLOv8 model\n",
    "model = YOLO(\"runs/detect/train2/weights/best.pt\")\n",
    "\n",
    "# Video path (change \\ to / for OpenCV)\n",
    "# video_path = r\"D:\\major_project_sus\\DCSASS Dataset\\Explosion\\Explosion024_x264.mp4\\Explosion024_x264_28.mp4\"\n",
    "video_path=r\"C:\\Users\\admin\\Downloads\\WhatsApp Video 2025-04-17 at 3.34.13 PM.mp4\"\n",
    "\n",
    "# Open the video\n",
    "cap = cv2.VideoCapture(video_path)\n",
    "\n",
    "# Define class names (based on your training data)\n",
    "class_names = ['normal', 'suspicious']\n",
    "\n",
    "while cap.isOpened():\n",
    "    ret, frame = cap.read()\n",
    "    if not ret:\n",
    "        break\n",
    "\n",
    "    # Inference on current frame\n",
    "    results = model(frame, imgsz=640, conf=0.5)\n",
    "\n",
    "    for r in results:\n",
    "        boxes = r.boxes\n",
    "        for box in boxes:\n",
    "            cls_id = int(box.cls[0])\n",
    "            cls_name = class_names[cls_id]\n",
    "\n",
    "            # Coordinates for bounding box\n",
    "            x1, y1, x2, y2 = map(int, box.xyxy[0])\n",
    "            color = (0, 255, 0) if cls_name == 'normal' else (0, 0, 255)\n",
    "\n",
    "            # Draw the box and label\n",
    "            cv2.rectangle(frame, (x1, y1), (x2, y2), color, 2)\n",
    "            cv2.putText(frame, cls_name, (x1, y1 - 10),\n",
    "                        cv2.FONT_HERSHEY_SIMPLEX, 0.6, color, 2)\n",
    "\n",
    "            # 🚨 Print alert if 'suspicious' detected\n",
    "            if cls_name == 'suspicious':\n",
    "                print(\"🚨 ALERT: Suspicious activity detected in this frame!\")\n",
    "\n",
    "    # Display the frame\n",
    "    cv2.imshow(\"Suspicious Activity Detection\", frame)\n",
    "    if cv2.waitKey(1) & 0xFF == ord('q'):\n",
    "        break\n",
    "\n",
    "cap.release()\n",
    "cv2.destroyAllWindows()\n"
   ]
  },
  {
   "cell_type": "code",
   "execution_count": 26,
   "id": "53488440",
   "metadata": {},
   "outputs": [
    {
     "name": "stdout",
     "output_type": "stream",
     "text": [
      "\n",
      "\n",
      "WARNING  inference results will accumulate in RAM unless `stream=True` is passed, causing potential out-of-memory\n",
      "errors for large sources or long-running streams and videos. See https://docs.ultralytics.com/modes/predict/ for help.\n",
      "\n",
      "Example:\n",
      "    results = model(source=..., stream=True)  # generator of Results objects\n",
      "    for r in results:\n",
      "        boxes = r.boxes  # Boxes object for bbox outputs\n",
      "        masks = r.masks  # Masks object for segment masks outputs\n",
      "        probs = r.probs  # Class probabilities for classification outputs\n",
      "\n",
      "video 1/1 (frame 1/98) C:\\Users\\admin\\Downloads\\WhatsApp Video 2025-04-17 at 3.34.13 PM.mp4: 640x384 2 normals, 126.0ms\n",
      "video 1/1 (frame 2/98) C:\\Users\\admin\\Downloads\\WhatsApp Video 2025-04-17 at 3.34.13 PM.mp4: 640x384 2 normals, 9.1ms\n",
      "video 1/1 (frame 3/98) C:\\Users\\admin\\Downloads\\WhatsApp Video 2025-04-17 at 3.34.13 PM.mp4: 640x384 2 normals, 16.5ms\n",
      "video 1/1 (frame 4/98) C:\\Users\\admin\\Downloads\\WhatsApp Video 2025-04-17 at 3.34.13 PM.mp4: 640x384 2 normals, 12.3ms\n",
      "video 1/1 (frame 5/98) C:\\Users\\admin\\Downloads\\WhatsApp Video 2025-04-17 at 3.34.13 PM.mp4: 640x384 2 normals, 14.0ms\n",
      "video 1/1 (frame 6/98) C:\\Users\\admin\\Downloads\\WhatsApp Video 2025-04-17 at 3.34.13 PM.mp4: 640x384 2 normals, 25.1ms\n",
      "video 1/1 (frame 7/98) C:\\Users\\admin\\Downloads\\WhatsApp Video 2025-04-17 at 3.34.13 PM.mp4: 640x384 2 normals, 9.0ms\n",
      "video 1/1 (frame 8/98) C:\\Users\\admin\\Downloads\\WhatsApp Video 2025-04-17 at 3.34.13 PM.mp4: 640x384 1 normal, 1 suspicious, 9.0ms\n",
      "video 1/1 (frame 9/98) C:\\Users\\admin\\Downloads\\WhatsApp Video 2025-04-17 at 3.34.13 PM.mp4: 640x384 2 normals, 1 suspicious, 12.7ms\n",
      "video 1/1 (frame 10/98) C:\\Users\\admin\\Downloads\\WhatsApp Video 2025-04-17 at 3.34.13 PM.mp4: 640x384 2 normals, 1 suspicious, 13.1ms\n",
      "video 1/1 (frame 11/98) C:\\Users\\admin\\Downloads\\WhatsApp Video 2025-04-17 at 3.34.13 PM.mp4: 640x384 2 normals, 11.3ms\n",
      "video 1/1 (frame 12/98) C:\\Users\\admin\\Downloads\\WhatsApp Video 2025-04-17 at 3.34.13 PM.mp4: 640x384 2 normals, 8.8ms\n",
      "video 1/1 (frame 13/98) C:\\Users\\admin\\Downloads\\WhatsApp Video 2025-04-17 at 3.34.13 PM.mp4: 640x384 2 normals, 9.3ms\n",
      "video 1/1 (frame 14/98) C:\\Users\\admin\\Downloads\\WhatsApp Video 2025-04-17 at 3.34.13 PM.mp4: 640x384 2 normals, 9.4ms\n",
      "video 1/1 (frame 15/98) C:\\Users\\admin\\Downloads\\WhatsApp Video 2025-04-17 at 3.34.13 PM.mp4: 640x384 2 normals, 9.1ms\n",
      "video 1/1 (frame 16/98) C:\\Users\\admin\\Downloads\\WhatsApp Video 2025-04-17 at 3.34.13 PM.mp4: 640x384 2 normals, 9.7ms\n",
      "video 1/1 (frame 17/98) C:\\Users\\admin\\Downloads\\WhatsApp Video 2025-04-17 at 3.34.13 PM.mp4: 640x384 2 normals, 9.7ms\n",
      "video 1/1 (frame 18/98) C:\\Users\\admin\\Downloads\\WhatsApp Video 2025-04-17 at 3.34.13 PM.mp4: 640x384 2 normals, 8.5ms\n",
      "video 1/1 (frame 19/98) C:\\Users\\admin\\Downloads\\WhatsApp Video 2025-04-17 at 3.34.13 PM.mp4: 640x384 2 normals, 9.6ms\n",
      "video 1/1 (frame 20/98) C:\\Users\\admin\\Downloads\\WhatsApp Video 2025-04-17 at 3.34.13 PM.mp4: 640x384 2 normals, 10.1ms\n",
      "video 1/1 (frame 21/98) C:\\Users\\admin\\Downloads\\WhatsApp Video 2025-04-17 at 3.34.13 PM.mp4: 640x384 2 normals, 8.8ms\n",
      "video 1/1 (frame 22/98) C:\\Users\\admin\\Downloads\\WhatsApp Video 2025-04-17 at 3.34.13 PM.mp4: 640x384 2 normals, 9.3ms\n",
      "video 1/1 (frame 23/98) C:\\Users\\admin\\Downloads\\WhatsApp Video 2025-04-17 at 3.34.13 PM.mp4: 640x384 2 normals, 9.8ms\n",
      "video 1/1 (frame 24/98) C:\\Users\\admin\\Downloads\\WhatsApp Video 2025-04-17 at 3.34.13 PM.mp4: 640x384 2 normals, 9.2ms\n",
      "video 1/1 (frame 25/98) C:\\Users\\admin\\Downloads\\WhatsApp Video 2025-04-17 at 3.34.13 PM.mp4: 640x384 2 normals, 9.3ms\n",
      "video 1/1 (frame 26/98) C:\\Users\\admin\\Downloads\\WhatsApp Video 2025-04-17 at 3.34.13 PM.mp4: 640x384 2 normals, 9.5ms\n",
      "video 1/1 (frame 27/98) C:\\Users\\admin\\Downloads\\WhatsApp Video 2025-04-17 at 3.34.13 PM.mp4: 640x384 2 normals, 8.7ms\n",
      "video 1/1 (frame 28/98) C:\\Users\\admin\\Downloads\\WhatsApp Video 2025-04-17 at 3.34.13 PM.mp4: 640x384 2 normals, 9.2ms\n",
      "video 1/1 (frame 29/98) C:\\Users\\admin\\Downloads\\WhatsApp Video 2025-04-17 at 3.34.13 PM.mp4: 640x384 2 normals, 8.9ms\n",
      "video 1/1 (frame 30/98) C:\\Users\\admin\\Downloads\\WhatsApp Video 2025-04-17 at 3.34.13 PM.mp4: 640x384 2 normals, 10.1ms\n",
      "video 1/1 (frame 31/98) C:\\Users\\admin\\Downloads\\WhatsApp Video 2025-04-17 at 3.34.13 PM.mp4: 640x384 2 normals, 9.7ms\n",
      "video 1/1 (frame 32/98) C:\\Users\\admin\\Downloads\\WhatsApp Video 2025-04-17 at 3.34.13 PM.mp4: 640x384 2 normals, 9.2ms\n",
      "video 1/1 (frame 33/98) C:\\Users\\admin\\Downloads\\WhatsApp Video 2025-04-17 at 3.34.13 PM.mp4: 640x384 2 normals, 9.0ms\n",
      "video 1/1 (frame 34/98) C:\\Users\\admin\\Downloads\\WhatsApp Video 2025-04-17 at 3.34.13 PM.mp4: 640x384 2 normals, 8.5ms\n",
      "video 1/1 (frame 35/98) C:\\Users\\admin\\Downloads\\WhatsApp Video 2025-04-17 at 3.34.13 PM.mp4: 640x384 2 normals, 9.8ms\n",
      "video 1/1 (frame 36/98) C:\\Users\\admin\\Downloads\\WhatsApp Video 2025-04-17 at 3.34.13 PM.mp4: 640x384 2 normals, 1 suspicious, 9.4ms\n",
      "video 1/1 (frame 37/98) C:\\Users\\admin\\Downloads\\WhatsApp Video 2025-04-17 at 3.34.13 PM.mp4: 640x384 1 normal, 1 suspicious, 9.2ms\n",
      "video 1/1 (frame 38/98) C:\\Users\\admin\\Downloads\\WhatsApp Video 2025-04-17 at 3.34.13 PM.mp4: 640x384 2 normals, 9.3ms\n",
      "video 1/1 (frame 39/98) C:\\Users\\admin\\Downloads\\WhatsApp Video 2025-04-17 at 3.34.13 PM.mp4: 640x384 2 normals, 8.8ms\n",
      "video 1/1 (frame 40/98) C:\\Users\\admin\\Downloads\\WhatsApp Video 2025-04-17 at 3.34.13 PM.mp4: 640x384 2 normals, 9.2ms\n",
      "video 1/1 (frame 41/98) C:\\Users\\admin\\Downloads\\WhatsApp Video 2025-04-17 at 3.34.13 PM.mp4: 640x384 2 normals, 9.1ms\n",
      "video 1/1 (frame 42/98) C:\\Users\\admin\\Downloads\\WhatsApp Video 2025-04-17 at 3.34.13 PM.mp4: 640x384 2 normals, 8.9ms\n",
      "video 1/1 (frame 43/98) C:\\Users\\admin\\Downloads\\WhatsApp Video 2025-04-17 at 3.34.13 PM.mp4: 640x384 2 normals, 8.8ms\n",
      "video 1/1 (frame 44/98) C:\\Users\\admin\\Downloads\\WhatsApp Video 2025-04-17 at 3.34.13 PM.mp4: 640x384 3 normals, 1 suspicious, 8.8ms\n",
      "video 1/1 (frame 45/98) C:\\Users\\admin\\Downloads\\WhatsApp Video 2025-04-17 at 3.34.13 PM.mp4: 640x384 2 normals, 8.7ms\n",
      "video 1/1 (frame 46/98) C:\\Users\\admin\\Downloads\\WhatsApp Video 2025-04-17 at 3.34.13 PM.mp4: 640x384 2 normals, 8.8ms\n",
      "video 1/1 (frame 47/98) C:\\Users\\admin\\Downloads\\WhatsApp Video 2025-04-17 at 3.34.13 PM.mp4: 640x384 2 normals, 9.6ms\n",
      "video 1/1 (frame 48/98) C:\\Users\\admin\\Downloads\\WhatsApp Video 2025-04-17 at 3.34.13 PM.mp4: 640x384 2 normals, 9.7ms\n",
      "video 1/1 (frame 49/98) C:\\Users\\admin\\Downloads\\WhatsApp Video 2025-04-17 at 3.34.13 PM.mp4: 640x384 2 normals, 8.9ms\n",
      "video 1/1 (frame 50/98) C:\\Users\\admin\\Downloads\\WhatsApp Video 2025-04-17 at 3.34.13 PM.mp4: 640x384 3 normals, 9.6ms\n",
      "video 1/1 (frame 51/98) C:\\Users\\admin\\Downloads\\WhatsApp Video 2025-04-17 at 3.34.13 PM.mp4: 640x384 4 normals, 9.4ms\n",
      "video 1/1 (frame 52/98) C:\\Users\\admin\\Downloads\\WhatsApp Video 2025-04-17 at 3.34.13 PM.mp4: 640x384 3 normals, 9.4ms\n",
      "video 1/1 (frame 53/98) C:\\Users\\admin\\Downloads\\WhatsApp Video 2025-04-17 at 3.34.13 PM.mp4: 640x384 2 normals, 8.8ms\n",
      "video 1/1 (frame 54/98) C:\\Users\\admin\\Downloads\\WhatsApp Video 2025-04-17 at 3.34.13 PM.mp4: 640x384 2 normals, 9.4ms\n",
      "video 1/1 (frame 55/98) C:\\Users\\admin\\Downloads\\WhatsApp Video 2025-04-17 at 3.34.13 PM.mp4: 640x384 2 normals, 8.9ms\n",
      "video 1/1 (frame 56/98) C:\\Users\\admin\\Downloads\\WhatsApp Video 2025-04-17 at 3.34.13 PM.mp4: 640x384 2 normals, 8.5ms\n",
      "video 1/1 (frame 57/98) C:\\Users\\admin\\Downloads\\WhatsApp Video 2025-04-17 at 3.34.13 PM.mp4: 640x384 2 normals, 9.0ms\n",
      "video 1/1 (frame 58/98) C:\\Users\\admin\\Downloads\\WhatsApp Video 2025-04-17 at 3.34.13 PM.mp4: 640x384 1 normal, 9.0ms\n",
      "video 1/1 (frame 59/98) C:\\Users\\admin\\Downloads\\WhatsApp Video 2025-04-17 at 3.34.13 PM.mp4: 640x384 2 normals, 9.5ms\n",
      "video 1/1 (frame 60/98) C:\\Users\\admin\\Downloads\\WhatsApp Video 2025-04-17 at 3.34.13 PM.mp4: 640x384 2 normals, 8.7ms\n",
      "video 1/1 (frame 61/98) C:\\Users\\admin\\Downloads\\WhatsApp Video 2025-04-17 at 3.34.13 PM.mp4: 640x384 1 normal, 9.0ms\n",
      "video 1/1 (frame 62/98) C:\\Users\\admin\\Downloads\\WhatsApp Video 2025-04-17 at 3.34.13 PM.mp4: 640x384 1 normal, 9.1ms\n",
      "video 1/1 (frame 63/98) C:\\Users\\admin\\Downloads\\WhatsApp Video 2025-04-17 at 3.34.13 PM.mp4: 640x384 1 normal, 8.8ms\n",
      "video 1/1 (frame 64/98) C:\\Users\\admin\\Downloads\\WhatsApp Video 2025-04-17 at 3.34.13 PM.mp4: 640x384 1 normal, 9.8ms\n",
      "video 1/1 (frame 65/98) C:\\Users\\admin\\Downloads\\WhatsApp Video 2025-04-17 at 3.34.13 PM.mp4: 640x384 1 normal, 8.7ms\n",
      "video 1/1 (frame 66/98) C:\\Users\\admin\\Downloads\\WhatsApp Video 2025-04-17 at 3.34.13 PM.mp4: 640x384 1 normal, 9.7ms\n",
      "video 1/1 (frame 67/98) C:\\Users\\admin\\Downloads\\WhatsApp Video 2025-04-17 at 3.34.13 PM.mp4: 640x384 2 normals, 8.7ms\n",
      "video 1/1 (frame 68/98) C:\\Users\\admin\\Downloads\\WhatsApp Video 2025-04-17 at 3.34.13 PM.mp4: 640x384 2 normals, 9.0ms\n",
      "video 1/1 (frame 69/98) C:\\Users\\admin\\Downloads\\WhatsApp Video 2025-04-17 at 3.34.13 PM.mp4: 640x384 2 normals, 9.1ms\n",
      "video 1/1 (frame 70/98) C:\\Users\\admin\\Downloads\\WhatsApp Video 2025-04-17 at 3.34.13 PM.mp4: 640x384 2 normals, 8.9ms\n",
      "video 1/1 (frame 71/98) C:\\Users\\admin\\Downloads\\WhatsApp Video 2025-04-17 at 3.34.13 PM.mp4: 640x384 1 normal, 9.7ms\n",
      "video 1/1 (frame 72/98) C:\\Users\\admin\\Downloads\\WhatsApp Video 2025-04-17 at 3.34.13 PM.mp4: 640x384 1 normal, 8.7ms\n",
      "video 1/1 (frame 73/98) C:\\Users\\admin\\Downloads\\WhatsApp Video 2025-04-17 at 3.34.13 PM.mp4: 640x384 2 normals, 1 suspicious, 9.2ms\n",
      "video 1/1 (frame 74/98) C:\\Users\\admin\\Downloads\\WhatsApp Video 2025-04-17 at 3.34.13 PM.mp4: 640x384 2 normals, 9.7ms\n",
      "video 1/1 (frame 75/98) C:\\Users\\admin\\Downloads\\WhatsApp Video 2025-04-17 at 3.34.13 PM.mp4: 640x384 2 normals, 1 suspicious, 8.9ms\n",
      "video 1/1 (frame 76/98) C:\\Users\\admin\\Downloads\\WhatsApp Video 2025-04-17 at 3.34.13 PM.mp4: 640x384 1 normal, 1 suspicious, 9.1ms\n",
      "video 1/1 (frame 77/98) C:\\Users\\admin\\Downloads\\WhatsApp Video 2025-04-17 at 3.34.13 PM.mp4: 640x384 2 normals, 1 suspicious, 8.8ms\n",
      "video 1/1 (frame 78/98) C:\\Users\\admin\\Downloads\\WhatsApp Video 2025-04-17 at 3.34.13 PM.mp4: 640x384 2 normals, 1 suspicious, 8.5ms\n",
      "video 1/1 (frame 79/98) C:\\Users\\admin\\Downloads\\WhatsApp Video 2025-04-17 at 3.34.13 PM.mp4: 640x384 2 normals, 1 suspicious, 9.2ms\n",
      "video 1/1 (frame 80/98) C:\\Users\\admin\\Downloads\\WhatsApp Video 2025-04-17 at 3.34.13 PM.mp4: 640x384 3 normals, 8.9ms\n",
      "video 1/1 (frame 81/98) C:\\Users\\admin\\Downloads\\WhatsApp Video 2025-04-17 at 3.34.13 PM.mp4: 640x384 3 normals, 9.2ms\n",
      "video 1/1 (frame 82/98) C:\\Users\\admin\\Downloads\\WhatsApp Video 2025-04-17 at 3.34.13 PM.mp4: 640x384 4 normals, 10.2ms\n",
      "video 1/1 (frame 83/98) C:\\Users\\admin\\Downloads\\WhatsApp Video 2025-04-17 at 3.34.13 PM.mp4: 640x384 4 normals, 8.8ms\n",
      "video 1/1 (frame 84/98) C:\\Users\\admin\\Downloads\\WhatsApp Video 2025-04-17 at 3.34.13 PM.mp4: 640x384 3 normals, 1 suspicious, 8.8ms\n",
      "video 1/1 (frame 85/98) C:\\Users\\admin\\Downloads\\WhatsApp Video 2025-04-17 at 3.34.13 PM.mp4: 640x384 3 normals, 10.0ms\n",
      "video 1/1 (frame 86/98) C:\\Users\\admin\\Downloads\\WhatsApp Video 2025-04-17 at 3.34.13 PM.mp4: 640x384 5 normals, 10.1ms\n",
      "video 1/1 (frame 87/98) C:\\Users\\admin\\Downloads\\WhatsApp Video 2025-04-17 at 3.34.13 PM.mp4: 640x384 4 normals, 9.1ms\n",
      "video 1/1 (frame 88/98) C:\\Users\\admin\\Downloads\\WhatsApp Video 2025-04-17 at 3.34.13 PM.mp4: 640x384 2 normals, 8.6ms\n",
      "video 1/1 (frame 89/98) C:\\Users\\admin\\Downloads\\WhatsApp Video 2025-04-17 at 3.34.13 PM.mp4: 640x384 2 normals, 1 suspicious, 9.3ms\n",
      "video 1/1 (frame 90/98) C:\\Users\\admin\\Downloads\\WhatsApp Video 2025-04-17 at 3.34.13 PM.mp4: 640x384 2 normals, 9.4ms\n",
      "video 1/1 (frame 91/98) C:\\Users\\admin\\Downloads\\WhatsApp Video 2025-04-17 at 3.34.13 PM.mp4: 640x384 3 normals, 10.1ms\n",
      "video 1/1 (frame 92/98) C:\\Users\\admin\\Downloads\\WhatsApp Video 2025-04-17 at 3.34.13 PM.mp4: 640x384 3 normals, 8.8ms\n",
      "video 1/1 (frame 93/98) C:\\Users\\admin\\Downloads\\WhatsApp Video 2025-04-17 at 3.34.13 PM.mp4: 640x384 3 normals, 2 suspiciouss, 9.8ms\n",
      "video 1/1 (frame 94/98) C:\\Users\\admin\\Downloads\\WhatsApp Video 2025-04-17 at 3.34.13 PM.mp4: 640x384 1 normal, 2 suspiciouss, 9.5ms\n",
      "video 1/1 (frame 95/98) C:\\Users\\admin\\Downloads\\WhatsApp Video 2025-04-17 at 3.34.13 PM.mp4: 640x384 3 normals, 1 suspicious, 9.1ms\n",
      "video 1/1 (frame 96/98) C:\\Users\\admin\\Downloads\\WhatsApp Video 2025-04-17 at 3.34.13 PM.mp4: 640x384 2 normals, 1 suspicious, 9.9ms\n",
      "video 1/1 (frame 97/98) C:\\Users\\admin\\Downloads\\WhatsApp Video 2025-04-17 at 3.34.13 PM.mp4: 640x384 3 normals, 9.3ms\n",
      "video 1/1 (frame 98/98) C:\\Users\\admin\\Downloads\\WhatsApp Video 2025-04-17 at 3.34.13 PM.mp4: 640x384 2 normals, 9.9ms\n",
      "Speed: 2.5ms preprocess, 10.8ms inference, 1.9ms postprocess per image at shape (1, 3, 640, 384)\n",
      "Results saved to \u001b[1mruns\\detect\\predict18\u001b[0m\n"
     ]
    }
   ],
   "source": [
    "# Use raw string literal for the path\n",
    "model = YOLO(r\"D:\\major_project_sus\\runs\\detect\\train2\\weights\\best.pt\")  # Using raw string\n",
    "\n",
    "# Or use double backslashes\n",
    "model = YOLO(\"D:\\\\major_project_sus\\\\runs\\\\detect\\\\train2\\\\weights\\\\best.pt\")  # Using double backslashes\n",
    "\n",
    "# Now run inference on your video\n",
    "results = model.predict(\n",
    "    source=r\"C:\\Users\\admin\\Downloads\\WhatsApp Video 2025-04-17 at 3.34.13 PM.mp4\", \n",
    "    save=True, \n",
    "    conf=0.25\n",
    ")\n"
   ]
  }
 ],
 "metadata": {
  "kernelspec": {
   "display_name": "base",
   "language": "python",
   "name": "python3"
  },
  "language_info": {
   "codemirror_mode": {
    "name": "ipython",
    "version": 3
   },
   "file_extension": ".py",
   "mimetype": "text/x-python",
   "name": "python",
   "nbconvert_exporter": "python",
   "pygments_lexer": "ipython3",
   "version": "3.11.5"
  }
 },
 "nbformat": 4,
 "nbformat_minor": 5
}
